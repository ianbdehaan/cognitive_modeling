{
 "cells": [
  {
   "cell_type": "markdown",
   "id": "dde7abb5-89b2-4331-93b1-2763417b8c7c",
   "metadata": {
    "editable": true,
    "slideshow": {
     "slide_type": ""
    },
    "tags": []
   },
   "source": [
    "\n",
    "# PART II\n",
    "## Parameter recovery, model validation, bootstrap\n",
    "\n",
    "**In this tutorial, we will see how to:**\n",
    "\n",
    "- Validate the modeling results against experimental data\n",
    "- Test model recovery\n",
    "- Use bootstrapping to estimate the uncertainty of fitted model parameters\n"
   ]
  },
  {
   "cell_type": "code",
   "execution_count": 1,
   "id": "9cfd2112-b239-4b11-9ccf-bf22e14f480f",
   "metadata": {},
   "outputs": [],
   "source": [
    "# # define the github path and authorization token\n",
    "# RAW_GITHUB_PATH = 'https://raw.githubusercontent.com/bambschool/BAMB2024/main/1-modeling_101/'\n",
    "\n",
    "# # define the list of files to be downloaded\n",
    "# files = ['tutorial_1_lib.py']\n",
    "\n",
    "# for file in files:\n",
    "#   !wget -O {file} \"{RAW_GITHUB_PATH}{file}\""
   ]
  },
  {
   "cell_type": "code",
   "execution_count": 2,
   "id": "c6a119bd-f9e8-45e6-8c2b-c06a54ae5b1f",
   "metadata": {},
   "outputs": [],
   "source": [
    "# import packages\n",
    "import numpy as np\n",
    "import pandas as pd\n",
    "import matplotlib.pyplot as plt\n",
    "from scipy.stats import norm\n",
    "from scipy.stats import pearsonr\n",
    "import scipy.optimize as optimize\n",
    "\n",
    "from tutorial_1_lib import *"
   ]
  },
  {
   "cell_type": "markdown",
   "id": "029078d0-8340-4301-89ca-f130c816da6a",
   "metadata": {},
   "source": [
    "**We use model B to generate fake data and in the following we assume that this is our actual experimental data.**"
   ]
  },
  {
   "cell_type": "code",
   "execution_count": 3,
   "id": "9fd75bb6-18f2-47c6-a499-2c2687ca5a43",
   "metadata": {},
   "outputs": [],
   "source": [
    "\n",
    "# generate fake data\n",
    "n = 2500 # number of trials\n",
    "stim_values = [-3, -2, -1, -.5, 0,.5, 1, 2, 3] # all possible values of stimulus evidence (i.e. signed stim strength)\n",
    "# parameters of model B\n",
    "sigma = 1 # decision noise\n",
    "Lambda = 0.2 # proportion of lapses\n",
    "#first generate experimental conditions for each trial\n",
    "c = np.random.choice(a=['control', 'manipulation'], size=n) # condition\n",
    "s = np.random.choice(a=stim_values, size=n) #stimulus evidence\n",
    "#simulate model\n",
    "r = simulate_modelB(s, c, sigma_d=sigma, Lambda=Lambda)\n",
    "exp_data = pd.DataFrame({'stimulus': s, 'condition':c, 'response':r})\n"
   ]
  },
  {
   "cell_type": "markdown",
   "id": "9072666a-0ec0-493d-8587-da65eb463362",
   "metadata": {},
   "source": [
    "---\n",
    "# II.1 Model validation\n",
    "\n",
    "\n",
    "As a very simple example for model validation, we will fit model A and B to the experimental data and compare how well the best-fitting model fits the psychometric curve.\n",
    "\n",
    "**Fit model B to the experimental data and show the model result and the psychometric curve.**\n"
   ]
  },
  {
   "cell_type": "code",
   "execution_count": 4,
   "id": "dcea98ec-3518-4b12-9173-4ae6526533a7",
   "metadata": {},
   "outputs": [
    {
     "data": {
      "image/png": "[encoded data removed]",
      "text/plain": [
       "<Figure size 640x480 with 1 Axes>"
      ]
     },
     "metadata": {},
     "output_type": "display_data"
    }
   ],
   "source": [
    "\n",
    "# fit model B\n",
    "p_opt = optimize.minimize(lambda pp: -LogLikelihood_modelB(exp_data, pp[0], pp[1]), x0=[0.75, 0.1], bounds=[(0.1, 10), (0.01, 1)]).x\n",
    "\n",
    "# Retrieve the optimized parameters\n",
    "(sigma_d_hat, Lambda_hat) = p_opt\n",
    "\n",
    "# plot model predictions\n",
    "plot_model(lambda s,c: p_modelB(s,c,sigma_d=sigma_d_hat, Lambda=Lambda_hat))\n",
    "\n",
    "# plot psychometric curve on top\n",
    "plot_data_psychometric(exp_data)\n"
   ]
  },
  {
   "cell_type": "markdown",
   "id": "de116b21-2f5a-4011-b651-ab0b9f0ebf75",
   "metadata": {},
   "source": [
    "\n",
    "**Now fit model A to the experimental data and compare to the result obtained above.**\n"
   ]
  },
  {
   "cell_type": "code",
   "execution_count": null,
   "id": "f1b09d40-4261-49a1-be53-20590297fad4",
   "metadata": {},
   "outputs": [],
   "source": []
  },
  {
   "cell_type": "markdown",
   "id": "1e08ee0b-5d87-4427-8fd2-70799964f8c3",
   "metadata": {},
   "source": [
    "\n",
    "Fitting the experimental data with model A that does not include lapses but a different $\\sigma_m$, we get a worse fit for all the data points and the slope of the fit does not seem right.\n",
    "\n",
    "Of course, this is trivial here because we now that the \"experimental data\" actually includes lapses. It is important to note that not including a lapse rate can lead to real-world problems when fitting psychometric functions. We will talk more about this further below.\n"
   ]
  },
  {
   "cell_type": "markdown",
   "id": "57a7e19a-008c-4743-88df-1093442b541c",
   "metadata": {},
   "source": [
    "In general, it is a good idea to show not only that the best-fitting model validates, but that the alternative models do NOT validate (often many models are validated on simple behavioral metrics, and we need of specific patterns of behavior to arbitrate between different models)."
   ]
  },
  {
   "cell_type": "markdown",
   "id": "a87803a4-5c1a-4e4d-af41-f6efa873c2ac",
   "metadata": {},
   "source": [
    "---\n",
    "# II.2. Parameter recovery\n"
   ]
  },
  {
   "cell_type": "markdown",
   "id": "22d3faf5-3641-4140-b6b7-5a6ead827dd0",
   "metadata": {},
   "source": [
    "## Simulation and fitting"
   ]
  },
  {
   "cell_type": "markdown",
   "id": "6f5e0c1d-51e1-4e35-b6ec-cca7eeaa8a4b",
   "metadata": {},
   "source": [
    "**Simulate Model B to generate synthetic data, then fit these data.**\n",
    "\n",
    "We will do this step by step. We will first simulate model B using `simulate_modelB` with different random parameters $\\sigma_d$ and $\\lambda$. Note that the parameter recovery result will depend on the probability distribution used to sample the parameters.\n",
    "\n",
    "After simulating the model, we will fit the parameters using a maximum likelihood approach to get estimated values $\\hat{\\sigma_d}$ and $\\hat{\\lambda}$. "
   ]
  },
  {
   "cell_type": "code",
   "execution_count": 5,
   "id": "47279f7a-ba0f-4971-86aa-3fde519df3b0",
   "metadata": {},
   "outputs": [],
   "source": [
    "# loop over at least 100 repetitions\n",
    "n_rep_sqrt = 20\n",
    "n_rep = n_rep_sqrt ** 2\n",
    "\n",
    "# specify parameters of the experiment\n",
    "n = 2500  # number of trials\n",
    "stim_values = [-3, -2, -1, -.5, 0,.5, 1, 2, 3]  # all possible values of stimulus evidence (i.e. signed stim strength)\n",
    "\n",
    "# specify plaubsible range of model parameters\n",
    "Lambda = np.reshape(np.repeat(np.linspace(0.005, 0.96, n_rep_sqrt), n_rep_sqrt, axis = 0), (n_rep, ))\n",
    "sigma = np.reshape(np.tile(np.linspace(0.3, 3.0, n_rep_sqrt), n_rep_sqrt), (n_rep, ))\n",
    "bounds = [(sigma[0], sigma[-1]), (Lambda[0], Lambda[-1])]\n",
    "\n",
    "pars = np.zeros((n_rep,2))\n",
    "for i in range(n_rep):\n",
    "    # first generate experimental conditions for each trial\n",
    "    c = np.random.choice(a=['control', 'manipulation'], size=n) # condition\n",
    "    s = np.random.choice(a=stim_values, size=n) #stimulus evidence\n",
    "\n",
    "    # simulate model B\n",
    "    data = simulate_modelB(s, c, sigma[i], Lambda[i])\n",
    "    df = pd.DataFrame({'stimulus': s, 'condition':c, 'response':data}) \n",
    "    \n",
    "    # fit model B\n",
    "    result = optimize.minimize(lambda pp:  -LogLikelihood_modelB(df, pp[0], pp[1]), x0=[1, 0.5], bounds=bounds)\n",
    "    # store fitted parameters\n",
    "    pars[i,0] = result.x[0]\n",
    "    pars[i,1] = result.x[1]\n"
   ]
  },
  {
   "cell_type": "markdown",
   "id": "5848b36c-0d96-4350-8037-85770190ca77",
   "metadata": {},
   "source": [
    "## Parameter recovery plots"
   ]
  },
  {
   "cell_type": "markdown",
   "id": "a97e25aa-736a-48f8-b73d-fd591f07acf3",
   "metadata": {},
   "source": [
    "We would like to visualise the fitted parameter values as a function of the generating parameter values. We will have one data point for each iteration. Here, you should use the generating values and the fitted values that you have stored in the section above. You should create two subplots, one for each parameter. Do you observe a fairly good agreement between the simulated and fit parameter values?"
   ]
  },
  {
   "cell_type": "code",
   "execution_count": 6,
   "id": "3f7415e0-7e2c-4633-bb1a-f05ed95a0ec1",
   "metadata": {},
   "outputs": [
    {
     "data": {
      "image/png": "[encoded data removed]",
      "text/plain": [
       "<Figure size 900x300 with 3 Axes>"
      ]
     },
     "metadata": {},
     "output_type": "display_data"
    }
   ],
   "source": [
    "fig, ax = plt.subplots(1, 3, figsize=(9,3))\n",
    "ax[0].scatter(sigma, pars[:,0])\n",
    "ax[0].plot([0.5,3],[0.5,3], c='r')\n",
    "ax[1].scatter(Lambda, pars[:,1])\n",
    "ax[1].plot([0,1],[0,1], c='r')\n",
    "ax[2].scatter(pars[:,0], pars[:,1])\n",
    "plt.show()"
   ]
  },
  {
   "cell_type": "markdown",
   "id": "dcce7262-9d90-4309-8dc0-8bdebecdf404",
   "metadata": {},
   "source": [
    "\n",
    "These plots show strong correlation between true and fitted paramters and also reveal whether the correlation holds in some parameter regimes but not others. It also reveals any existing bias (e.g. a tendency to recover higher or lower values in average) which does not seem to be the case here.\n",
    "\n",
    "Depending on the parameter values that we obtain when fitting human behavior, the worse correspondence in some parameter range may or may not be problematic. It is be a good idea to use the range of parameters obtained from fitting the real data to test the quality of recovery within the range that matters. \n",
    "\n",
    "Reliable parameter recovery is particularly important for look at inter-individual differences in relation to questionnaire scores or brain data.\n"
   ]
  },
  {
   "cell_type": "markdown",
   "id": "6033cf92-748f-4433-ab00-01781f07ea85",
   "metadata": {},
   "source": [
    " **Optional:** Include a third subplot which shows a scatterplot of the fitted parameters $\\sigma$ and $\\lambda$. Also compute the correlation between the two parameters. How do you interpret the result?"
   ]
  },
  {
   "cell_type": "code",
   "execution_count": 7,
   "id": "c344bbac-fd0f-4b2d-9fd5-dc01671bdc12",
   "metadata": {},
   "outputs": [
    {
     "name": "stdout",
     "output_type": "stream",
     "text": [
      "0.9903499490275384\n"
     ]
    }
   ],
   "source": [
    "from scipy.stats import linregress\n",
    "print(linregress(*(pars.T)).pvalue)"
   ]
  },
  {
   "cell_type": "markdown",
   "id": "da84a149-d045-492b-a4a0-f650a30ca29c",
   "metadata": {},
   "source": [
    "This entails that we could find this sample or more extreme ones for an uncorrelated population in 86% of the trials. Therefore, no correlation can be inferred."
   ]
  },
  {
   "cell_type": "markdown",
   "id": "a83f1e8b-8166-4b96-a5c2-491972fb8e61",
   "metadata": {},
   "source": [
    "The fitted parameters are not correlated, indicating that our parameters are identifyable (they cannot be trade-off against each other)"
   ]
  },
  {
   "cell_type": "markdown",
   "id": "2aa96734-6ce9-4176-b91a-90d56e09d000",
   "metadata": {},
   "source": [
    "---\n",
    "# II.3 Parameter uncertainty estimation (bootstrap)"
   ]
  },
  {
   "cell_type": "markdown",
   "id": "1b144676-66c1-4833-8855-657e1118a9e5",
   "metadata": {},
   "source": [
    "\n",
    "[Bootstrapping](https://en.wikipedia.org/wiki/Bootstrapping_(statistics)) is a widely applicable method to assess confidence/uncertainty about estimated parameters, it was originally [proposed](https://projecteuclid.org/euclid.aos/1176344552) by [Bradley Efron](https://en.wikipedia.org/wiki/Bradley_Efron). The idea is to generate many new synthetic datasets from the initial true dataset by randomly sampling from it, then finding estimators for each one of these new datasets, and finally looking at the distribution of all these estimators to quantify our confidence.\n",
    "\n",
    "Note that each new resampled datasets will be the same size as our original one, with the new data points sampled with replacement i.e. we can repeat the same data point multiple times. Also note that in practice we need a lot of resampled datasets.\n",
    "\n",
    "To explore this idea, we will work againg wit the \"experimental data\" generated above (the DataFrame `exp_data`).\n",
    "\n",
    "\n",
    "**Generate resampled data and display the psychometric curves for the original and the resampled data.** Repeat this several times to get a feeling for the \"randomness\", that is how different the resampled data is from the original data.\n"
   ]
  },
  {
   "cell_type": "code",
   "execution_count": 8,
   "id": "8d1dc31a-3769-415b-b95e-b7d51cffc178",
   "metadata": {},
   "outputs": [
    {
     "data": {
      "image/png": "[encoded data removed]",
      "text/plain": [
       "<Figure size 640x480 with 1 Axes>"
      ]
     },
     "metadata": {},
     "output_type": "display_data"
    }
   ],
   "source": [
    "\n",
    "bootstrap_sample = exp_data.sample(n=len(exp_data), replace=True)\n",
    "\n",
    "# plot psychometric curve\n",
    "plot_data_psychometric(exp_data)\n",
    "plot_data_psychometric(bootstrap_sample)\n",
    "#plt.legend(('Original','Resampled'));\n"
   ]
  },
  {
   "cell_type": "markdown",
   "id": "1d216e24-7958-45d9-bfba-30838074ee04",
   "metadata": {},
   "source": [
    "## Generate bootstrap estimates\n",
    "\n",
    "In this exercise you will implement a method to run the bootstrap process of generating a set of fitted parameters from a dataset.\n"
   ]
  },
  {
   "cell_type": "markdown",
   "id": "ced3b6e6-9b09-465c-bb31-53e9c7be3981",
   "metadata": {},
   "source": [
    "We will do this for model B, that is, we will fit the model B and return an array with the fitted parameters $\\sigma_m$ and $\\lambda$.\n"
   ]
  },
  {
   "cell_type": "code",
   "execution_count": 9,
   "id": "926bea3c-79a2-42e7-8960-341d60d22a58",
   "metadata": {},
   "outputs": [],
   "source": [
    "def bootstrap_estimates(data, n=2000, bounds=[(0.3, 5), (0.005, 0.96)]):\n",
    "  \"\"\"Generate a set of theta_hat estimates using the bootstrap method.\n",
    "  Args:\n",
    "    data (DataFrame)\n",
    "    n (int): The number of estimates to compute\n",
    "  Returns:\n",
    "    ndarray: An array of estimated parameters with size (n,)\n",
    "  \"\"\"\n",
    "\n",
    "  theta_hats = np.zeros((n,2))\n",
    "\n",
    "  # Loop over number of estimates\n",
    "  for i in range(n):\n",
    "    # Resample data\n",
    "    bootstrap_sample = data.sample(n=len(data), replace=True)\n",
    "    \n",
    "    # Compute theta_hat for this sample\n",
    "    theta_hats[i,:] = optimize.minimize(lambda pp: -LogLikelihood_modelB(bootstrap_sample, pp[0], pp[1]), x0=(1, 0.5), bounds=bounds).x\n",
    "\n",
    "  return theta_hats\n",
    "\n",
    "# Get bootstrap estimates (generate only 3 bootstrap samples for a quick check if everything works)\n",
    "theta_hats = bootstrap_estimates(exp_data, n=500)"
   ]
  },
  {
   "cell_type": "markdown",
   "id": "821c863c-54be-4868-8e5b-e90294e96288",
   "metadata": {},
   "source": [
    "## Plot bootstrap samples and confidence intervals\n",
    "\n",
    "Let us now quantify how uncertain our estimated parameters ($\\sigma_m$ and $\\lambda$) are. We do so by computing confidence intervals from our bootstrapped estimates. The most direct approach is to compute percentiles from the empirical distribution of bootstrapped estimates. Note that this is widely applicable as we are not assuming that this empirical distribution is Gaussian.\n"
   ]
  },
  {
   "cell_type": "code",
   "execution_count": 19,
   "id": "bcb082eb-b76b-4e69-a584-86bb70317aa0",
   "metadata": {},
   "outputs": [
    {
     "name": "stdout",
     "output_type": "stream",
     "text": [
      "[[0.94723017 1.1093324 ]\n",
      " [0.14472969 0.24430767]]\n"
     ]
    },
    {
     "data": {
      "image/png": "[encoded data removed]",
      "text/plain": [
       "<Figure size 1200x500 with 2 Axes>"
      ]
     },
     "metadata": {},
     "output_type": "display_data"
    }
   ],
   "source": [
    "\n",
    "means = np.mean(theta_hats,axis=0)\n",
    "stds = np.std(theta_hats,axis=0)\n",
    "medians = np.median(theta_hats,axis=0)  # compute medians\n",
    "CIs = np.array([np.percentile(theta_hats, 2.5, axis=0), np.percentile(theta_hats, 97.5, axis=0)]).T\n",
    "\n",
    "print(CIs)\n",
    "fig, ax = plt.subplots(ncols=2, figsize=(12, 5))\n",
    "\n",
    "for i in range(2):\n",
    "    ax[i].hist(theta_hats[:,i], bins=20, facecolor='C1', alpha=0.75);\n",
    "    ax[i].axvline(medians[i], color='r', label='Median')\n",
    "\n",
    "    # show confidence intervals:\n",
    "    ax[i].axvline(CIs[i][0], color='b', label='95% confidence interval')\n",
    "    ax[i].axvline(CIs[i][1], color='b')\n",
    "    \n",
    "    ax[i].legend()\n",
    "    ax[i].set(\n",
    "        title='Bootstrapped Confidence Interval for parameter '+str(i),\n",
    "        xlabel=r'$\\hat{{w_' + str(i) +'}}$',\n",
    "        ylabel='count')\n"
   ]
  },
  {
   "cell_type": "markdown",
   "id": "4c91aa4b-ac55-4b3a-90ca-861264c30f44",
   "metadata": {},
   "source": [
    "## Illustrate bootstrap estimates (show fitted psychometric functions)\n",
    "\n",
    "Now that we have our bootstrap estimates, we can visualize all the potential models (models computed with different resampling) together to see how distributed they are. "
   ]
  },
  {
   "cell_type": "code",
   "execution_count": 23,
   "id": "54a90903-8ec9-415e-a2d2-960fdbbd51d3",
   "metadata": {},
   "outputs": [
    {
     "data": {
      "image/png": "[encoded data removed]",
      "text/plain": [
       "<Figure size 640x480 with 1 Axes>"
      ]
     },
     "metadata": {},
     "output_type": "display_data"
    }
   ],
   "source": [
    "\n",
    "fig, ax = plt.subplots()\n",
    "\n",
    "# plot all model fits obtained from bootstrap samples\n",
    "for i, theta_hat in enumerate(theta_hats):\n",
    "    plot_model(lambda s,c: p_modelB(s,c,sigma_d=theta_hat[0], Lambda=theta_hat[1]))\n",
    "\n",
    "# make the lines transparant to get a feeling for the distribution of model fits\n",
    "for line in plt.gca().lines:\n",
    "    line.set_alpha(0.005)\n",
    "\n",
    "plot_data_psychometric(exp_data)\n"
   ]
  },
  {
   "cell_type": "markdown",
   "id": "69f6c9a6-ef3f-4830-8609-5a4229f752c1",
   "metadata": {},
   "source": [
    "\n",
    "## Summary of bootstrapping\n",
    "\n",
    "- Bootstrapping is a resampling procedure that allows to build confidence intervals around inferred parameter values\n",
    "- it is a widely applicable and very practical method that relies on computational power and pseudo-random number generators (as opposed to more classical approaches than depend on analytical derivations)\n",
    "- is non-parametric: the confidence intervals provided by statistical libraries are not always accurate because they assume an underlying gaussian distribution for parameters, which is not always the case."
   ]
  },
  {
   "cell_type": "markdown",
   "id": "cb95fb07-5287-408e-bfa5-fe2b5e0869c5",
   "metadata": {},
   "source": [
    "---\n",
    "# Optional part: Parameter trade-off between $\\lambda$ and $\\sigma$\n"
   ]
  },
  {
   "cell_type": "markdown",
   "id": "9385fdf0-aee0-4953-b48c-d2d61a788c72",
   "metadata": {},
   "source": [
    "Above we have run a parameter recover analysis for model B that has a fixed $\\sigma_c$ across the two experimental condtions, and only $\\lambda$ is different between the conditions. Here, we will consider a more interesting example, let's call it model C. In model C, we also allow $\\sigma_m$ to change between conditions, that is in the manipulated condition is now described by a $\\lambda$ and a $\\sigma_m$."
   ]
  },
  {
   "cell_type": "markdown",
   "id": "0566aec6-00db-47db-a76f-1d5a467662c5",
   "metadata": {},
   "source": [
    "To make the above code direclty reusable, we simplify a bit and only consider \"manipulation\" trials."
   ]
  },
  {
   "cell_type": "markdown",
   "id": "18ff0b6e-ee76-4a59-88e0-19de4a0f6faf",
   "metadata": {},
   "source": [
    "**What do you observe, when using model B to fit the data obtained by model C?**"
   ]
  },
  {
   "cell_type": "markdown",
   "id": "e7a77cd6",
   "metadata": {
    "editable": true,
    "slideshow": {
     "slide_type": ""
    },
    "tags": []
   },
   "source": [
    "\n",
    "# PART II\n",
    "## Parameter recovery, model validation, bootstrap\n",
    "\n",
    "**In this tutorial, we will see how to:**\n",
    "\n",
    "- Validate the modeling results against experimental data\n",
    "- Test model recovery\n",
    "- Use bootstrapping to estimate the uncertainty of fitted model parameters\n"
   ]
  },
  {
   "cell_type": "code",
   "execution_count": null,
   "id": "22d09ab0",
   "metadata": {},
   "outputs": [],
   "source": [
    "# # define the github path and authorization token\n",
    "# RAW_GITHUB_PATH = 'https://raw.githubusercontent.com/bambschool/BAMB2024/main/1-modeling_101/'\n",
    "\n",
    "# # define the list of files to be downloaded\n",
    "# files = ['tutorial_1_lib.py']\n",
    "\n",
    "# for file in files:\n",
    "#   !wget -O {file} \"{RAW_GITHUB_PATH}{file}\""
   ]
  },
  {
   "cell_type": "code",
   "execution_count": null,
   "id": "f2b47480",
   "metadata": {},
   "outputs": [],
   "source": [
    "# import packages\n",
    "import numpy as np\n",
    "import pandas as pd\n",
    "import matplotlib.pyplot as plt\n",
    "from scipy.stats import norm\n",
    "from scipy.stats import pearsonr\n",
    "import scipy.optimize as optimize\n",
    "\n",
    "from tutorial_1_lib import *"
   ]
  },
  {
   "cell_type": "markdown",
   "id": "a5d88217",
   "metadata": {},
   "source": [
    "**We use model B to generate fake data and in the following we assume that this is our actual experimental data.**"
   ]
  },
  {
   "cell_type": "code",
   "execution_count": null,
   "id": "31e7ba84",
   "metadata": {},
   "outputs": [],
   "source": [
    "\n",
    "# generate fake data\n",
    "n = 2500 # number of trials\n",
    "stim_values = [-3, -2, -1, -.5, 0,.5, 1, 2, 3] # all possible values of stimulus evidence (i.e. signed stim strength)\n",
    "# parameters of model B\n",
    "sigma = 1 # decision noise\n",
    "Lambda = 0.2 # proportion of lapses\n",
    "#first generate experimental conditions for each trial\n",
    "c = np.random.choice(a=['control', 'manipulation'], size=n) # condition\n",
    "s = np.random.choice(a=stim_values, size=n) #stimulus evidence\n",
    "#simulate model\n",
    "r = simulate_modelB(s, c, sigma_d=sigma, Lambda=Lambda)\n",
    "exp_data = pd.DataFrame({'stimulus': s, 'condition':c, 'response':r})\n"
   ]
  },
  {
   "cell_type": "markdown",
   "id": "48173fce",
   "metadata": {},
   "source": [
    "---\n",
    "# II.1 Model validation\n",
    "\n",
    "\n",
    "As a very simple example for model validation, we will fit model A and B to the experimental data and compare how well the best-fitting model fits the psychometric curve.\n",
    "\n",
    "**Fit model B to the experimental data and show the model result and the psychometric curve.**\n"
   ]
  },
  {
   "cell_type": "code",
   "execution_count": null,
   "id": "cb27bb32",
   "metadata": {},
   "outputs": [],
   "source": [
    "\n",
    "# fit model B\n",
    "p_opt = optimize.minimize(lambda pp: -LogLikelihood_modelB(exp_data, pp[0], pp[1]), x0=[0.75, 0.1], bounds=[(0.1, 10), (0.01, 1)]).x\n",
    "\n",
    "# Retrieve the optimized parameters\n",
    "(sigma_d_hat, Lambda_hat) = p_opt\n",
    "\n",
    "# plot model predictions\n",
    "plot_model(lambda s,c: p_modelB(s,c,sigma_d=sigma_d_hat, Lambda=Lambda_hat))\n",
    "\n",
    "# plot psychometric curve on top\n",
    "plot_data_psychometric(exp_data)\n"
   ]
  },
  {
   "cell_type": "markdown",
   "id": "80d457d4",
   "metadata": {},
   "source": [
    "\n",
    "**Now fit model A to the experimental data and compare to the result obtained above.**\n"
   ]
  },
  {
   "cell_type": "code",
   "execution_count": null,
   "id": "ad394b9d",
   "metadata": {},
   "outputs": [],
   "source": []
  },
  {
   "cell_type": "markdown",
   "id": "71847ced",
   "metadata": {},
   "source": [
    "\n",
    "Fitting the experimental data with model A that does not include lapses but a different $\\sigma_m$, we get a worse fit for all the data points and the slope of the fit does not seem right.\n",
    "\n",
    "Of course, this is trivial here because we now that the \"experimental data\" actually includes lapses. It is important to note that not including a lapse rate can lead to real-world problems when fitting psychometric functions. We will talk more about this further below.\n"
   ]
  },
  {
   "cell_type": "markdown",
   "id": "324c1ebd",
   "metadata": {},
   "source": [
    "In general, it is a good idea to show not only that the best-fitting model validates, but that the alternative models do NOT validate (often many models are validated on simple behavioral metrics, and we need of specific patterns of behavior to arbitrate between different models)."
   ]
  },
  {
   "cell_type": "markdown",
   "id": "791b0868",
   "metadata": {},
   "source": [
    "---\n",
    "# II.2. Parameter recovery\n"
   ]
  },
  {
   "cell_type": "markdown",
   "id": "8ec4540a",
   "metadata": {},
   "source": [
    "## Simulation and fitting"
   ]
  },
  {
   "cell_type": "markdown",
   "id": "7f54902e",
   "metadata": {},
   "source": [
    "**Simulate Model B to generate synthetic data, then fit these data.**\n",
    "\n",
    "We will do this step by step. We will first simulate model B using `simulate_modelB` with different random parameters $\\sigma_d$ and $\\lambda$. Note that the parameter recovery result will depend on the probability distribution used to sample the parameters.\n",
    "\n",
    "After simulating the model, we will fit the parameters using a maximum likelihood approach to get estimated values $\\hat{\\sigma_d}$ and $\\hat{\\lambda}$. "
   ]
  },
  {
   "cell_type": "code",
   "execution_count": null,
   "id": "38deeda4",
   "metadata": {},
   "outputs": [],
   "source": [
    "# loop over at least 100 repetitions\n",
    "n_rep_sqrt = 20\n",
    "n_rep = n_rep_sqrt ** 2\n",
    "\n",
    "# specify parameters of the experiment\n",
    "n = 2500  # number of trials\n",
    "stim_values = [-3, -2, -1, -.5, 0,.5, 1, 2, 3]  # all possible values of stimulus evidence (i.e. signed stim strength)\n",
    "\n",
    "# specify plaubsible range of model parameters\n",
    "Lambda = np.reshape(np.repeat(np.linspace(0.005, 0.96, n_rep_sqrt), n_rep_sqrt, axis = 0), (n_rep, ))\n",
    "sigma = np.reshape(np.tile(np.linspace(0.3, 3.0, n_rep_sqrt), n_rep_sqrt), (n_rep, ))\n",
    "bounds = [(sigma[0], sigma[-1]), (Lambda[0], Lambda[-1])]\n",
    "\n",
    "pars = np.zeros((n_rep,2))\n",
    "for i in range(n_rep):\n",
    "    # first generate experimental conditions for each trial\n",
    "    c = np.random.choice(a=['control', 'manipulation'], size=n) # condition\n",
    "    s = np.random.choice(a=stim_values, size=n) #stimulus evidence\n",
    "\n",
    "    # simulate model B\n",
    "    data = simulate_modelB(s, c, sigma[i], Lambda[i])\n",
    "    df = pd.DataFrame({'stimulus': s, 'condition':c, 'response':data}) \n",
    "    \n",
    "    # fit model B\n",
    "    result = optimize.minimize(lambda pp:  -LogLikelihood_modelB(df, pp[0], pp[1]), x0=[1, 0.5], bounds=bounds)\n",
    "    # store fitted parameters\n",
    "    pars[i,0] = result.x[0]\n",
    "    pars[i,1] = result.x[1]\n"
   ]
  },
  {
   "cell_type": "markdown",
   "id": "e20440f5",
   "metadata": {},
   "source": [
    "## Parameter recovery plots"
   ]
  },
  {
   "cell_type": "markdown",
   "id": "a5088ef6",
   "metadata": {},
   "source": [
    "We would like to visualise the fitted parameter values as a function of the generating parameter values. We will have one data point for each iteration. Here, you should use the generating values and the fitted values that you have stored in the section above. You should create two subplots, one for each parameter. Do you observe a fairly good agreement between the simulated and fit parameter values?"
   ]
  },
  {
   "cell_type": "code",
   "execution_count": null,
   "id": "1f4b05b4",
   "metadata": {},
   "outputs": [],
   "source": [
    "fig, ax = plt.subplots(1, 3, figsize=(9,3))\n",
    "ax[0].scatter(sigma, pars[:,0])\n",
    "ax[0].plot([0.5,3],[0.5,3], c='r')\n",
    "ax[1].scatter(Lambda, pars[:,1])\n",
    "ax[1].plot([0,1],[0,1], c='r')\n",
    "ax[2].scatter(pars[:,0], pars[:,1])\n",
    "plt.show()"
   ]
  },
  {
   "cell_type": "markdown",
   "id": "8dbdc750",
   "metadata": {},
   "source": [
    "\n",
    "These plots show strong correlation between true and fitted paramters and also reveal whether the correlation holds in some parameter regimes but not others. It also reveals any existing bias (e.g. a tendency to recover higher or lower values in average) which does not seem to be the case here.\n",
    "\n",
    "Depending on the parameter values that we obtain when fitting human behavior, the worse correspondence in some parameter range may or may not be problematic. It is be a good idea to use the range of parameters obtained from fitting the real data to test the quality of recovery within the range that matters. \n",
    "\n",
    "Reliable parameter recovery is particularly important for look at inter-individual differences in relation to questionnaire scores or brain data.\n"
   ]
  },
  {
   "cell_type": "markdown",
   "id": "98704f9d",
   "metadata": {},
   "source": [
    " **Optional:** Include a third subplot which shows a scatterplot of the fitted parameters $\\sigma$ and $\\lambda$. Also compute the correlation between the two parameters. How do you interpret the result?"
   ]
  },
  {
   "cell_type": "code",
   "execution_count": null,
   "id": "b32a1758",
   "metadata": {},
   "outputs": [],
   "source": [
    "from scipy.stats import linregress\n",
    "print(linregress(*(pars.T)).pvalue)"
   ]
  },
  {
   "cell_type": "markdown",
   "id": "d414d890",
   "metadata": {},
   "source": [
    "This entails that we could find this sample or more extreme ones for an uncorrelated population in 86% of the trials. Therefore, no correlation can be inferred."
   ]
  },
  {
   "cell_type": "markdown",
   "id": "7959088f",
   "metadata": {},
   "source": [
    "The fitted parameters are not correlated, indicating that our parameters are identifyable (they cannot be trade-off against each other)"
   ]
  },
  {
   "cell_type": "markdown",
   "id": "5c9a306b",
   "metadata": {},
   "source": [
    "---\n",
    "# II.3 Parameter uncertainty estimation (bootstrap)"
   ]
  },
  {
   "cell_type": "markdown",
   "id": "2f2407b9",
   "metadata": {},
   "source": [
    "\n",
    "[Bootstrapping](https://en.wikipedia.org/wiki/Bootstrapping_(statistics)) is a widely applicable method to assess confidence/uncertainty about estimated parameters, it was originally [proposed](https://projecteuclid.org/euclid.aos/1176344552) by [Bradley Efron](https://en.wikipedia.org/wiki/Bradley_Efron). The idea is to generate many new synthetic datasets from the initial true dataset by randomly sampling from it, then finding estimators for each one of these new datasets, and finally looking at the distribution of all these estimators to quantify our confidence.\n",
    "\n",
    "Note that each new resampled datasets will be the same size as our original one, with the new data points sampled with replacement i.e. we can repeat the same data point multiple times. Also note that in practice we need a lot of resampled datasets.\n",
    "\n",
    "To explore this idea, we will work againg wit the \"experimental data\" generated above (the DataFrame `exp_data`).\n",
    "\n",
    "\n",
    "**Generate resampled data and display the psychometric curves for the original and the resampled data.** Repeat this several times to get a feeling for the \"randomness\", that is how different the resampled data is from the original data.\n"
   ]
  },
  {
   "cell_type": "code",
   "execution_count": null,
   "id": "ea53cc21",
   "metadata": {},
   "outputs": [],
   "source": [
    "\n",
    "bootstrap_sample = exp_data.sample(n=len(exp_data), replace=True)\n",
    "\n",
    "# plot psychometric curve\n",
    "plot_data_psychometric(exp_data)\n",
    "plot_data_psychometric(bootstrap_sample)\n",
    "#plt.legend(('Original','Resampled'));\n"
   ]
  },
  {
   "cell_type": "markdown",
   "id": "d9423729",
   "metadata": {},
   "source": [
    "## Generate bootstrap estimates\n",
    "\n",
    "In this exercise you will implement a method to run the bootstrap process of generating a set of fitted parameters from a dataset.\n"
   ]
  },
  {
   "cell_type": "markdown",
   "id": "b77a8527",
   "metadata": {},
   "source": [
    "We will do this for model B, that is, we will fit the model B and return an array with the fitted parameters $\\sigma_m$ and $\\lambda$.\n"
   ]
  },
  {
   "cell_type": "code",
   "execution_count": null,
   "id": "662472ad",
   "metadata": {},
   "outputs": [],
   "source": [
    "def bootstrap_estimates(data, n=2000, bounds=[(0.3, 5), (0.005, 0.96)]):\n",
    "  \"\"\"Generate a set of theta_hat estimates using the bootstrap method.\n",
    "  Args:\n",
    "    data (DataFrame)\n",
    "    n (int): The number of estimates to compute\n",
    "  Returns:\n",
    "    ndarray: An array of estimated parameters with size (n,)\n",
    "  \"\"\"\n",
    "\n",
    "  theta_hats = np.zeros((n,2))\n",
    "\n",
    "  # Loop over number of estimates\n",
    "  for i in range(n):\n",
    "    # Resample data\n",
    "    bootstrap_sample = data.sample(n=len(data), replace=True)\n",
    "    \n",
    "    # Compute theta_hat for this sample\n",
    "    theta_hats[i,:] = optimize.minimize(lambda pp: -LogLikelihood_modelB(bootstrap_sample, pp[0], pp[1]), x0=(1, 0.5), bounds=bounds).x\n",
    "\n",
    "  return theta_hats\n",
    "\n",
    "# Get bootstrap estimates (generate only 3 bootstrap samples for a quick check if everything works)\n",
    "theta_hats = bootstrap_estimates(exp_data, n=500)\n",
    "print(theta_hats)"
   ]
  },
  {
   "cell_type": "markdown",
   "id": "2280d39f",
   "metadata": {},
   "source": [
    "## Plot bootstrap samples and confidence intervals\n",
    "\n",
    "Let us now quantify how uncertain our estimated parameters ($\\sigma_m$ and $\\lambda$) are. We do so by computing confidence intervals from our bootstrapped estimates. The most direct approach is to compute percentiles from the empirical distribution of bootstrapped estimates. Note that this is widely applicable as we are not assuming that this empirical distribution is Gaussian.\n"
   ]
  },
  {
   "cell_type": "code",
   "execution_count": null,
   "id": "328efaf5",
   "metadata": {},
   "outputs": [],
   "source": [
    "\n",
    "means = np.mean(theta_hats,axis=0)\n",
    "stds = np.std(theta_hats,axis=0)\n",
    "medians = ...  # compute medians\n",
    "CIs = ...  # compute 95% confidence intervals\n",
    "\n",
    "fig, ax = plt.subplots(ncols=2, figsize=(12, 5))\n",
    "\n",
    "for i in range(2):\n",
    "    ax[i].hist(theta_hats[:,i], bins=20, facecolor='C1', alpha=0.75);\n",
    "    ax[i].axvline(medians[i], color='r', label='Median')\n",
    "\n",
    "    # show confidence intervals:\n",
    "    # ...\n",
    "    # ...\n",
    "    \n",
    "    ax[i].legend()\n",
    "    ax[i].set(\n",
    "        title='Bootstrapped Confidence Interval for parameter '+str(i),\n",
    "        xlabel=r'$\\hat{{w_' + str(i) +'}}$',\n",
    "        ylabel='count');\n"
   ]
  },
  {
   "cell_type": "markdown",
   "id": "cd0b46b6",
   "metadata": {},
   "source": [
    "## Illustrate bootstrap estimates (show fitted psychometric functions)\n",
    "\n",
    "Now that we have our bootstrap estimates, we can visualize all the potential models (models computed with different resampling) together to see how distributed they are. "
   ]
  },
  {
   "cell_type": "code",
   "execution_count": null,
   "id": "e9026db1",
   "metadata": {},
   "outputs": [],
   "source": [
    "\n",
    "fig, ax = plt.subplots()\n",
    "\n",
    "# plot all model fits obtained from bootstrap samples\n",
    "for i, theta_hat in enumerate(theta_hats):\n",
    "    ...\n",
    "\n",
    "# make the lines transparant to get a feeling for the distribution of model fits\n",
    "for line in plt.gca().lines:\n",
    "    line.set_alpha(0.005)\n",
    "\n",
    "plot_data_psychometric(exp_data)\n"
   ]
  },
  {
   "cell_type": "markdown",
   "id": "aad166ae",
   "metadata": {},
   "source": [
    "\n",
    "## Summary of bootstrapping\n",
    "\n",
    "- Bootstrapping is a resampling procedure that allows to build confidence intervals around inferred parameter values\n",
    "- it is a widely applicable and very practical method that relies on computational power and pseudo-random number generators (as opposed to more classical approaches than depend on analytical derivations)\n",
    "- is non-parametric: the confidence intervals provided by statistical libraries are not always accurate because they assume an underlying gaussian distribution for parameters, which is not always the case."
   ]
  },
  {
   "cell_type": "markdown",
   "id": "9482ea7a",
   "metadata": {},
   "source": [
    "---\n",
    "# Optional part: Parameter trade-off between $\\lambda$ and $\\sigma$\n"
   ]
  },
  {
   "cell_type": "markdown",
   "id": "7f895618",
   "metadata": {},
   "source": [
    "Above we have run a parameter recover analysis for model B that has a fixed $\\sigma_c$ across the two experimental condtions, and only $\\lambda$ is different between the conditions. Here, we will consider a more interesting example, let's call it model C. In model C, we also allow $\\sigma_m$ to change between conditions, that is in the manipulated condition is now described by a $\\lambda$ and a $\\sigma_m$."
   ]
  },
  {
   "cell_type": "markdown",
   "id": "4afabc30",
   "metadata": {},
   "source": [
    "To make the above code direclty reusable, we simplify a bit and only consider \"manipulation\" trials."
   ]
  },
  {
   "cell_type": "markdown",
   "id": "181cb315",
   "metadata": {},
   "source": [
    "**What do you observe, when using model B to fit the data obtained by model C?**"
   ]
  },
  {
   "cell_type": "markdown",
   "id": "10cc32ca",
   "metadata": {
    "editable": true,
    "slideshow": {
     "slide_type": ""
    },
    "tags": []
   },
   "source": [
    "\n",
    "# PART II\n",
    "## Parameter recovery, model validation, bootstrap\n",
    "\n",
    "**In this tutorial, we will see how to:**\n",
    "\n",
    "- Validate the modeling results against experimental data\n",
    "- Test model recovery\n",
    "- Use bootstrapping to estimate the uncertainty of fitted model parameters\n"
   ]
  },
  {
   "cell_type": "code",
   "execution_count": null,
   "id": "4fb20d9d",
   "metadata": {},
   "outputs": [],
   "source": [
    "# # define the github path and authorization token\n",
    "# RAW_GITHUB_PATH = 'https://raw.githubusercontent.com/bambschool/BAMB2024/main/1-modeling_101/'\n",
    "\n",
    "# # define the list of files to be downloaded\n",
    "# files = ['tutorial_1_lib.py']\n",
    "\n",
    "# for file in files:\n",
    "#   !wget -O {file} \"{RAW_GITHUB_PATH}{file}\""
   ]
  },
  {
   "cell_type": "code",
   "execution_count": null,
   "id": "dc81b6ec",
   "metadata": {},
   "outputs": [],
   "source": [
    "# import packages\n",
    "import numpy as np\n",
    "import pandas as pd\n",
    "import matplotlib.pyplot as plt\n",
    "from scipy.stats import norm\n",
    "from scipy.stats import pearsonr\n",
    "import scipy.optimize as optimize\n",
    "\n",
    "from tutorial_1_lib import *"
   ]
  },
  {
   "cell_type": "markdown",
   "id": "a792220c",
   "metadata": {},
   "source": [
    "**We use model B to generate fake data and in the following we assume that this is our actual experimental data.**"
   ]
  },
  {
   "cell_type": "code",
   "execution_count": null,
   "id": "28809a9c",
   "metadata": {},
   "outputs": [],
   "source": [
    "\n",
    "# generate fake data\n",
    "n = 2500 # number of trials\n",
    "stim_values = [-3, -2, -1, -.5, 0,.5, 1, 2, 3] # all possible values of stimulus evidence (i.e. signed stim strength)\n",
    "# parameters of model B\n",
    "sigma = 1 # decision noise\n",
    "Lambda = 0.2 # proportion of lapses\n",
    "#first generate experimental conditions for each trial\n",
    "c = np.random.choice(a=['control', 'manipulation'], size=n) # condition\n",
    "s = np.random.choice(a=stim_values, size=n) #stimulus evidence\n",
    "#simulate model\n",
    "r = simulate_modelB(s, c, sigma_d=sigma, Lambda=Lambda)\n",
    "exp_data = pd.DataFrame({'stimulus': s, 'condition':c, 'response':r})\n"
   ]
  },
  {
   "cell_type": "markdown",
   "id": "6a7f362e",
   "metadata": {},
   "source": [
    "---\n",
    "# II.1 Model validation\n",
    "\n",
    "\n",
    "As a very simple example for model validation, we will fit model A and B to the experimental data and compare how well the best-fitting model fits the psychometric curve.\n",
    "\n",
    "**Fit model B to the experimental data and show the model result and the psychometric curve.**\n"
   ]
  },
  {
   "cell_type": "code",
   "execution_count": null,
   "id": "c193fb5c",
   "metadata": {},
   "outputs": [],
   "source": [
    "\n",
    "# fit model B\n",
    "p_opt = optimize.minimize(lambda pp: -LogLikelihood_modelB(exp_data, pp[0], pp[1]), x0=[0.75, 0.1], bounds=[(0.1, 10), (0.01, 1)]).x\n",
    "\n",
    "# Retrieve the optimized parameters\n",
    "(sigma_d_hat, Lambda_hat) = p_opt\n",
    "\n",
    "# plot model predictions\n",
    "plot_model(lambda s,c: p_modelB(s,c,sigma_d=sigma_d_hat, Lambda=Lambda_hat))\n",
    "\n",
    "# plot psychometric curve on top\n",
    "plot_data_psychometric(exp_data)\n"
   ]
  },
  {
   "cell_type": "markdown",
   "id": "94d07f9a",
   "metadata": {},
   "source": [
    "\n",
    "**Now fit model A to the experimental data and compare to the result obtained above.**\n"
   ]
  },
  {
   "cell_type": "code",
   "execution_count": null,
   "id": "60d3d1dd",
   "metadata": {},
   "outputs": [],
   "source": []
  },
  {
   "cell_type": "markdown",
   "id": "ff000000",
   "metadata": {},
   "source": [
    "\n",
    "Fitting the experimental data with model A that does not include lapses but a different $\\sigma_m$, we get a worse fit for all the data points and the slope of the fit does not seem right.\n",
    "\n",
    "Of course, this is trivial here because we now that the \"experimental data\" actually includes lapses. It is important to note that not including a lapse rate can lead to real-world problems when fitting psychometric functions. We will talk more about this further below.\n"
   ]
  },
  {
   "cell_type": "markdown",
   "id": "ffedd19a",
   "metadata": {},
   "source": [
    "In general, it is a good idea to show not only that the best-fitting model validates, but that the alternative models do NOT validate (often many models are validated on simple behavioral metrics, and we need of specific patterns of behavior to arbitrate between different models)."
   ]
  },
  {
   "cell_type": "markdown",
   "id": "18304902",
   "metadata": {},
   "source": [
    "---\n",
    "# II.2. Parameter recovery\n"
   ]
  },
  {
   "cell_type": "markdown",
   "id": "13d57dae",
   "metadata": {},
   "source": [
    "## Simulation and fitting"
   ]
  },
  {
   "cell_type": "markdown",
   "id": "0c4a42fb",
   "metadata": {},
   "source": [
    "**Simulate Model B to generate synthetic data, then fit these data.**\n",
    "\n",
    "We will do this step by step. We will first simulate model B using `simulate_modelB` with different random parameters $\\sigma_d$ and $\\lambda$. Note that the parameter recovery result will depend on the probability distribution used to sample the parameters.\n",
    "\n",
    "After simulating the model, we will fit the parameters using a maximum likelihood approach to get estimated values $\\hat{\\sigma_d}$ and $\\hat{\\lambda}$. "
   ]
  },
  {
   "cell_type": "code",
   "execution_count": null,
   "id": "8180007d",
   "metadata": {},
   "outputs": [],
   "source": [
    "# loop over at least 100 repetitions\n",
    "n_rep_sqrt = 20\n",
    "n_rep = n_rep_sqrt ** 2\n",
    "\n",
    "# specify parameters of the experiment\n",
    "n = 2500  # number of trials\n",
    "stim_values = [-3, -2, -1, -.5, 0,.5, 1, 2, 3]  # all possible values of stimulus evidence (i.e. signed stim strength)\n",
    "\n",
    "# specify plaubsible range of model parameters\n",
    "Lambda = np.reshape(np.repeat(np.linspace(0.005, 0.96, n_rep_sqrt), n_rep_sqrt, axis = 0), (n_rep, ))\n",
    "sigma = np.reshape(np.tile(np.linspace(0.3, 3.0, n_rep_sqrt), n_rep_sqrt), (n_rep, ))\n",
    "bounds = [(sigma[0], sigma[-1]), (Lambda[0], Lambda[-1])]\n",
    "\n",
    "pars = np.zeros((n_rep,2))\n",
    "for i in range(n_rep):\n",
    "    # first generate experimental conditions for each trial\n",
    "    c = np.random.choice(a=['control', 'manipulation'], size=n) # condition\n",
    "    s = np.random.choice(a=stim_values, size=n) #stimulus evidence\n",
    "\n",
    "    # simulate model B\n",
    "    data = simulate_modelB(s, c, sigma[i], Lambda[i])\n",
    "    df = pd.DataFrame({'stimulus': s, 'condition':c, 'response':data}) \n",
    "    \n",
    "    # fit model B\n",
    "    result = optimize.minimize(lambda pp:  -LogLikelihood_modelB(df, pp[0], pp[1]), x0=[1, 0.5], bounds=bounds)\n",
    "    # store fitted parameters\n",
    "    pars[i,0] = result.x[0]\n",
    "    pars[i,1] = result.x[1]\n"
   ]
  },
  {
   "cell_type": "markdown",
   "id": "27d8c66f",
   "metadata": {},
   "source": [
    "## Parameter recovery plots"
   ]
  },
  {
   "cell_type": "markdown",
   "id": "1dd1dcde",
   "metadata": {},
   "source": [
    "We would like to visualise the fitted parameter values as a function of the generating parameter values. We will have one data point for each iteration. Here, you should use the generating values and the fitted values that you have stored in the section above. You should create two subplots, one for each parameter. Do you observe a fairly good agreement between the simulated and fit parameter values?"
   ]
  },
  {
   "cell_type": "code",
   "execution_count": null,
   "id": "83ce1db2",
   "metadata": {},
   "outputs": [],
   "source": [
    "fig, ax = plt.subplots(1, 3, figsize=(9,3))\n",
    "ax[0].scatter(sigma, pars[:,0])\n",
    "ax[0].plot([0.5,3],[0.5,3], c='r')\n",
    "ax[1].scatter(Lambda, pars[:,1])\n",
    "ax[1].plot([0,1],[0,1], c='r')\n",
    "ax[2].scatter(pars[:,0], pars[:,1])\n",
    "plt.show()"
   ]
  },
  {
   "cell_type": "markdown",
   "id": "9fd1a91a",
   "metadata": {},
   "source": [
    "\n",
    "These plots show strong correlation between true and fitted paramters and also reveal whether the correlation holds in some parameter regimes but not others. It also reveals any existing bias (e.g. a tendency to recover higher or lower values in average) which does not seem to be the case here.\n",
    "\n",
    "Depending on the parameter values that we obtain when fitting human behavior, the worse correspondence in some parameter range may or may not be problematic. It is be a good idea to use the range of parameters obtained from fitting the real data to test the quality of recovery within the range that matters. \n",
    "\n",
    "Reliable parameter recovery is particularly important for look at inter-individual differences in relation to questionnaire scores or brain data.\n"
   ]
  },
  {
   "cell_type": "markdown",
   "id": "597bc9f7",
   "metadata": {},
   "source": [
    " **Optional:** Include a third subplot which shows a scatterplot of the fitted parameters $\\sigma$ and $\\lambda$. Also compute the correlation between the two parameters. How do you interpret the result?"
   ]
  },
  {
   "cell_type": "code",
   "execution_count": null,
   "id": "199c5411",
   "metadata": {},
   "outputs": [],
   "source": [
    "from scipy.stats import linregress\n",
    "print(linregress(*(pars.T)).pvalue)"
   ]
  },
  {
   "cell_type": "markdown",
   "id": "4f9747f5",
   "metadata": {},
   "source": [
    "This entails that we could find this sample or more extreme ones for an uncorrelated population in 86% of the trials. Therefore, no correlation can be inferred."
   ]
  },
  {
   "cell_type": "markdown",
   "id": "3bb58394",
   "metadata": {},
   "source": [
    "The fitted parameters are not correlated, indicating that our parameters are identifyable (they cannot be trade-off against each other)"
   ]
  },
  {
   "cell_type": "markdown",
   "id": "2ac800dc",
   "metadata": {},
   "source": [
    "---\n",
    "# II.3 Parameter uncertainty estimation (bootstrap)"
   ]
  },
  {
   "cell_type": "markdown",
   "id": "10eaf51f",
   "metadata": {},
   "source": [
    "\n",
    "[Bootstrapping](https://en.wikipedia.org/wiki/Bootstrapping_(statistics)) is a widely applicable method to assess confidence/uncertainty about estimated parameters, it was originally [proposed](https://projecteuclid.org/euclid.aos/1176344552) by [Bradley Efron](https://en.wikipedia.org/wiki/Bradley_Efron). The idea is to generate many new synthetic datasets from the initial true dataset by randomly sampling from it, then finding estimators for each one of these new datasets, and finally looking at the distribution of all these estimators to quantify our confidence.\n",
    "\n",
    "Note that each new resampled datasets will be the same size as our original one, with the new data points sampled with replacement i.e. we can repeat the same data point multiple times. Also note that in practice we need a lot of resampled datasets.\n",
    "\n",
    "To explore this idea, we will work againg wit the \"experimental data\" generated above (the DataFrame `exp_data`).\n",
    "\n",
    "\n",
    "**Generate resampled data and display the psychometric curves for the original and the resampled data.** Repeat this several times to get a feeling for the \"randomness\", that is how different the resampled data is from the original data.\n"
   ]
  },
  {
   "cell_type": "code",
   "execution_count": null,
   "id": "f5199af8",
   "metadata": {},
   "outputs": [],
   "source": [
    "\n",
    "bootstrap_sample = exp_data.sample(n=len(exp_data), replace=True)\n",
    "\n",
    "# plot psychometric curve\n",
    "plot_data_psychometric(exp_data)\n",
    "plot_data_psychometric(bootstrap_sample)\n",
    "#plt.legend(('Original','Resampled'));\n"
   ]
  },
  {
   "cell_type": "markdown",
   "id": "4bf88a3f",
   "metadata": {},
   "source": [
    "## Generate bootstrap estimates\n",
    "\n",
    "In this exercise you will implement a method to run the bootstrap process of generating a set of fitted parameters from a dataset.\n"
   ]
  },
  {
   "cell_type": "markdown",
   "id": "038b707e",
   "metadata": {},
   "source": [
    "We will do this for model B, that is, we will fit the model B and return an array with the fitted parameters $\\sigma_m$ and $\\lambda$.\n"
   ]
  },
  {
   "cell_type": "code",
   "execution_count": null,
   "id": "a39162a3",
   "metadata": {},
   "outputs": [],
   "source": [
    "def bootstrap_estimates(data, n=2000, bounds=[(0.3, 5), (0.005, 0.96)]):\n",
    "  \"\"\"Generate a set of theta_hat estimates using the bootstrap method.\n",
    "  Args:\n",
    "    data (DataFrame)\n",
    "    n (int): The number of estimates to compute\n",
    "  Returns:\n",
    "    ndarray: An array of estimated parameters with size (n,)\n",
    "  \"\"\"\n",
    "\n",
    "  theta_hats = np.zeros((n,2))\n",
    "\n",
    "  # Loop over number of estimates\n",
    "  for i in range(n):\n",
    "    # Resample data\n",
    "    bootstrap_sample = data.sample(n=len(data), replace=True)\n",
    "    \n",
    "    # Compute theta_hat for this sample\n",
    "    theta_hats[i,:] = optimize.minimize(lambda pp: -LogLikelihood_modelB(bootstrap_sample, pp[0], pp[1]), x0=(1, 0.5), bounds=bounds).x\n",
    "\n",
    "  return theta_hats\n",
    "\n",
    "# Get bootstrap estimates (generate only 3 bootstrap samples for a quick check if everything works)\n",
    "theta_hats = bootstrap_estimates(exp_data, n=500)\n",
    "print(theta_hats)"
   ]
  },
  {
   "cell_type": "markdown",
   "id": "67a21dbf",
   "metadata": {},
   "source": [
    "## Plot bootstrap samples and confidence intervals\n",
    "\n",
    "Let us now quantify how uncertain our estimated parameters ($\\sigma_m$ and $\\lambda$) are. We do so by computing confidence intervals from our bootstrapped estimates. The most direct approach is to compute percentiles from the empirical distribution of bootstrapped estimates. Note that this is widely applicable as we are not assuming that this empirical distribution is Gaussian.\n"
   ]
  },
  {
   "cell_type": "code",
   "execution_count": null,
   "id": "d2372103",
   "metadata": {},
   "outputs": [],
   "source": [
    "\n",
    "means = np.mean(theta_hats,axis=0)\n",
    "stds = np.std(theta_hats,axis=0)\n",
    "medians = ...  # compute medians\n",
    "CIs = ...  # compute 95% confidence intervals\n",
    "\n",
    "fig, ax = plt.subplots(ncols=2, figsize=(12, 5))\n",
    "\n",
    "for i in range(2):\n",
    "    ax[i].hist(theta_hats[:,i], bins=20, facecolor='C1', alpha=0.75);\n",
    "    ax[i].axvline(medians[i], color='r', label='Median')\n",
    "\n",
    "    # show confidence intervals:\n",
    "    # ...\n",
    "    # ...\n",
    "    \n",
    "    ax[i].legend()\n",
    "    ax[i].set(\n",
    "        title='Bootstrapped Confidence Interval for parameter '+str(i),\n",
    "        xlabel=r'$\\hat{{w_' + str(i) +'}}$',\n",
    "        ylabel='count');\n"
   ]
  },
  {
   "cell_type": "markdown",
   "id": "0af0a3d6",
   "metadata": {},
   "source": [
    "## Illustrate bootstrap estimates (show fitted psychometric functions)\n",
    "\n",
    "Now that we have our bootstrap estimates, we can visualize all the potential models (models computed with different resampling) together to see how distributed they are. "
   ]
  },
  {
   "cell_type": "code",
   "execution_count": null,
   "id": "f216fc43",
   "metadata": {},
   "outputs": [],
   "source": [
    "\n",
    "fig, ax = plt.subplots()\n",
    "\n",
    "# plot all model fits obtained from bootstrap samples\n",
    "for i, theta_hat in enumerate(theta_hats):\n",
    "    ...\n",
    "\n",
    "# make the lines transparant to get a feeling for the distribution of model fits\n",
    "for line in plt.gca().lines:\n",
    "    line.set_alpha(0.005)\n",
    "\n",
    "plot_data_psychometric(exp_data)\n"
   ]
  },
  {
   "cell_type": "markdown",
   "id": "abfe74b8",
   "metadata": {},
   "source": [
    "\n",
    "## Summary of bootstrapping\n",
    "\n",
    "- Bootstrapping is a resampling procedure that allows to build confidence intervals around inferred parameter values\n",
    "- it is a widely applicable and very practical method that relies on computational power and pseudo-random number generators (as opposed to more classical approaches than depend on analytical derivations)\n",
    "- is non-parametric: the confidence intervals provided by statistical libraries are not always accurate because they assume an underlying gaussian distribution for parameters, which is not always the case."
   ]
  },
  {
   "cell_type": "markdown",
   "id": "6fd3a0aa",
   "metadata": {},
   "source": [
    "---\n",
    "# Optional part: Parameter trade-off between $\\lambda$ and $\\sigma$\n"
   ]
  },
  {
   "cell_type": "markdown",
   "id": "3c91bf09",
   "metadata": {},
   "source": [
    "Above we have run a parameter recover analysis for model B that has a fixed $\\sigma_c$ across the two experimental condtions, and only $\\lambda$ is different between the conditions. Here, we will consider a more interesting example, let's call it model C. In model C, we also allow $\\sigma_m$ to change between conditions, that is in the manipulated condition is now described by a $\\lambda$ and a $\\sigma_m$."
   ]
  },
  {
   "cell_type": "markdown",
   "id": "c4a2ec17",
   "metadata": {},
   "source": [
    "To make the above code direclty reusable, we simplify a bit and only consider \"manipulation\" trials."
   ]
  },
  {
   "cell_type": "markdown",
   "id": "fd66d0a6",
   "metadata": {},
   "source": [
    "**What do you observe, when using model B to fit the data obtained by model C?**"
   ]
  },
  {
   "cell_type": "markdown",
   "id": "80f92fe4",
   "metadata": {
    "editable": true,
    "slideshow": {
     "slide_type": ""
    },
    "tags": []
   },
   "source": [
    "\n",
    "# PART II\n",
    "## Parameter recovery, model validation, bootstrap\n",
    "\n",
    "**In this tutorial, we will see how to:**\n",
    "\n",
    "- Validate the modeling results against experimental data\n",
    "- Test model recovery\n",
    "- Use bootstrapping to estimate the uncertainty of fitted model parameters\n"
   ]
  },
  {
   "cell_type": "code",
   "execution_count": null,
   "id": "38df367d",
   "metadata": {},
   "outputs": [],
   "source": [
    "# # define the github path and authorization token\n",
    "# RAW_GITHUB_PATH = 'https://raw.githubusercontent.com/bambschool/BAMB2024/main/1-modeling_101/'\n",
    "\n",
    "# # define the list of files to be downloaded\n",
    "# files = ['tutorial_1_lib.py']\n",
    "\n",
    "# for file in files:\n",
    "#   !wget -O {file} \"{RAW_GITHUB_PATH}{file}\""
   ]
  },
  {
   "cell_type": "code",
   "execution_count": null,
   "id": "686a65a3",
   "metadata": {},
   "outputs": [],
   "source": [
    "# import packages\n",
    "import numpy as np\n",
    "import pandas as pd\n",
    "import matplotlib.pyplot as plt\n",
    "from scipy.stats import norm\n",
    "from scipy.stats import pearsonr\n",
    "import scipy.optimize as optimize\n",
    "\n",
    "from tutorial_1_lib import *"
   ]
  },
  {
   "cell_type": "markdown",
   "id": "8ad37de2",
   "metadata": {},
   "source": [
    "**We use model B to generate fake data and in the following we assume that this is our actual experimental data.**"
   ]
  },
  {
   "cell_type": "code",
   "execution_count": null,
   "id": "a5a4cdf1",
   "metadata": {},
   "outputs": [],
   "source": [
    "\n",
    "# generate fake data\n",
    "n = 2500 # number of trials\n",
    "stim_values = [-3, -2, -1, -.5, 0,.5, 1, 2, 3] # all possible values of stimulus evidence (i.e. signed stim strength)\n",
    "# parameters of model B\n",
    "sigma = 1 # decision noise\n",
    "Lambda = 0.2 # proportion of lapses\n",
    "#first generate experimental conditions for each trial\n",
    "c = np.random.choice(a=['control', 'manipulation'], size=n) # condition\n",
    "s = np.random.choice(a=stim_values, size=n) #stimulus evidence\n",
    "#simulate model\n",
    "r = simulate_modelB(s, c, sigma_d=sigma, Lambda=Lambda)\n",
    "exp_data = pd.DataFrame({'stimulus': s, 'condition':c, 'response':r})\n"
   ]
  },
  {
   "cell_type": "markdown",
   "id": "2dc73749",
   "metadata": {},
   "source": [
    "---\n",
    "# II.1 Model validation\n",
    "\n",
    "\n",
    "As a very simple example for model validation, we will fit model A and B to the experimental data and compare how well the best-fitting model fits the psychometric curve.\n",
    "\n",
    "**Fit model B to the experimental data and show the model result and the psychometric curve.**\n"
   ]
  },
  {
   "cell_type": "code",
   "execution_count": null,
   "id": "6eda4c36",
   "metadata": {},
   "outputs": [],
   "source": [
    "\n",
    "# fit model B\n",
    "p_opt = optimize.minimize(lambda pp: -LogLikelihood_modelB(exp_data, pp[0], pp[1]), x0=[0.75, 0.1], bounds=[(0.1, 10), (0.01, 1)]).x\n",
    "\n",
    "# Retrieve the optimized parameters\n",
    "(sigma_d_hat, Lambda_hat) = p_opt\n",
    "\n",
    "# plot model predictions\n",
    "plot_model(lambda s,c: p_modelB(s,c,sigma_d=sigma_d_hat, Lambda=Lambda_hat))\n",
    "\n",
    "# plot psychometric curve on top\n",
    "plot_data_psychometric(exp_data)\n"
   ]
  },
  {
   "cell_type": "markdown",
   "id": "08c1f102",
   "metadata": {},
   "source": [
    "\n",
    "**Now fit model A to the experimental data and compare to the result obtained above.**\n"
   ]
  },
  {
   "cell_type": "code",
   "execution_count": null,
   "id": "9bb57124",
   "metadata": {},
   "outputs": [],
   "source": []
  },
  {
   "cell_type": "markdown",
   "id": "71c25888",
   "metadata": {},
   "source": [
    "\n",
    "Fitting the experimental data with model A that does not include lapses but a different $\\sigma_m$, we get a worse fit for all the data points and the slope of the fit does not seem right.\n",
    "\n",
    "Of course, this is trivial here because we now that the \"experimental data\" actually includes lapses. It is important to note that not including a lapse rate can lead to real-world problems when fitting psychometric functions. We will talk more about this further below.\n"
   ]
  },
  {
   "cell_type": "markdown",
   "id": "d7f035d5",
   "metadata": {},
   "source": [
    "In general, it is a good idea to show not only that the best-fitting model validates, but that the alternative models do NOT validate (often many models are validated on simple behavioral metrics, and we need of specific patterns of behavior to arbitrate between different models)."
   ]
  },
  {
   "cell_type": "markdown",
   "id": "9e87df20",
   "metadata": {},
   "source": [
    "---\n",
    "# II.2. Parameter recovery\n"
   ]
  },
  {
   "cell_type": "markdown",
   "id": "ce86c1ab",
   "metadata": {},
   "source": [
    "## Simulation and fitting"
   ]
  },
  {
   "cell_type": "markdown",
   "id": "684806fa",
   "metadata": {},
   "source": [
    "**Simulate Model B to generate synthetic data, then fit these data.**\n",
    "\n",
    "We will do this step by step. We will first simulate model B using `simulate_modelB` with different random parameters $\\sigma_d$ and $\\lambda$. Note that the parameter recovery result will depend on the probability distribution used to sample the parameters.\n",
    "\n",
    "After simulating the model, we will fit the parameters using a maximum likelihood approach to get estimated values $\\hat{\\sigma_d}$ and $\\hat{\\lambda}$. "
   ]
  },
  {
   "cell_type": "code",
   "execution_count": null,
   "id": "7443ba8d",
   "metadata": {},
   "outputs": [],
   "source": [
    "# loop over at least 100 repetitions\n",
    "n_rep_sqrt = 20\n",
    "n_rep = n_rep_sqrt ** 2\n",
    "\n",
    "# specify parameters of the experiment\n",
    "n = 2500  # number of trials\n",
    "stim_values = [-3, -2, -1, -.5, 0,.5, 1, 2, 3]  # all possible values of stimulus evidence (i.e. signed stim strength)\n",
    "\n",
    "# specify plaubsible range of model parameters\n",
    "Lambda = np.reshape(np.repeat(np.linspace(0.005, 0.96, n_rep_sqrt), n_rep_sqrt, axis = 0), (n_rep, ))\n",
    "sigma = np.reshape(np.tile(np.linspace(0.3, 3.0, n_rep_sqrt), n_rep_sqrt), (n_rep, ))\n",
    "bounds = [(sigma[0], sigma[-1]), (Lambda[0], Lambda[-1])]\n",
    "\n",
    "pars = np.zeros((n_rep,2))\n",
    "for i in range(n_rep):\n",
    "    # first generate experimental conditions for each trial\n",
    "    c = np.random.choice(a=['control', 'manipulation'], size=n) # condition\n",
    "    s = np.random.choice(a=stim_values, size=n) #stimulus evidence\n",
    "\n",
    "    # simulate model B\n",
    "    data = simulate_modelB(s, c, sigma[i], Lambda[i])\n",
    "    df = pd.DataFrame({'stimulus': s, 'condition':c, 'response':data}) \n",
    "    \n",
    "    # fit model B\n",
    "    result = optimize.minimize(lambda pp:  -LogLikelihood_modelB(df, pp[0], pp[1]), x0=[1, 0.5], bounds=bounds)\n",
    "    # store fitted parameters\n",
    "    pars[i,0] = result.x[0]\n",
    "    pars[i,1] = result.x[1]\n"
   ]
  },
  {
   "cell_type": "markdown",
   "id": "3e54f88e",
   "metadata": {},
   "source": [
    "## Parameter recovery plots"
   ]
  },
  {
   "cell_type": "markdown",
   "id": "d5c48f7c",
   "metadata": {},
   "source": [
    "We would like to visualise the fitted parameter values as a function of the generating parameter values. We will have one data point for each iteration. Here, you should use the generating values and the fitted values that you have stored in the section above. You should create two subplots, one for each parameter. Do you observe a fairly good agreement between the simulated and fit parameter values?"
   ]
  },
  {
   "cell_type": "code",
   "execution_count": null,
   "id": "646c8cce",
   "metadata": {},
   "outputs": [],
   "source": [
    "fig, ax = plt.subplots(1, 3, figsize=(9,3))\n",
    "ax[0].scatter(sigma, pars[:,0])\n",
    "ax[0].plot([0.5,3],[0.5,3], c='r')\n",
    "ax[1].scatter(Lambda, pars[:,1])\n",
    "ax[1].plot([0,1],[0,1], c='r')\n",
    "ax[2].scatter(pars[:,0], pars[:,1])\n",
    "plt.show()"
   ]
  },
  {
   "cell_type": "markdown",
   "id": "ff176db9",
   "metadata": {},
   "source": [
    "\n",
    "These plots show strong correlation between true and fitted paramters and also reveal whether the correlation holds in some parameter regimes but not others. It also reveals any existing bias (e.g. a tendency to recover higher or lower values in average) which does not seem to be the case here.\n",
    "\n",
    "Depending on the parameter values that we obtain when fitting human behavior, the worse correspondence in some parameter range may or may not be problematic. It is be a good idea to use the range of parameters obtained from fitting the real data to test the quality of recovery within the range that matters. \n",
    "\n",
    "Reliable parameter recovery is particularly important for look at inter-individual differences in relation to questionnaire scores or brain data.\n"
   ]
  },
  {
   "cell_type": "markdown",
   "id": "23668214",
   "metadata": {},
   "source": [
    " **Optional:** Include a third subplot which shows a scatterplot of the fitted parameters $\\sigma$ and $\\lambda$. Also compute the correlation between the two parameters. How do you interpret the result?"
   ]
  },
  {
   "cell_type": "code",
   "execution_count": null,
   "id": "61ed7b20",
   "metadata": {},
   "outputs": [],
   "source": [
    "from scipy.stats import linregress\n",
    "print(linregress(*(pars.T)).pvalue)"
   ]
  },
  {
   "cell_type": "markdown",
   "id": "b42bbd82",
   "metadata": {},
   "source": [
    "This entails that we could find this sample or more extreme ones for an uncorrelated population in 86% of the trials. Therefore, no correlation can be inferred."
   ]
  },
  {
   "cell_type": "markdown",
   "id": "784d9f42",
   "metadata": {},
   "source": [
    "The fitted parameters are not correlated, indicating that our parameters are identifyable (they cannot be trade-off against each other)"
   ]
  },
  {
   "cell_type": "markdown",
   "id": "375c6846",
   "metadata": {},
   "source": [
    "---\n",
    "# II.3 Parameter uncertainty estimation (bootstrap)"
   ]
  },
  {
   "cell_type": "markdown",
   "id": "64dab89e",
   "metadata": {},
   "source": [
    "\n",
    "[Bootstrapping](https://en.wikipedia.org/wiki/Bootstrapping_(statistics)) is a widely applicable method to assess confidence/uncertainty about estimated parameters, it was originally [proposed](https://projecteuclid.org/euclid.aos/1176344552) by [Bradley Efron](https://en.wikipedia.org/wiki/Bradley_Efron). The idea is to generate many new synthetic datasets from the initial true dataset by randomly sampling from it, then finding estimators for each one of these new datasets, and finally looking at the distribution of all these estimators to quantify our confidence.\n",
    "\n",
    "Note that each new resampled datasets will be the same size as our original one, with the new data points sampled with replacement i.e. we can repeat the same data point multiple times. Also note that in practice we need a lot of resampled datasets.\n",
    "\n",
    "To explore this idea, we will work againg wit the \"experimental data\" generated above (the DataFrame `exp_data`).\n",
    "\n",
    "\n",
    "**Generate resampled data and display the psychometric curves for the original and the resampled data.** Repeat this several times to get a feeling for the \"randomness\", that is how different the resampled data is from the original data.\n"
   ]
  },
  {
   "cell_type": "code",
   "execution_count": null,
   "id": "62aa60d5",
   "metadata": {},
   "outputs": [],
   "source": [
    "\n",
    "bootstrap_sample = exp_data.sample(n=len(exp_data), replace=True)\n",
    "\n",
    "# plot psychometric curve\n",
    "plot_data_psychometric(exp_data)\n",
    "plot_data_psychometric(bootstrap_sample)\n",
    "#plt.legend(('Original','Resampled'));\n"
   ]
  },
  {
   "cell_type": "markdown",
   "id": "39111bed",
   "metadata": {},
   "source": [
    "## Generate bootstrap estimates\n",
    "\n",
    "In this exercise you will implement a method to run the bootstrap process of generating a set of fitted parameters from a dataset.\n"
   ]
  },
  {
   "cell_type": "markdown",
   "id": "5eeb47bd",
   "metadata": {},
   "source": [
    "We will do this for model B, that is, we will fit the model B and return an array with the fitted parameters $\\sigma_m$ and $\\lambda$.\n"
   ]
  },
  {
   "cell_type": "code",
   "execution_count": null,
   "id": "f6155d7b",
   "metadata": {},
   "outputs": [],
   "source": [
    "def bootstrap_estimates(data, n=2000, bounds=[(0.3, 5), (0.005, 0.96)]):\n",
    "  \"\"\"Generate a set of theta_hat estimates using the bootstrap method.\n",
    "  Args:\n",
    "    data (DataFrame)\n",
    "    n (int): The number of estimates to compute\n",
    "  Returns:\n",
    "    ndarray: An array of estimated parameters with size (n,)\n",
    "  \"\"\"\n",
    "\n",
    "  theta_hats = np.zeros((n,2))\n",
    "\n",
    "  # Loop over number of estimates\n",
    "  for i in range(n):\n",
    "    # Resample data\n",
    "    bootstrap_sample = data.sample(n=len(data), replace=True)\n",
    "    \n",
    "    # Compute theta_hat for this sample\n",
    "    theta_hats[i,:] = optimize.minimize(lambda pp: -LogLikelihood_modelB(bootstrap_sample, pp[0], pp[1]), x0=(1, 0.5), bounds=bounds).x\n",
    "\n",
    "  return theta_hats\n",
    "\n",
    "# Get bootstrap estimates (generate only 3 bootstrap samples for a quick check if everything works)\n",
    "theta_hats = bootstrap_estimates(exp_data, n=500)\n",
    "print(theta_hats)"
   ]
  },
  {
   "cell_type": "markdown",
   "id": "879b08f6",
   "metadata": {},
   "source": [
    "## Plot bootstrap samples and confidence intervals\n",
    "\n",
    "Let us now quantify how uncertain our estimated parameters ($\\sigma_m$ and $\\lambda$) are. We do so by computing confidence intervals from our bootstrapped estimates. The most direct approach is to compute percentiles from the empirical distribution of bootstrapped estimates. Note that this is widely applicable as we are not assuming that this empirical distribution is Gaussian.\n"
   ]
  },
  {
   "cell_type": "code",
   "execution_count": null,
   "id": "c31bcb99",
   "metadata": {},
   "outputs": [],
   "source": [
    "\n",
    "means = np.mean(theta_hats,axis=0)\n",
    "stds = np.std(theta_hats,axis=0)\n",
    "medians = ...  # compute medians\n",
    "CIs = ...  # compute 95% confidence intervals\n",
    "\n",
    "fig, ax = plt.subplots(ncols=2, figsize=(12, 5))\n",
    "\n",
    "for i in range(2):\n",
    "    ax[i].hist(theta_hats[:,i], bins=20, facecolor='C1', alpha=0.75);\n",
    "    ax[i].axvline(medians[i], color='r', label='Median')\n",
    "\n",
    "    # show confidence intervals:\n",
    "    # ...\n",
    "    # ...\n",
    "    \n",
    "    ax[i].legend()\n",
    "    ax[i].set(\n",
    "        title='Bootstrapped Confidence Interval for parameter '+str(i),\n",
    "        xlabel=r'$\\hat{{w_' + str(i) +'}}$',\n",
    "        ylabel='count');\n"
   ]
  },
  {
   "cell_type": "markdown",
   "id": "cb37015c",
   "metadata": {},
   "source": [
    "## Illustrate bootstrap estimates (show fitted psychometric functions)\n",
    "\n",
    "Now that we have our bootstrap estimates, we can visualize all the potential models (models computed with different resampling) together to see how distributed they are. "
   ]
  },
  {
   "cell_type": "code",
   "execution_count": null,
   "id": "4c3aae00",
   "metadata": {},
   "outputs": [],
   "source": [
    "\n",
    "fig, ax = plt.subplots()\n",
    "\n",
    "# plot all model fits obtained from bootstrap samples\n",
    "for i, theta_hat in enumerate(theta_hats):\n",
    "    ...\n",
    "\n",
    "# make the lines transparant to get a feeling for the distribution of model fits\n",
    "for line in plt.gca().lines:\n",
    "    line.set_alpha(0.005)\n",
    "\n",
    "plot_data_psychometric(exp_data)\n"
   ]
  },
  {
   "cell_type": "markdown",
   "id": "615d485c",
   "metadata": {},
   "source": [
    "\n",
    "## Summary of bootstrapping\n",
    "\n",
    "- Bootstrapping is a resampling procedure that allows to build confidence intervals around inferred parameter values\n",
    "- it is a widely applicable and very practical method that relies on computational power and pseudo-random number generators (as opposed to more classical approaches than depend on analytical derivations)\n",
    "- is non-parametric: the confidence intervals provided by statistical libraries are not always accurate because they assume an underlying gaussian distribution for parameters, which is not always the case."
   ]
  },
  {
   "cell_type": "markdown",
   "id": "e3519f36",
   "metadata": {},
   "source": [
    "---\n",
    "# Optional part: Parameter trade-off between $\\lambda$ and $\\sigma$\n"
   ]
  },
  {
   "cell_type": "markdown",
   "id": "0fc35044",
   "metadata": {},
   "source": [
    "Above we have run a parameter recover analysis for model B that has a fixed $\\sigma_c$ across the two experimental condtions, and only $\\lambda$ is different between the conditions. Here, we will consider a more interesting example, let's call it model C. In model C, we also allow $\\sigma_m$ to change between conditions, that is in the manipulated condition is now described by a $\\lambda$ and a $\\sigma_m$."
   ]
  },
  {
   "cell_type": "markdown",
   "id": "0ddabc09",
   "metadata": {},
   "source": [
    "To make the above code direclty reusable, we simplify a bit and only consider \"manipulation\" trials."
   ]
  },
  {
   "cell_type": "markdown",
   "id": "d0a3fc6d",
   "metadata": {},
   "source": [
    "**What do you observe, when using model B to fit the data obtained by model C?**"
   ]
  },
  {
   "cell_type": "markdown",
   "id": "28749765",
   "metadata": {
    "editable": true,
    "slideshow": {
     "slide_type": ""
    },
    "tags": []
   },
   "source": [
    "\n",
    "# PART II\n",
    "## Parameter recovery, model validation, bootstrap\n",
    "\n",
    "**In this tutorial, we will see how to:**\n",
    "\n",
    "- Validate the modeling results against experimental data\n",
    "- Test model recovery\n",
    "- Use bootstrapping to estimate the uncertainty of fitted model parameters\n"
   ]
  },
  {
   "cell_type": "code",
   "execution_count": null,
   "id": "64ff523e",
   "metadata": {},
   "outputs": [],
   "source": [
    "# # define the github path and authorization token\n",
    "# RAW_GITHUB_PATH = 'https://raw.githubusercontent.com/bambschool/BAMB2024/main/1-modeling_101/'\n",
    "\n",
    "# # define the list of files to be downloaded\n",
    "# files = ['tutorial_1_lib.py']\n",
    "\n",
    "# for file in files:\n",
    "#   !wget -O {file} \"{RAW_GITHUB_PATH}{file}\""
   ]
  },
  {
   "cell_type": "code",
   "execution_count": null,
   "id": "c610a16f",
   "metadata": {},
   "outputs": [],
   "source": [
    "# import packages\n",
    "import numpy as np\n",
    "import pandas as pd\n",
    "import matplotlib.pyplot as plt\n",
    "from scipy.stats import norm\n",
    "from scipy.stats import pearsonr\n",
    "import scipy.optimize as optimize\n",
    "\n",
    "from tutorial_1_lib import *"
   ]
  },
  {
   "cell_type": "markdown",
   "id": "1cf8b0e5",
   "metadata": {},
   "source": [
    "**We use model B to generate fake data and in the following we assume that this is our actual experimental data.**"
   ]
  },
  {
   "cell_type": "code",
   "execution_count": null,
   "id": "fc0676dd",
   "metadata": {},
   "outputs": [],
   "source": [
    "\n",
    "# generate fake data\n",
    "n = 2500 # number of trials\n",
    "stim_values = [-3, -2, -1, -.5, 0,.5, 1, 2, 3] # all possible values of stimulus evidence (i.e. signed stim strength)\n",
    "# parameters of model B\n",
    "sigma = 1 # decision noise\n",
    "Lambda = 0.2 # proportion of lapses\n",
    "#first generate experimental conditions for each trial\n",
    "c = np.random.choice(a=['control', 'manipulation'], size=n) # condition\n",
    "s = np.random.choice(a=stim_values, size=n) #stimulus evidence\n",
    "#simulate model\n",
    "r = simulate_modelB(s, c, sigma_d=sigma, Lambda=Lambda)\n",
    "exp_data = pd.DataFrame({'stimulus': s, 'condition':c, 'response':r})\n"
   ]
  },
  {
   "cell_type": "markdown",
   "id": "c96e2f45",
   "metadata": {},
   "source": [
    "---\n",
    "# II.1 Model validation\n",
    "\n",
    "\n",
    "As a very simple example for model validation, we will fit model A and B to the experimental data and compare how well the best-fitting model fits the psychometric curve.\n",
    "\n",
    "**Fit model B to the experimental data and show the model result and the psychometric curve.**\n"
   ]
  },
  {
   "cell_type": "code",
   "execution_count": null,
   "id": "89f57ad4",
   "metadata": {},
   "outputs": [],
   "source": [
    "\n",
    "# fit model B\n",
    "p_opt = optimize.minimize(lambda pp: -LogLikelihood_modelB(exp_data, pp[0], pp[1]), x0=[0.75, 0.1], bounds=[(0.1, 10), (0.01, 1)]).x\n",
    "\n",
    "# Retrieve the optimized parameters\n",
    "(sigma_d_hat, Lambda_hat) = p_opt\n",
    "\n",
    "# plot model predictions\n",
    "plot_model(lambda s,c: p_modelB(s,c,sigma_d=sigma_d_hat, Lambda=Lambda_hat))\n",
    "\n",
    "# plot psychometric curve on top\n",
    "plot_data_psychometric(exp_data)\n"
   ]
  },
  {
   "cell_type": "markdown",
   "id": "e914dfc7",
   "metadata": {},
   "source": [
    "\n",
    "**Now fit model A to the experimental data and compare to the result obtained above.**\n"
   ]
  },
  {
   "cell_type": "code",
   "execution_count": null,
   "id": "96c839fc",
   "metadata": {},
   "outputs": [],
   "source": []
  },
  {
   "cell_type": "markdown",
   "id": "f03db0d5",
   "metadata": {},
   "source": [
    "\n",
    "Fitting the experimental data with model A that does not include lapses but a different $\\sigma_m$, we get a worse fit for all the data points and the slope of the fit does not seem right.\n",
    "\n",
    "Of course, this is trivial here because we now that the \"experimental data\" actually includes lapses. It is important to note that not including a lapse rate can lead to real-world problems when fitting psychometric functions. We will talk more about this further below.\n"
   ]
  },
  {
   "cell_type": "markdown",
   "id": "f05f3f4c",
   "metadata": {},
   "source": [
    "In general, it is a good idea to show not only that the best-fitting model validates, but that the alternative models do NOT validate (often many models are validated on simple behavioral metrics, and we need of specific patterns of behavior to arbitrate between different models)."
   ]
  },
  {
   "cell_type": "markdown",
   "id": "ac8a4f77",
   "metadata": {},
   "source": [
    "---\n",
    "# II.2. Parameter recovery\n"
   ]
  },
  {
   "cell_type": "markdown",
   "id": "b14a07f2",
   "metadata": {},
   "source": [
    "## Simulation and fitting"
   ]
  },
  {
   "cell_type": "markdown",
   "id": "f027af96",
   "metadata": {},
   "source": [
    "**Simulate Model B to generate synthetic data, then fit these data.**\n",
    "\n",
    "We will do this step by step. We will first simulate model B using `simulate_modelB` with different random parameters $\\sigma_d$ and $\\lambda$. Note that the parameter recovery result will depend on the probability distribution used to sample the parameters.\n",
    "\n",
    "After simulating the model, we will fit the parameters using a maximum likelihood approach to get estimated values $\\hat{\\sigma_d}$ and $\\hat{\\lambda}$. "
   ]
  },
  {
   "cell_type": "code",
   "execution_count": null,
   "id": "6024ff6c",
   "metadata": {},
   "outputs": [],
   "source": [
    "# loop over at least 100 repetitions\n",
    "n_rep_sqrt = 20\n",
    "n_rep = n_rep_sqrt ** 2\n",
    "\n",
    "# specify parameters of the experiment\n",
    "n = 2500  # number of trials\n",
    "stim_values = [-3, -2, -1, -.5, 0,.5, 1, 2, 3]  # all possible values of stimulus evidence (i.e. signed stim strength)\n",
    "\n",
    "# specify plaubsible range of model parameters\n",
    "Lambda = np.reshape(np.repeat(np.linspace(0.005, 0.96, n_rep_sqrt), n_rep_sqrt, axis = 0), (n_rep, ))\n",
    "sigma = np.reshape(np.tile(np.linspace(0.3, 3.0, n_rep_sqrt), n_rep_sqrt), (n_rep, ))\n",
    "bounds = [(sigma[0], sigma[-1]), (Lambda[0], Lambda[-1])]\n",
    "\n",
    "pars = np.zeros((n_rep,2))\n",
    "for i in range(n_rep):\n",
    "    # first generate experimental conditions for each trial\n",
    "    c = np.random.choice(a=['control', 'manipulation'], size=n) # condition\n",
    "    s = np.random.choice(a=stim_values, size=n) #stimulus evidence\n",
    "\n",
    "    # simulate model B\n",
    "    data = simulate_modelB(s, c, sigma[i], Lambda[i])\n",
    "    df = pd.DataFrame({'stimulus': s, 'condition':c, 'response':data}) \n",
    "    \n",
    "    # fit model B\n",
    "    result = optimize.minimize(lambda pp:  -LogLikelihood_modelB(df, pp[0], pp[1]), x0=[1, 0.5], bounds=bounds)\n",
    "    # store fitted parameters\n",
    "    pars[i,0] = result.x[0]\n",
    "    pars[i,1] = result.x[1]\n"
   ]
  },
  {
   "cell_type": "markdown",
   "id": "eccc3568",
   "metadata": {},
   "source": [
    "## Parameter recovery plots"
   ]
  },
  {
   "cell_type": "markdown",
   "id": "c1513529",
   "metadata": {},
   "source": [
    "We would like to visualise the fitted parameter values as a function of the generating parameter values. We will have one data point for each iteration. Here, you should use the generating values and the fitted values that you have stored in the section above. You should create two subplots, one for each parameter. Do you observe a fairly good agreement between the simulated and fit parameter values?"
   ]
  },
  {
   "cell_type": "code",
   "execution_count": null,
   "id": "8fd1d63f",
   "metadata": {},
   "outputs": [],
   "source": [
    "fig, ax = plt.subplots(1, 3, figsize=(9,3))\n",
    "ax[0].scatter(sigma, pars[:,0])\n",
    "ax[0].plot([0.5,3],[0.5,3], c='r')\n",
    "ax[1].scatter(Lambda, pars[:,1])\n",
    "ax[1].plot([0,1],[0,1], c='r')\n",
    "ax[2].scatter(pars[:,0], pars[:,1])\n",
    "plt.show()"
   ]
  },
  {
   "cell_type": "markdown",
   "id": "aef46890",
   "metadata": {},
   "source": [
    "\n",
    "These plots show strong correlation between true and fitted paramters and also reveal whether the correlation holds in some parameter regimes but not others. It also reveals any existing bias (e.g. a tendency to recover higher or lower values in average) which does not seem to be the case here.\n",
    "\n",
    "Depending on the parameter values that we obtain when fitting human behavior, the worse correspondence in some parameter range may or may not be problematic. It is be a good idea to use the range of parameters obtained from fitting the real data to test the quality of recovery within the range that matters. \n",
    "\n",
    "Reliable parameter recovery is particularly important for look at inter-individual differences in relation to questionnaire scores or brain data.\n"
   ]
  },
  {
   "cell_type": "markdown",
   "id": "f3528d7e",
   "metadata": {},
   "source": [
    " **Optional:** Include a third subplot which shows a scatterplot of the fitted parameters $\\sigma$ and $\\lambda$. Also compute the correlation between the two parameters. How do you interpret the result?"
   ]
  },
  {
   "cell_type": "code",
   "execution_count": null,
   "id": "f65a22c3",
   "metadata": {},
   "outputs": [],
   "source": [
    "from scipy.stats import linregress\n",
    "print(linregress(*(pars.T)).pvalue)"
   ]
  },
  {
   "cell_type": "markdown",
   "id": "6fd5535c",
   "metadata": {},
   "source": [
    "This entails that we could find this sample or more extreme ones for an uncorrelated population in 86% of the trials. Therefore, no correlation can be inferred."
   ]
  },
  {
   "cell_type": "markdown",
   "id": "bc99f1a5",
   "metadata": {},
   "source": [
    "The fitted parameters are not correlated, indicating that our parameters are identifyable (they cannot be trade-off against each other)"
   ]
  },
  {
   "cell_type": "markdown",
   "id": "b1db220b",
   "metadata": {},
   "source": [
    "---\n",
    "# II.3 Parameter uncertainty estimation (bootstrap)"
   ]
  },
  {
   "cell_type": "markdown",
   "id": "aeb76ee5",
   "metadata": {},
   "source": [
    "\n",
    "[Bootstrapping](https://en.wikipedia.org/wiki/Bootstrapping_(statistics)) is a widely applicable method to assess confidence/uncertainty about estimated parameters, it was originally [proposed](https://projecteuclid.org/euclid.aos/1176344552) by [Bradley Efron](https://en.wikipedia.org/wiki/Bradley_Efron). The idea is to generate many new synthetic datasets from the initial true dataset by randomly sampling from it, then finding estimators for each one of these new datasets, and finally looking at the distribution of all these estimators to quantify our confidence.\n",
    "\n",
    "Note that each new resampled datasets will be the same size as our original one, with the new data points sampled with replacement i.e. we can repeat the same data point multiple times. Also note that in practice we need a lot of resampled datasets.\n",
    "\n",
    "To explore this idea, we will work againg wit the \"experimental data\" generated above (the DataFrame `exp_data`).\n",
    "\n",
    "\n",
    "**Generate resampled data and display the psychometric curves for the original and the resampled data.** Repeat this several times to get a feeling for the \"randomness\", that is how different the resampled data is from the original data.\n"
   ]
  },
  {
   "cell_type": "code",
   "execution_count": null,
   "id": "e72cdcbd",
   "metadata": {},
   "outputs": [],
   "source": [
    "\n",
    "bootstrap_sample = exp_data.sample(n=len(exp_data), replace=True)\n",
    "\n",
    "# plot psychometric curve\n",
    "plot_data_psychometric(exp_data)\n",
    "plot_data_psychometric(bootstrap_sample)\n",
    "#plt.legend(('Original','Resampled'));\n"
   ]
  },
  {
   "cell_type": "markdown",
   "id": "13efdeb3",
   "metadata": {},
   "source": [
    "## Generate bootstrap estimates\n",
    "\n",
    "In this exercise you will implement a method to run the bootstrap process of generating a set of fitted parameters from a dataset.\n"
   ]
  },
  {
   "cell_type": "markdown",
   "id": "9e285032",
   "metadata": {},
   "source": [
    "We will do this for model B, that is, we will fit the model B and return an array with the fitted parameters $\\sigma_m$ and $\\lambda$.\n"
   ]
  },
  {
   "cell_type": "code",
   "execution_count": null,
   "id": "c9daa9d0",
   "metadata": {},
   "outputs": [],
   "source": [
    "def bootstrap_estimates(data, n=2000, bounds=[(0.3, 5), (0.005, 0.96)]):\n",
    "  \"\"\"Generate a set of theta_hat estimates using the bootstrap method.\n",
    "  Args:\n",
    "    data (DataFrame)\n",
    "    n (int): The number of estimates to compute\n",
    "  Returns:\n",
    "    ndarray: An array of estimated parameters with size (n,)\n",
    "  \"\"\"\n",
    "\n",
    "  theta_hats = np.zeros((n,2))\n",
    "\n",
    "  # Loop over number of estimates\n",
    "  for i in range(n):\n",
    "    # Resample data\n",
    "    bootstrap_sample = data.sample(n=len(data), replace=True)\n",
    "    \n",
    "    # Compute theta_hat for this sample\n",
    "    theta_hats[i,:] = optimize.minimize(lambda pp: -LogLikelihood_modelB(bootstrap_sample, pp[0], pp[1]), x0=(1, 0.5), bounds=bounds).x\n",
    "\n",
    "  return theta_hats\n",
    "\n",
    "# Get bootstrap estimates (generate only 3 bootstrap samples for a quick check if everything works)\n",
    "theta_hats = bootstrap_estimates(exp_data, n=500)\n",
    "print(theta_hats)"
   ]
  },
  {
   "cell_type": "markdown",
   "id": "23588769",
   "metadata": {},
   "source": [
    "## Plot bootstrap samples and confidence intervals\n",
    "\n",
    "Let us now quantify how uncertain our estimated parameters ($\\sigma_m$ and $\\lambda$) are. We do so by computing confidence intervals from our bootstrapped estimates. The most direct approach is to compute percentiles from the empirical distribution of bootstrapped estimates. Note that this is widely applicable as we are not assuming that this empirical distribution is Gaussian.\n"
   ]
  },
  {
   "cell_type": "code",
   "execution_count": null,
   "id": "f25057f9",
   "metadata": {},
   "outputs": [],
   "source": [
    "\n",
    "means = np.mean(theta_hats,axis=0)\n",
    "stds = np.std(theta_hats,axis=0)\n",
    "medians = ...  # compute medians\n",
    "CIs = ...  # compute 95% confidence intervals\n",
    "\n",
    "fig, ax = plt.subplots(ncols=2, figsize=(12, 5))\n",
    "\n",
    "for i in range(2):\n",
    "    ax[i].hist(theta_hats[:,i], bins=20, facecolor='C1', alpha=0.75);\n",
    "    ax[i].axvline(medians[i], color='r', label='Median')\n",
    "\n",
    "    # show confidence intervals:\n",
    "    # ...\n",
    "    # ...\n",
    "    \n",
    "    ax[i].legend()\n",
    "    ax[i].set(\n",
    "        title='Bootstrapped Confidence Interval for parameter '+str(i),\n",
    "        xlabel=r'$\\hat{{w_' + str(i) +'}}$',\n",
    "        ylabel='count');\n"
   ]
  },
  {
   "cell_type": "markdown",
   "id": "2ee172f4",
   "metadata": {},
   "source": [
    "## Illustrate bootstrap estimates (show fitted psychometric functions)\n",
    "\n",
    "Now that we have our bootstrap estimates, we can visualize all the potential models (models computed with different resampling) together to see how distributed they are. "
   ]
  },
  {
   "cell_type": "code",
   "execution_count": null,
   "id": "14d6b13d",
   "metadata": {},
   "outputs": [],
   "source": [
    "\n",
    "fig, ax = plt.subplots()\n",
    "\n",
    "# plot all model fits obtained from bootstrap samples\n",
    "for i, theta_hat in enumerate(theta_hats):\n",
    "    ...\n",
    "\n",
    "# make the lines transparant to get a feeling for the distribution of model fits\n",
    "for line in plt.gca().lines:\n",
    "    line.set_alpha(0.005)\n",
    "\n",
    "plot_data_psychometric(exp_data)\n"
   ]
  },
  {
   "cell_type": "markdown",
   "id": "1809dd44",
   "metadata": {},
   "source": [
    "\n",
    "## Summary of bootstrapping\n",
    "\n",
    "- Bootstrapping is a resampling procedure that allows to build confidence intervals around inferred parameter values\n",
    "- it is a widely applicable and very practical method that relies on computational power and pseudo-random number generators (as opposed to more classical approaches than depend on analytical derivations)\n",
    "- is non-parametric: the confidence intervals provided by statistical libraries are not always accurate because they assume an underlying gaussian distribution for parameters, which is not always the case."
   ]
  },
  {
   "cell_type": "markdown",
   "id": "26d40a53",
   "metadata": {},
   "source": [
    "---\n",
    "# Optional part: Parameter trade-off between $\\lambda$ and $\\sigma$\n"
   ]
  },
  {
   "cell_type": "markdown",
   "id": "5ff89331",
   "metadata": {},
   "source": [
    "Above we have run a parameter recover analysis for model B that has a fixed $\\sigma_c$ across the two experimental condtions, and only $\\lambda$ is different between the conditions. Here, we will consider a more interesting example, let's call it model C. In model C, we also allow $\\sigma_m$ to change between conditions, that is in the manipulated condition is now described by a $\\lambda$ and a $\\sigma_m$."
   ]
  },
  {
   "cell_type": "markdown",
   "id": "4d52585f",
   "metadata": {},
   "source": [
    "To make the above code direclty reusable, we simplify a bit and only consider \"manipulation\" trials."
   ]
  },
  {
   "cell_type": "markdown",
   "id": "d52aa874",
   "metadata": {},
   "source": [
    "**What do you observe, when using model B to fit the data obtained by model C?**"
   ]
  },
  {
   "cell_type": "markdown",
   "id": "f9c98aae",
   "metadata": {
    "editable": true,
    "slideshow": {
     "slide_type": ""
    },
    "tags": []
   },
   "source": [
    "\n",
    "# PART II\n",
    "## Parameter recovery, model validation, bootstrap\n",
    "\n",
    "**In this tutorial, we will see how to:**\n",
    "\n",
    "- Validate the modeling results against experimental data\n",
    "- Test model recovery\n",
    "- Use bootstrapping to estimate the uncertainty of fitted model parameters\n"
   ]
  },
  {
   "cell_type": "code",
   "execution_count": null,
   "id": "db8bb05f",
   "metadata": {},
   "outputs": [],
   "source": [
    "# # define the github path and authorization token\n",
    "# RAW_GITHUB_PATH = 'https://raw.githubusercontent.com/bambschool/BAMB2024/main/1-modeling_101/'\n",
    "\n",
    "# # define the list of files to be downloaded\n",
    "# files = ['tutorial_1_lib.py']\n",
    "\n",
    "# for file in files:\n",
    "#   !wget -O {file} \"{RAW_GITHUB_PATH}{file}\""
   ]
  },
  {
   "cell_type": "code",
   "execution_count": null,
   "id": "59cecfe7",
   "metadata": {},
   "outputs": [],
   "source": [
    "# import packages\n",
    "import numpy as np\n",
    "import pandas as pd\n",
    "import matplotlib.pyplot as plt\n",
    "from scipy.stats import norm\n",
    "from scipy.stats import pearsonr\n",
    "import scipy.optimize as optimize\n",
    "\n",
    "from tutorial_1_lib import *"
   ]
  },
  {
   "cell_type": "markdown",
   "id": "67461068",
   "metadata": {},
   "source": [
    "**We use model B to generate fake data and in the following we assume that this is our actual experimental data.**"
   ]
  },
  {
   "cell_type": "code",
   "execution_count": null,
   "id": "a248d2c1",
   "metadata": {},
   "outputs": [],
   "source": [
    "\n",
    "# generate fake data\n",
    "n = 2500 # number of trials\n",
    "stim_values = [-3, -2, -1, -.5, 0,.5, 1, 2, 3] # all possible values of stimulus evidence (i.e. signed stim strength)\n",
    "# parameters of model B\n",
    "sigma = 1 # decision noise\n",
    "Lambda = 0.2 # proportion of lapses\n",
    "#first generate experimental conditions for each trial\n",
    "c = np.random.choice(a=['control', 'manipulation'], size=n) # condition\n",
    "s = np.random.choice(a=stim_values, size=n) #stimulus evidence\n",
    "#simulate model\n",
    "r = simulate_modelB(s, c, sigma_d=sigma, Lambda=Lambda)\n",
    "exp_data = pd.DataFrame({'stimulus': s, 'condition':c, 'response':r})\n"
   ]
  },
  {
   "cell_type": "markdown",
   "id": "6658cfdd",
   "metadata": {},
   "source": [
    "---\n",
    "# II.1 Model validation\n",
    "\n",
    "\n",
    "As a very simple example for model validation, we will fit model A and B to the experimental data and compare how well the best-fitting model fits the psychometric curve.\n",
    "\n",
    "**Fit model B to the experimental data and show the model result and the psychometric curve.**\n"
   ]
  },
  {
   "cell_type": "code",
   "execution_count": null,
   "id": "0753d12d",
   "metadata": {},
   "outputs": [],
   "source": [
    "\n",
    "# fit model B\n",
    "p_opt = optimize.minimize(lambda pp: -LogLikelihood_modelB(exp_data, pp[0], pp[1]), x0=[0.75, 0.1], bounds=[(0.1, 10), (0.01, 1)]).x\n",
    "\n",
    "# Retrieve the optimized parameters\n",
    "(sigma_d_hat, Lambda_hat) = p_opt\n",
    "\n",
    "# plot model predictions\n",
    "plot_model(lambda s,c: p_modelB(s,c,sigma_d=sigma_d_hat, Lambda=Lambda_hat))\n",
    "\n",
    "# plot psychometric curve on top\n",
    "plot_data_psychometric(exp_data)\n"
   ]
  },
  {
   "cell_type": "markdown",
   "id": "bb93d6eb",
   "metadata": {},
   "source": [
    "\n",
    "**Now fit model A to the experimental data and compare to the result obtained above.**\n"
   ]
  },
  {
   "cell_type": "code",
   "execution_count": null,
   "id": "76a1e2b1",
   "metadata": {},
   "outputs": [],
   "source": []
  },
  {
   "cell_type": "markdown",
   "id": "0bf3a3cb",
   "metadata": {},
   "source": [
    "\n",
    "Fitting the experimental data with model A that does not include lapses but a different $\\sigma_m$, we get a worse fit for all the data points and the slope of the fit does not seem right.\n",
    "\n",
    "Of course, this is trivial here because we now that the \"experimental data\" actually includes lapses. It is important to note that not including a lapse rate can lead to real-world problems when fitting psychometric functions. We will talk more about this further below.\n"
   ]
  },
  {
   "cell_type": "markdown",
   "id": "f71559b2",
   "metadata": {},
   "source": [
    "In general, it is a good idea to show not only that the best-fitting model validates, but that the alternative models do NOT validate (often many models are validated on simple behavioral metrics, and we need of specific patterns of behavior to arbitrate between different models)."
   ]
  },
  {
   "cell_type": "markdown",
   "id": "ce4919eb",
   "metadata": {},
   "source": [
    "---\n",
    "# II.2. Parameter recovery\n"
   ]
  },
  {
   "cell_type": "markdown",
   "id": "a25868af",
   "metadata": {},
   "source": [
    "## Simulation and fitting"
   ]
  },
  {
   "cell_type": "markdown",
   "id": "db4fb19f",
   "metadata": {},
   "source": [
    "**Simulate Model B to generate synthetic data, then fit these data.**\n",
    "\n",
    "We will do this step by step. We will first simulate model B using `simulate_modelB` with different random parameters $\\sigma_d$ and $\\lambda$. Note that the parameter recovery result will depend on the probability distribution used to sample the parameters.\n",
    "\n",
    "After simulating the model, we will fit the parameters using a maximum likelihood approach to get estimated values $\\hat{\\sigma_d}$ and $\\hat{\\lambda}$. "
   ]
  },
  {
   "cell_type": "code",
   "execution_count": null,
   "id": "b448c72d",
   "metadata": {},
   "outputs": [],
   "source": [
    "# loop over at least 100 repetitions\n",
    "n_rep_sqrt = 20\n",
    "n_rep = n_rep_sqrt ** 2\n",
    "\n",
    "# specify parameters of the experiment\n",
    "n = 2500  # number of trials\n",
    "stim_values = [-3, -2, -1, -.5, 0,.5, 1, 2, 3]  # all possible values of stimulus evidence (i.e. signed stim strength)\n",
    "\n",
    "# specify plaubsible range of model parameters\n",
    "Lambda = np.reshape(np.repeat(np.linspace(0.005, 0.96, n_rep_sqrt), n_rep_sqrt, axis = 0), (n_rep, ))\n",
    "sigma = np.reshape(np.tile(np.linspace(0.3, 3.0, n_rep_sqrt), n_rep_sqrt), (n_rep, ))\n",
    "bounds = [(sigma[0], sigma[-1]), (Lambda[0], Lambda[-1])]\n",
    "\n",
    "pars = np.zeros((n_rep,2))\n",
    "for i in range(n_rep):\n",
    "    # first generate experimental conditions for each trial\n",
    "    c = np.random.choice(a=['control', 'manipulation'], size=n) # condition\n",
    "    s = np.random.choice(a=stim_values, size=n) #stimulus evidence\n",
    "\n",
    "    # simulate model B\n",
    "    data = simulate_modelB(s, c, sigma[i], Lambda[i])\n",
    "    df = pd.DataFrame({'stimulus': s, 'condition':c, 'response':data}) \n",
    "    \n",
    "    # fit model B\n",
    "    result = optimize.minimize(lambda pp:  -LogLikelihood_modelB(df, pp[0], pp[1]), x0=[1, 0.5], bounds=bounds)\n",
    "    # store fitted parameters\n",
    "    pars[i,0] = result.x[0]\n",
    "    pars[i,1] = result.x[1]\n"
   ]
  },
  {
   "cell_type": "markdown",
   "id": "ceec8d60",
   "metadata": {},
   "source": [
    "## Parameter recovery plots"
   ]
  },
  {
   "cell_type": "markdown",
   "id": "dd3523ea",
   "metadata": {},
   "source": [
    "We would like to visualise the fitted parameter values as a function of the generating parameter values. We will have one data point for each iteration. Here, you should use the generating values and the fitted values that you have stored in the section above. You should create two subplots, one for each parameter. Do you observe a fairly good agreement between the simulated and fit parameter values?"
   ]
  },
  {
   "cell_type": "code",
   "execution_count": null,
   "id": "a0aead14",
   "metadata": {},
   "outputs": [],
   "source": [
    "fig, ax = plt.subplots(1, 3, figsize=(9,3))\n",
    "ax[0].scatter(sigma, pars[:,0])\n",
    "ax[0].plot([0.5,3],[0.5,3], c='r')\n",
    "ax[1].scatter(Lambda, pars[:,1])\n",
    "ax[1].plot([0,1],[0,1], c='r')\n",
    "ax[2].scatter(pars[:,0], pars[:,1])\n",
    "plt.show()"
   ]
  },
  {
   "cell_type": "markdown",
   "id": "30381e9b",
   "metadata": {},
   "source": [
    "\n",
    "These plots show strong correlation between true and fitted paramters and also reveal whether the correlation holds in some parameter regimes but not others. It also reveals any existing bias (e.g. a tendency to recover higher or lower values in average) which does not seem to be the case here.\n",
    "\n",
    "Depending on the parameter values that we obtain when fitting human behavior, the worse correspondence in some parameter range may or may not be problematic. It is be a good idea to use the range of parameters obtained from fitting the real data to test the quality of recovery within the range that matters. \n",
    "\n",
    "Reliable parameter recovery is particularly important for look at inter-individual differences in relation to questionnaire scores or brain data.\n"
   ]
  },
  {
   "cell_type": "markdown",
   "id": "705e239d",
   "metadata": {},
   "source": [
    " **Optional:** Include a third subplot which shows a scatterplot of the fitted parameters $\\sigma$ and $\\lambda$. Also compute the correlation between the two parameters. How do you interpret the result?"
   ]
  },
  {
   "cell_type": "code",
   "execution_count": null,
   "id": "136639de",
   "metadata": {},
   "outputs": [],
   "source": [
    "from scipy.stats import linregress\n",
    "print(linregress(*(pars.T)).pvalue)"
   ]
  },
  {
   "cell_type": "markdown",
   "id": "5d94df55",
   "metadata": {},
   "source": [
    "This entails that we could find this sample or more extreme ones for an uncorrelated population in 86% of the trials. Therefore, no correlation can be inferred."
   ]
  },
  {
   "cell_type": "markdown",
   "id": "542d8f7c",
   "metadata": {},
   "source": [
    "The fitted parameters are not correlated, indicating that our parameters are identifyable (they cannot be trade-off against each other)"
   ]
  },
  {
   "cell_type": "markdown",
   "id": "d68b8405",
   "metadata": {},
   "source": [
    "---\n",
    "# II.3 Parameter uncertainty estimation (bootstrap)"
   ]
  },
  {
   "cell_type": "markdown",
   "id": "e7b19706",
   "metadata": {},
   "source": [
    "\n",
    "[Bootstrapping](https://en.wikipedia.org/wiki/Bootstrapping_(statistics)) is a widely applicable method to assess confidence/uncertainty about estimated parameters, it was originally [proposed](https://projecteuclid.org/euclid.aos/1176344552) by [Bradley Efron](https://en.wikipedia.org/wiki/Bradley_Efron). The idea is to generate many new synthetic datasets from the initial true dataset by randomly sampling from it, then finding estimators for each one of these new datasets, and finally looking at the distribution of all these estimators to quantify our confidence.\n",
    "\n",
    "Note that each new resampled datasets will be the same size as our original one, with the new data points sampled with replacement i.e. we can repeat the same data point multiple times. Also note that in practice we need a lot of resampled datasets.\n",
    "\n",
    "To explore this idea, we will work againg wit the \"experimental data\" generated above (the DataFrame `exp_data`).\n",
    "\n",
    "\n",
    "**Generate resampled data and display the psychometric curves for the original and the resampled data.** Repeat this several times to get a feeling for the \"randomness\", that is how different the resampled data is from the original data.\n"
   ]
  },
  {
   "cell_type": "code",
   "execution_count": null,
   "id": "e3002e4c",
   "metadata": {},
   "outputs": [],
   "source": [
    "\n",
    "bootstrap_sample = exp_data.sample(n=len(exp_data), replace=True)\n",
    "\n",
    "# plot psychometric curve\n",
    "plot_data_psychometric(exp_data)\n",
    "plot_data_psychometric(bootstrap_sample)\n",
    "#plt.legend(('Original','Resampled'));\n"
   ]
  },
  {
   "cell_type": "markdown",
   "id": "3df0076e",
   "metadata": {},
   "source": [
    "## Generate bootstrap estimates\n",
    "\n",
    "In this exercise you will implement a method to run the bootstrap process of generating a set of fitted parameters from a dataset.\n"
   ]
  },
  {
   "cell_type": "markdown",
   "id": "5ebcae52",
   "metadata": {},
   "source": [
    "We will do this for model B, that is, we will fit the model B and return an array with the fitted parameters $\\sigma_m$ and $\\lambda$.\n"
   ]
  },
  {
   "cell_type": "code",
   "execution_count": null,
   "id": "efce86a4",
   "metadata": {},
   "outputs": [],
   "source": [
    "def bootstrap_estimates(data, n=2000, bounds=[(0.3, 5), (0.005, 0.96)]):\n",
    "  \"\"\"Generate a set of theta_hat estimates using the bootstrap method.\n",
    "  Args:\n",
    "    data (DataFrame)\n",
    "    n (int): The number of estimates to compute\n",
    "  Returns:\n",
    "    ndarray: An array of estimated parameters with size (n,)\n",
    "  \"\"\"\n",
    "\n",
    "  theta_hats = np.zeros((n,2))\n",
    "\n",
    "  # Loop over number of estimates\n",
    "  for i in range(n):\n",
    "    # Resample data\n",
    "    bootstrap_sample = data.sample(n=len(data), replace=True)\n",
    "    \n",
    "    # Compute theta_hat for this sample\n",
    "    theta_hats[i,:] = optimize.minimize(lambda pp: -LogLikelihood_modelB(bootstrap_sample, pp[0], pp[1]), x0=(1, 0.5), bounds=bounds).x\n",
    "\n",
    "  return theta_hats\n",
    "\n",
    "# Get bootstrap estimates (generate only 3 bootstrap samples for a quick check if everything works)\n",
    "theta_hats = bootstrap_estimates(exp_data, n=500)\n",
    "print(theta_hats)"
   ]
  },
  {
   "cell_type": "markdown",
   "id": "910c8956",
   "metadata": {},
   "source": [
    "## Plot bootstrap samples and confidence intervals\n",
    "\n",
    "Let us now quantify how uncertain our estimated parameters ($\\sigma_m$ and $\\lambda$) are. We do so by computing confidence intervals from our bootstrapped estimates. The most direct approach is to compute percentiles from the empirical distribution of bootstrapped estimates. Note that this is widely applicable as we are not assuming that this empirical distribution is Gaussian.\n"
   ]
  },
  {
   "cell_type": "code",
   "execution_count": null,
   "id": "3ae3f374",
   "metadata": {},
   "outputs": [],
   "source": [
    "\n",
    "means = np.mean(theta_hats,axis=0)\n",
    "stds = np.std(theta_hats,axis=0)\n",
    "medians = ...  # compute medians\n",
    "CIs = ...  # compute 95% confidence intervals\n",
    "\n",
    "fig, ax = plt.subplots(ncols=2, figsize=(12, 5))\n",
    "\n",
    "for i in range(2):\n",
    "    ax[i].hist(theta_hats[:,i], bins=20, facecolor='C1', alpha=0.75);\n",
    "    ax[i].axvline(medians[i], color='r', label='Median')\n",
    "\n",
    "    # show confidence intervals:\n",
    "    # ...\n",
    "    # ...\n",
    "    \n",
    "    ax[i].legend()\n",
    "    ax[i].set(\n",
    "        title='Bootstrapped Confidence Interval for parameter '+str(i),\n",
    "        xlabel=r'$\\hat{{w_' + str(i) +'}}$',\n",
    "        ylabel='count');\n"
   ]
  },
  {
   "cell_type": "markdown",
   "id": "81a4cf6b",
   "metadata": {},
   "source": [
    "## Illustrate bootstrap estimates (show fitted psychometric functions)\n",
    "\n",
    "Now that we have our bootstrap estimates, we can visualize all the potential models (models computed with different resampling) together to see how distributed they are. "
   ]
  },
  {
   "cell_type": "code",
   "execution_count": null,
   "id": "bb9eb134",
   "metadata": {},
   "outputs": [],
   "source": [
    "\n",
    "fig, ax = plt.subplots()\n",
    "\n",
    "# plot all model fits obtained from bootstrap samples\n",
    "for i, theta_hat in enumerate(theta_hats):\n",
    "    ...\n",
    "\n",
    "# make the lines transparant to get a feeling for the distribution of model fits\n",
    "for line in plt.gca().lines:\n",
    "    line.set_alpha(0.005)\n",
    "\n",
    "plot_data_psychometric(exp_data)\n"
   ]
  },
  {
   "cell_type": "markdown",
   "id": "107bc005",
   "metadata": {},
   "source": [
    "\n",
    "## Summary of bootstrapping\n",
    "\n",
    "- Bootstrapping is a resampling procedure that allows to build confidence intervals around inferred parameter values\n",
    "- it is a widely applicable and very practical method that relies on computational power and pseudo-random number generators (as opposed to more classical approaches than depend on analytical derivations)\n",
    "- is non-parametric: the confidence intervals provided by statistical libraries are not always accurate because they assume an underlying gaussian distribution for parameters, which is not always the case."
   ]
  },
  {
   "cell_type": "markdown",
   "id": "c0aeb7e0",
   "metadata": {},
   "source": [
    "---\n",
    "# Optional part: Parameter trade-off between $\\lambda$ and $\\sigma$\n"
   ]
  },
  {
   "cell_type": "markdown",
   "id": "5b3bdacc",
   "metadata": {},
   "source": [
    "Above we have run a parameter recover analysis for model B that has a fixed $\\sigma_c$ across the two experimental condtions, and only $\\lambda$ is different between the conditions. Here, we will consider a more interesting example, let's call it model C. In model C, we also allow $\\sigma_m$ to change between conditions, that is in the manipulated condition is now described by a $\\lambda$ and a $\\sigma_m$."
   ]
  },
  {
   "cell_type": "markdown",
   "id": "dff048d6",
   "metadata": {},
   "source": [
    "To make the above code direclty reusable, we simplify a bit and only consider \"manipulation\" trials."
   ]
  },
  {
   "cell_type": "markdown",
   "id": "678c435e",
   "metadata": {},
   "source": [
    "**What do you observe, when using model B to fit the data obtained by model C?**"
   ]
  },
  {
   "cell_type": "markdown",
   "id": "a28eb9f2",
   "metadata": {
    "editable": true,
    "slideshow": {
     "slide_type": ""
    },
    "tags": []
   },
   "source": [
    "\n",
    "# PART II\n",
    "## Parameter recovery, model validation, bootstrap\n",
    "\n",
    "**In this tutorial, we will see how to:**\n",
    "\n",
    "- Validate the modeling results against experimental data\n",
    "- Test model recovery\n",
    "- Use bootstrapping to estimate the uncertainty of fitted model parameters\n"
   ]
  },
  {
   "cell_type": "code",
   "execution_count": null,
   "id": "e65a0501",
   "metadata": {},
   "outputs": [],
   "source": [
    "# # define the github path and authorization token\n",
    "# RAW_GITHUB_PATH = 'https://raw.githubusercontent.com/bambschool/BAMB2024/main/1-modeling_101/'\n",
    "\n",
    "# # define the list of files to be downloaded\n",
    "# files = ['tutorial_1_lib.py']\n",
    "\n",
    "# for file in files:\n",
    "#   !wget -O {file} \"{RAW_GITHUB_PATH}{file}\""
   ]
  },
  {
   "cell_type": "code",
   "execution_count": null,
   "id": "3836e716",
   "metadata": {},
   "outputs": [],
   "source": [
    "# import packages\n",
    "import numpy as np\n",
    "import pandas as pd\n",
    "import matplotlib.pyplot as plt\n",
    "from scipy.stats import norm\n",
    "from scipy.stats import pearsonr\n",
    "import scipy.optimize as optimize\n",
    "\n",
    "from tutorial_1_lib import *"
   ]
  },
  {
   "cell_type": "markdown",
   "id": "fd40195f",
   "metadata": {},
   "source": [
    "**We use model B to generate fake data and in the following we assume that this is our actual experimental data.**"
   ]
  },
  {
   "cell_type": "code",
   "execution_count": null,
   "id": "7df28353",
   "metadata": {},
   "outputs": [],
   "source": [
    "\n",
    "# generate fake data\n",
    "n = 2500 # number of trials\n",
    "stim_values = [-3, -2, -1, -.5, 0,.5, 1, 2, 3] # all possible values of stimulus evidence (i.e. signed stim strength)\n",
    "# parameters of model B\n",
    "sigma = 1 # decision noise\n",
    "Lambda = 0.2 # proportion of lapses\n",
    "#first generate experimental conditions for each trial\n",
    "c = np.random.choice(a=['control', 'manipulation'], size=n) # condition\n",
    "s = np.random.choice(a=stim_values, size=n) #stimulus evidence\n",
    "#simulate model\n",
    "r = simulate_modelB(s, c, sigma_d=sigma, Lambda=Lambda)\n",
    "exp_data = pd.DataFrame({'stimulus': s, 'condition':c, 'response':r})\n"
   ]
  },
  {
   "cell_type": "markdown",
   "id": "c7de7a73",
   "metadata": {},
   "source": [
    "---\n",
    "# II.1 Model validation\n",
    "\n",
    "\n",
    "As a very simple example for model validation, we will fit model A and B to the experimental data and compare how well the best-fitting model fits the psychometric curve.\n",
    "\n",
    "**Fit model B to the experimental data and show the model result and the psychometric curve.**\n"
   ]
  },
  {
   "cell_type": "code",
   "execution_count": null,
   "id": "1c68df2c",
   "metadata": {},
   "outputs": [],
   "source": [
    "\n",
    "# fit model B\n",
    "p_opt = optimize.minimize(lambda pp: -LogLikelihood_modelB(exp_data, pp[0], pp[1]), x0=[0.75, 0.1], bounds=[(0.1, 10), (0.01, 1)]).x\n",
    "\n",
    "# Retrieve the optimized parameters\n",
    "(sigma_d_hat, Lambda_hat) = p_opt\n",
    "\n",
    "# plot model predictions\n",
    "plot_model(lambda s,c: p_modelB(s,c,sigma_d=sigma_d_hat, Lambda=Lambda_hat))\n",
    "\n",
    "# plot psychometric curve on top\n",
    "plot_data_psychometric(exp_data)\n"
   ]
  },
  {
   "cell_type": "markdown",
   "id": "2cf6d9c0",
   "metadata": {},
   "source": [
    "\n",
    "**Now fit model A to the experimental data and compare to the result obtained above.**\n"
   ]
  },
  {
   "cell_type": "code",
   "execution_count": null,
   "id": "8ef52a69",
   "metadata": {},
   "outputs": [],
   "source": []
  },
  {
   "cell_type": "markdown",
   "id": "de3888e1",
   "metadata": {},
   "source": [
    "\n",
    "Fitting the experimental data with model A that does not include lapses but a different $\\sigma_m$, we get a worse fit for all the data points and the slope of the fit does not seem right.\n",
    "\n",
    "Of course, this is trivial here because we now that the \"experimental data\" actually includes lapses. It is important to note that not including a lapse rate can lead to real-world problems when fitting psychometric functions. We will talk more about this further below.\n"
   ]
  },
  {
   "cell_type": "markdown",
   "id": "1407da06",
   "metadata": {},
   "source": [
    "In general, it is a good idea to show not only that the best-fitting model validates, but that the alternative models do NOT validate (often many models are validated on simple behavioral metrics, and we need of specific patterns of behavior to arbitrate between different models)."
   ]
  },
  {
   "cell_type": "markdown",
   "id": "2704b802",
   "metadata": {},
   "source": [
    "---\n",
    "# II.2. Parameter recovery\n"
   ]
  },
  {
   "cell_type": "markdown",
   "id": "46dcb67b",
   "metadata": {},
   "source": [
    "## Simulation and fitting"
   ]
  },
  {
   "cell_type": "markdown",
   "id": "fdc0acd1",
   "metadata": {},
   "source": [
    "**Simulate Model B to generate synthetic data, then fit these data.**\n",
    "\n",
    "We will do this step by step. We will first simulate model B using `simulate_modelB` with different random parameters $\\sigma_d$ and $\\lambda$. Note that the parameter recovery result will depend on the probability distribution used to sample the parameters.\n",
    "\n",
    "After simulating the model, we will fit the parameters using a maximum likelihood approach to get estimated values $\\hat{\\sigma_d}$ and $\\hat{\\lambda}$. "
   ]
  },
  {
   "cell_type": "code",
   "execution_count": null,
   "id": "cd4ceff7",
   "metadata": {},
   "outputs": [],
   "source": [
    "# loop over at least 100 repetitions\n",
    "n_rep_sqrt = 20\n",
    "n_rep = n_rep_sqrt ** 2\n",
    "\n",
    "# specify parameters of the experiment\n",
    "n = 2500  # number of trials\n",
    "stim_values = [-3, -2, -1, -.5, 0,.5, 1, 2, 3]  # all possible values of stimulus evidence (i.e. signed stim strength)\n",
    "\n",
    "# specify plaubsible range of model parameters\n",
    "Lambda = np.reshape(np.repeat(np.linspace(0.005, 0.96, n_rep_sqrt), n_rep_sqrt, axis = 0), (n_rep, ))\n",
    "sigma = np.reshape(np.tile(np.linspace(0.3, 3.0, n_rep_sqrt), n_rep_sqrt), (n_rep, ))\n",
    "bounds = [(sigma[0], sigma[-1]), (Lambda[0], Lambda[-1])]\n",
    "\n",
    "pars = np.zeros((n_rep,2))\n",
    "for i in range(n_rep):\n",
    "    # first generate experimental conditions for each trial\n",
    "    c = np.random.choice(a=['control', 'manipulation'], size=n) # condition\n",
    "    s = np.random.choice(a=stim_values, size=n) #stimulus evidence\n",
    "\n",
    "    # simulate model B\n",
    "    data = simulate_modelB(s, c, sigma[i], Lambda[i])\n",
    "    df = pd.DataFrame({'stimulus': s, 'condition':c, 'response':data}) \n",
    "    \n",
    "    # fit model B\n",
    "    result = optimize.minimize(lambda pp:  -LogLikelihood_modelB(df, pp[0], pp[1]), x0=[1, 0.5], bounds=bounds)\n",
    "    # store fitted parameters\n",
    "    pars[i,0] = result.x[0]\n",
    "    pars[i,1] = result.x[1]\n"
   ]
  },
  {
   "cell_type": "markdown",
   "id": "1be50187",
   "metadata": {},
   "source": [
    "## Parameter recovery plots"
   ]
  },
  {
   "cell_type": "markdown",
   "id": "dcf1c676",
   "metadata": {},
   "source": [
    "We would like to visualise the fitted parameter values as a function of the generating parameter values. We will have one data point for each iteration. Here, you should use the generating values and the fitted values that you have stored in the section above. You should create two subplots, one for each parameter. Do you observe a fairly good agreement between the simulated and fit parameter values?"
   ]
  },
  {
   "cell_type": "code",
   "execution_count": null,
   "id": "6b052a66",
   "metadata": {},
   "outputs": [],
   "source": [
    "fig, ax = plt.subplots(1, 3, figsize=(9,3))\n",
    "ax[0].scatter(sigma, pars[:,0])\n",
    "ax[0].plot([0.5,3],[0.5,3], c='r')\n",
    "ax[1].scatter(Lambda, pars[:,1])\n",
    "ax[1].plot([0,1],[0,1], c='r')\n",
    "ax[2].scatter(pars[:,0], pars[:,1])\n",
    "plt.show()"
   ]
  },
  {
   "cell_type": "markdown",
   "id": "d7b6c030",
   "metadata": {},
   "source": [
    "\n",
    "These plots show strong correlation between true and fitted paramters and also reveal whether the correlation holds in some parameter regimes but not others. It also reveals any existing bias (e.g. a tendency to recover higher or lower values in average) which does not seem to be the case here.\n",
    "\n",
    "Depending on the parameter values that we obtain when fitting human behavior, the worse correspondence in some parameter range may or may not be problematic. It is be a good idea to use the range of parameters obtained from fitting the real data to test the quality of recovery within the range that matters. \n",
    "\n",
    "Reliable parameter recovery is particularly important for look at inter-individual differences in relation to questionnaire scores or brain data.\n"
   ]
  },
  {
   "cell_type": "markdown",
   "id": "c7285203",
   "metadata": {},
   "source": [
    " **Optional:** Include a third subplot which shows a scatterplot of the fitted parameters $\\sigma$ and $\\lambda$. Also compute the correlation between the two parameters. How do you interpret the result?"
   ]
  },
  {
   "cell_type": "code",
   "execution_count": null,
   "id": "f1719020",
   "metadata": {},
   "outputs": [],
   "source": [
    "from scipy.stats import linregress\n",
    "print(linregress(*(pars.T)).pvalue)"
   ]
  },
  {
   "cell_type": "markdown",
   "id": "2ce13ae4",
   "metadata": {},
   "source": [
    "This entails that we could find this sample or more extreme ones for an uncorrelated population in 86% of the trials. Therefore, no correlation can be inferred."
   ]
  },
  {
   "cell_type": "markdown",
   "id": "60575bc6",
   "metadata": {},
   "source": [
    "The fitted parameters are not correlated, indicating that our parameters are identifyable (they cannot be trade-off against each other)"
   ]
  },
  {
   "cell_type": "markdown",
   "id": "87810710",
   "metadata": {},
   "source": [
    "---\n",
    "# II.3 Parameter uncertainty estimation (bootstrap)"
   ]
  },
  {
   "cell_type": "markdown",
   "id": "73fd572b",
   "metadata": {},
   "source": [
    "\n",
    "[Bootstrapping](https://en.wikipedia.org/wiki/Bootstrapping_(statistics)) is a widely applicable method to assess confidence/uncertainty about estimated parameters, it was originally [proposed](https://projecteuclid.org/euclid.aos/1176344552) by [Bradley Efron](https://en.wikipedia.org/wiki/Bradley_Efron). The idea is to generate many new synthetic datasets from the initial true dataset by randomly sampling from it, then finding estimators for each one of these new datasets, and finally looking at the distribution of all these estimators to quantify our confidence.\n",
    "\n",
    "Note that each new resampled datasets will be the same size as our original one, with the new data points sampled with replacement i.e. we can repeat the same data point multiple times. Also note that in practice we need a lot of resampled datasets.\n",
    "\n",
    "To explore this idea, we will work againg wit the \"experimental data\" generated above (the DataFrame `exp_data`).\n",
    "\n",
    "\n",
    "**Generate resampled data and display the psychometric curves for the original and the resampled data.** Repeat this several times to get a feeling for the \"randomness\", that is how different the resampled data is from the original data.\n"
   ]
  },
  {
   "cell_type": "code",
   "execution_count": null,
   "id": "80c6fd38",
   "metadata": {},
   "outputs": [],
   "source": [
    "\n",
    "bootstrap_sample = exp_data.sample(n=len(exp_data), replace=True)\n",
    "\n",
    "# plot psychometric curve\n",
    "plot_data_psychometric(exp_data)\n",
    "plot_data_psychometric(bootstrap_sample)\n",
    "#plt.legend(('Original','Resampled'));\n"
   ]
  },
  {
   "cell_type": "markdown",
   "id": "a1303b14",
   "metadata": {},
   "source": [
    "## Generate bootstrap estimates\n",
    "\n",
    "In this exercise you will implement a method to run the bootstrap process of generating a set of fitted parameters from a dataset.\n"
   ]
  },
  {
   "cell_type": "markdown",
   "id": "2b9a00b6",
   "metadata": {},
   "source": [
    "We will do this for model B, that is, we will fit the model B and return an array with the fitted parameters $\\sigma_m$ and $\\lambda$.\n"
   ]
  },
  {
   "cell_type": "code",
   "execution_count": null,
   "id": "723cd19e",
   "metadata": {},
   "outputs": [],
   "source": [
    "def bootstrap_estimates(data, n=2000, bounds=[(0.3, 5), (0.005, 0.96)]):\n",
    "  \"\"\"Generate a set of theta_hat estimates using the bootstrap method.\n",
    "  Args:\n",
    "    data (DataFrame)\n",
    "    n (int): The number of estimates to compute\n",
    "  Returns:\n",
    "    ndarray: An array of estimated parameters with size (n,)\n",
    "  \"\"\"\n",
    "\n",
    "  theta_hats = np.zeros((n,2))\n",
    "\n",
    "  # Loop over number of estimates\n",
    "  for i in range(n):\n",
    "    # Resample data\n",
    "    bootstrap_sample = data.sample(n=len(data), replace=True)\n",
    "    \n",
    "    # Compute theta_hat for this sample\n",
    "    theta_hats[i,:] = optimize.minimize(lambda pp: -LogLikelihood_modelB(bootstrap_sample, pp[0], pp[1]), x0=(1, 0.5), bounds=bounds).x\n",
    "\n",
    "  return theta_hats\n",
    "\n",
    "# Get bootstrap estimates (generate only 3 bootstrap samples for a quick check if everything works)\n",
    "theta_hats = bootstrap_estimates(exp_data, n=500)\n",
    "print(theta_hats)"
   ]
  },
  {
   "cell_type": "markdown",
   "id": "2ac105c5",
   "metadata": {},
   "source": [
    "## Plot bootstrap samples and confidence intervals\n",
    "\n",
    "Let us now quantify how uncertain our estimated parameters ($\\sigma_m$ and $\\lambda$) are. We do so by computing confidence intervals from our bootstrapped estimates. The most direct approach is to compute percentiles from the empirical distribution of bootstrapped estimates. Note that this is widely applicable as we are not assuming that this empirical distribution is Gaussian.\n"
   ]
  },
  {
   "cell_type": "code",
   "execution_count": null,
   "id": "f5429ce2",
   "metadata": {},
   "outputs": [],
   "source": [
    "\n",
    "means = np.mean(theta_hats,axis=0)\n",
    "stds = np.std(theta_hats,axis=0)\n",
    "medians = ...  # compute medians\n",
    "CIs = ...  # compute 95% confidence intervals\n",
    "\n",
    "fig, ax = plt.subplots(ncols=2, figsize=(12, 5))\n",
    "\n",
    "for i in range(2):\n",
    "    ax[i].hist(theta_hats[:,i], bins=20, facecolor='C1', alpha=0.75);\n",
    "    ax[i].axvline(medians[i], color='r', label='Median')\n",
    "\n",
    "    # show confidence intervals:\n",
    "    # ...\n",
    "    # ...\n",
    "    \n",
    "    ax[i].legend()\n",
    "    ax[i].set(\n",
    "        title='Bootstrapped Confidence Interval for parameter '+str(i),\n",
    "        xlabel=r'$\\hat{{w_' + str(i) +'}}$',\n",
    "        ylabel='count');\n"
   ]
  },
  {
   "cell_type": "markdown",
   "id": "bba607ea",
   "metadata": {},
   "source": [
    "## Illustrate bootstrap estimates (show fitted psychometric functions)\n",
    "\n",
    "Now that we have our bootstrap estimates, we can visualize all the potential models (models computed with different resampling) together to see how distributed they are. "
   ]
  },
  {
   "cell_type": "code",
   "execution_count": null,
   "id": "96c5c227",
   "metadata": {},
   "outputs": [],
   "source": [
    "\n",
    "fig, ax = plt.subplots()\n",
    "\n",
    "# plot all model fits obtained from bootstrap samples\n",
    "for i, theta_hat in enumerate(theta_hats):\n",
    "    ...\n",
    "\n",
    "# make the lines transparant to get a feeling for the distribution of model fits\n",
    "for line in plt.gca().lines:\n",
    "    line.set_alpha(0.005)\n",
    "\n",
    "plot_data_psychometric(exp_data)\n"
   ]
  },
  {
   "cell_type": "markdown",
   "id": "d819d1bc",
   "metadata": {},
   "source": [
    "\n",
    "## Summary of bootstrapping\n",
    "\n",
    "- Bootstrapping is a resampling procedure that allows to build confidence intervals around inferred parameter values\n",
    "- it is a widely applicable and very practical method that relies on computational power and pseudo-random number generators (as opposed to more classical approaches than depend on analytical derivations)\n",
    "- is non-parametric: the confidence intervals provided by statistical libraries are not always accurate because they assume an underlying gaussian distribution for parameters, which is not always the case."
   ]
  },
  {
   "cell_type": "markdown",
   "id": "497f3d7b",
   "metadata": {},
   "source": [
    "---\n",
    "# Optional part: Parameter trade-off between $\\lambda$ and $\\sigma$\n"
   ]
  },
  {
   "cell_type": "markdown",
   "id": "20c8deab",
   "metadata": {},
   "source": [
    "Above we have run a parameter recover analysis for model B that has a fixed $\\sigma_c$ across the two experimental condtions, and only $\\lambda$ is different between the conditions. Here, we will consider a more interesting example, let's call it model C. In model C, we also allow $\\sigma_m$ to change between conditions, that is in the manipulated condition is now described by a $\\lambda$ and a $\\sigma_m$."
   ]
  },
  {
   "cell_type": "markdown",
   "id": "0cfef6f8",
   "metadata": {},
   "source": [
    "To make the above code direclty reusable, we simplify a bit and only consider \"manipulation\" trials."
   ]
  },
  {
   "cell_type": "markdown",
   "id": "9876e279",
   "metadata": {},
   "source": [
    "**What do you observe, when using model B to fit the data obtained by model C?**"
   ]
  },
  {
   "cell_type": "markdown",
   "id": "b75c4abc",
   "metadata": {
    "editable": true,
    "slideshow": {
     "slide_type": ""
    },
    "tags": []
   },
   "source": [
    "\n",
    "# PART II\n",
    "## Parameter recovery, model validation, bootstrap\n",
    "\n",
    "**In this tutorial, we will see how to:**\n",
    "\n",
    "- Validate the modeling results against experimental data\n",
    "- Test model recovery\n",
    "- Use bootstrapping to estimate the uncertainty of fitted model parameters\n"
   ]
  },
  {
   "cell_type": "code",
   "execution_count": null,
   "id": "4fb11bee",
   "metadata": {},
   "outputs": [],
   "source": [
    "# # define the github path and authorization token\n",
    "# RAW_GITHUB_PATH = 'https://raw.githubusercontent.com/bambschool/BAMB2024/main/1-modeling_101/'\n",
    "\n",
    "# # define the list of files to be downloaded\n",
    "# files = ['tutorial_1_lib.py']\n",
    "\n",
    "# for file in files:\n",
    "#   !wget -O {file} \"{RAW_GITHUB_PATH}{file}\""
   ]
  },
  {
   "cell_type": "code",
   "execution_count": null,
   "id": "3eca317d",
   "metadata": {},
   "outputs": [],
   "source": [
    "# import packages\n",
    "import numpy as np\n",
    "import pandas as pd\n",
    "import matplotlib.pyplot as plt\n",
    "from scipy.stats import norm\n",
    "from scipy.stats import pearsonr\n",
    "import scipy.optimize as optimize\n",
    "\n",
    "from tutorial_1_lib import *"
   ]
  },
  {
   "cell_type": "markdown",
   "id": "0727b655",
   "metadata": {},
   "source": [
    "**We use model B to generate fake data and in the following we assume that this is our actual experimental data.**"
   ]
  },
  {
   "cell_type": "code",
   "execution_count": null,
   "id": "a53f95de",
   "metadata": {},
   "outputs": [],
   "source": [
    "\n",
    "# generate fake data\n",
    "n = 2500 # number of trials\n",
    "stim_values = [-3, -2, -1, -.5, 0,.5, 1, 2, 3] # all possible values of stimulus evidence (i.e. signed stim strength)\n",
    "# parameters of model B\n",
    "sigma = 1 # decision noise\n",
    "Lambda = 0.2 # proportion of lapses\n",
    "#first generate experimental conditions for each trial\n",
    "c = np.random.choice(a=['control', 'manipulation'], size=n) # condition\n",
    "s = np.random.choice(a=stim_values, size=n) #stimulus evidence\n",
    "#simulate model\n",
    "r = simulate_modelB(s, c, sigma_d=sigma, Lambda=Lambda)\n",
    "exp_data = pd.DataFrame({'stimulus': s, 'condition':c, 'response':r})\n"
   ]
  },
  {
   "cell_type": "markdown",
   "id": "884617c2",
   "metadata": {},
   "source": [
    "---\n",
    "# II.1 Model validation\n",
    "\n",
    "\n",
    "As a very simple example for model validation, we will fit model A and B to the experimental data and compare how well the best-fitting model fits the psychometric curve.\n",
    "\n",
    "**Fit model B to the experimental data and show the model result and the psychometric curve.**\n"
   ]
  },
  {
   "cell_type": "code",
   "execution_count": null,
   "id": "46e84136",
   "metadata": {},
   "outputs": [],
   "source": [
    "\n",
    "# fit model B\n",
    "p_opt = optimize.minimize(lambda pp: -LogLikelihood_modelB(exp_data, pp[0], pp[1]), x0=[0.75, 0.1], bounds=[(0.1, 10), (0.01, 1)]).x\n",
    "\n",
    "# Retrieve the optimized parameters\n",
    "(sigma_d_hat, Lambda_hat) = p_opt\n",
    "\n",
    "# plot model predictions\n",
    "plot_model(lambda s,c: p_modelB(s,c,sigma_d=sigma_d_hat, Lambda=Lambda_hat))\n",
    "\n",
    "# plot psychometric curve on top\n",
    "plot_data_psychometric(exp_data)\n"
   ]
  },
  {
   "cell_type": "markdown",
   "id": "f87f3d90",
   "metadata": {},
   "source": [
    "\n",
    "**Now fit model A to the experimental data and compare to the result obtained above.**\n"
   ]
  },
  {
   "cell_type": "code",
   "execution_count": null,
   "id": "7c94c34c",
   "metadata": {},
   "outputs": [],
   "source": []
  },
  {
   "cell_type": "markdown",
   "id": "092d4e6b",
   "metadata": {},
   "source": [
    "\n",
    "Fitting the experimental data with model A that does not include lapses but a different $\\sigma_m$, we get a worse fit for all the data points and the slope of the fit does not seem right.\n",
    "\n",
    "Of course, this is trivial here because we now that the \"experimental data\" actually includes lapses. It is important to note that not including a lapse rate can lead to real-world problems when fitting psychometric functions. We will talk more about this further below.\n"
   ]
  },
  {
   "cell_type": "markdown",
   "id": "07a47d84",
   "metadata": {},
   "source": [
    "In general, it is a good idea to show not only that the best-fitting model validates, but that the alternative models do NOT validate (often many models are validated on simple behavioral metrics, and we need of specific patterns of behavior to arbitrate between different models)."
   ]
  },
  {
   "cell_type": "markdown",
   "id": "932c00dd",
   "metadata": {},
   "source": [
    "---\n",
    "# II.2. Parameter recovery\n"
   ]
  },
  {
   "cell_type": "markdown",
   "id": "8f5a1958",
   "metadata": {},
   "source": [
    "## Simulation and fitting"
   ]
  },
  {
   "cell_type": "markdown",
   "id": "b7af9de6",
   "metadata": {},
   "source": [
    "**Simulate Model B to generate synthetic data, then fit these data.**\n",
    "\n",
    "We will do this step by step. We will first simulate model B using `simulate_modelB` with different random parameters $\\sigma_d$ and $\\lambda$. Note that the parameter recovery result will depend on the probability distribution used to sample the parameters.\n",
    "\n",
    "After simulating the model, we will fit the parameters using a maximum likelihood approach to get estimated values $\\hat{\\sigma_d}$ and $\\hat{\\lambda}$. "
   ]
  },
  {
   "cell_type": "code",
   "execution_count": null,
   "id": "94c83121",
   "metadata": {},
   "outputs": [],
   "source": [
    "# loop over at least 100 repetitions\n",
    "n_rep_sqrt = 20\n",
    "n_rep = n_rep_sqrt ** 2\n",
    "\n",
    "# specify parameters of the experiment\n",
    "n = 2500  # number of trials\n",
    "stim_values = [-3, -2, -1, -.5, 0,.5, 1, 2, 3]  # all possible values of stimulus evidence (i.e. signed stim strength)\n",
    "\n",
    "# specify plaubsible range of model parameters\n",
    "Lambda = np.reshape(np.repeat(np.linspace(0.005, 0.96, n_rep_sqrt), n_rep_sqrt, axis = 0), (n_rep, ))\n",
    "sigma = np.reshape(np.tile(np.linspace(0.3, 3.0, n_rep_sqrt), n_rep_sqrt), (n_rep, ))\n",
    "bounds = [(sigma[0], sigma[-1]), (Lambda[0], Lambda[-1])]\n",
    "\n",
    "pars = np.zeros((n_rep,2))\n",
    "for i in range(n_rep):\n",
    "    # first generate experimental conditions for each trial\n",
    "    c = np.random.choice(a=['control', 'manipulation'], size=n) # condition\n",
    "    s = np.random.choice(a=stim_values, size=n) #stimulus evidence\n",
    "\n",
    "    # simulate model B\n",
    "    data = simulate_modelB(s, c, sigma[i], Lambda[i])\n",
    "    df = pd.DataFrame({'stimulus': s, 'condition':c, 'response':data}) \n",
    "    \n",
    "    # fit model B\n",
    "    result = optimize.minimize(lambda pp:  -LogLikelihood_modelB(df, pp[0], pp[1]), x0=[1, 0.5], bounds=bounds)\n",
    "    # store fitted parameters\n",
    "    pars[i,0] = result.x[0]\n",
    "    pars[i,1] = result.x[1]\n"
   ]
  },
  {
   "cell_type": "markdown",
   "id": "ccdd3820",
   "metadata": {},
   "source": [
    "## Parameter recovery plots"
   ]
  },
  {
   "cell_type": "markdown",
   "id": "6cfc0c32",
   "metadata": {},
   "source": [
    "We would like to visualise the fitted parameter values as a function of the generating parameter values. We will have one data point for each iteration. Here, you should use the generating values and the fitted values that you have stored in the section above. You should create two subplots, one for each parameter. Do you observe a fairly good agreement between the simulated and fit parameter values?"
   ]
  },
  {
   "cell_type": "code",
   "execution_count": null,
   "id": "b4f62bce",
   "metadata": {},
   "outputs": [],
   "source": [
    "fig, ax = plt.subplots(1, 3, figsize=(9,3))\n",
    "ax[0].scatter(sigma, pars[:,0])\n",
    "ax[0].plot([0.5,3],[0.5,3], c='r')\n",
    "ax[1].scatter(Lambda, pars[:,1])\n",
    "ax[1].plot([0,1],[0,1], c='r')\n",
    "ax[2].scatter(pars[:,0], pars[:,1])\n",
    "plt.show()"
   ]
  },
  {
   "cell_type": "markdown",
   "id": "c844dd05",
   "metadata": {},
   "source": [
    "\n",
    "These plots show strong correlation between true and fitted paramters and also reveal whether the correlation holds in some parameter regimes but not others. It also reveals any existing bias (e.g. a tendency to recover higher or lower values in average) which does not seem to be the case here.\n",
    "\n",
    "Depending on the parameter values that we obtain when fitting human behavior, the worse correspondence in some parameter range may or may not be problematic. It is be a good idea to use the range of parameters obtained from fitting the real data to test the quality of recovery within the range that matters. \n",
    "\n",
    "Reliable parameter recovery is particularly important for look at inter-individual differences in relation to questionnaire scores or brain data.\n"
   ]
  },
  {
   "cell_type": "markdown",
   "id": "18f67eab",
   "metadata": {},
   "source": [
    " **Optional:** Include a third subplot which shows a scatterplot of the fitted parameters $\\sigma$ and $\\lambda$. Also compute the correlation between the two parameters. How do you interpret the result?"
   ]
  },
  {
   "cell_type": "code",
   "execution_count": null,
   "id": "b6549a38",
   "metadata": {},
   "outputs": [],
   "source": [
    "from scipy.stats import linregress\n",
    "print(linregress(*(pars.T)).pvalue)"
   ]
  },
  {
   "cell_type": "markdown",
   "id": "2c434689",
   "metadata": {},
   "source": [
    "This entails that we could find this sample or more extreme ones for an uncorrelated population in 86% of the trials. Therefore, no correlation can be inferred."
   ]
  },
  {
   "cell_type": "markdown",
   "id": "77c86974",
   "metadata": {},
   "source": [
    "The fitted parameters are not correlated, indicating that our parameters are identifyable (they cannot be trade-off against each other)"
   ]
  },
  {
   "cell_type": "markdown",
   "id": "ca441778",
   "metadata": {},
   "source": [
    "---\n",
    "# II.3 Parameter uncertainty estimation (bootstrap)"
   ]
  },
  {
   "cell_type": "markdown",
   "id": "0301821a",
   "metadata": {},
   "source": [
    "\n",
    "[Bootstrapping](https://en.wikipedia.org/wiki/Bootstrapping_(statistics)) is a widely applicable method to assess confidence/uncertainty about estimated parameters, it was originally [proposed](https://projecteuclid.org/euclid.aos/1176344552) by [Bradley Efron](https://en.wikipedia.org/wiki/Bradley_Efron). The idea is to generate many new synthetic datasets from the initial true dataset by randomly sampling from it, then finding estimators for each one of these new datasets, and finally looking at the distribution of all these estimators to quantify our confidence.\n",
    "\n",
    "Note that each new resampled datasets will be the same size as our original one, with the new data points sampled with replacement i.e. we can repeat the same data point multiple times. Also note that in practice we need a lot of resampled datasets.\n",
    "\n",
    "To explore this idea, we will work againg wit the \"experimental data\" generated above (the DataFrame `exp_data`).\n",
    "\n",
    "\n",
    "**Generate resampled data and display the psychometric curves for the original and the resampled data.** Repeat this several times to get a feeling for the \"randomness\", that is how different the resampled data is from the original data.\n"
   ]
  },
  {
   "cell_type": "code",
   "execution_count": null,
   "id": "69433311",
   "metadata": {},
   "outputs": [],
   "source": [
    "\n",
    "bootstrap_sample = exp_data.sample(n=len(exp_data), replace=True)\n",
    "\n",
    "# plot psychometric curve\n",
    "plot_data_psychometric(exp_data)\n",
    "plot_data_psychometric(bootstrap_sample)\n",
    "#plt.legend(('Original','Resampled'));\n"
   ]
  },
  {
   "cell_type": "markdown",
   "id": "b23229b4",
   "metadata": {},
   "source": [
    "## Generate bootstrap estimates\n",
    "\n",
    "In this exercise you will implement a method to run the bootstrap process of generating a set of fitted parameters from a dataset.\n"
   ]
  },
  {
   "cell_type": "markdown",
   "id": "60526fb8",
   "metadata": {},
   "source": [
    "We will do this for model B, that is, we will fit the model B and return an array with the fitted parameters $\\sigma_m$ and $\\lambda$.\n"
   ]
  },
  {
   "cell_type": "code",
   "execution_count": null,
   "id": "5c6ecb03",
   "metadata": {},
   "outputs": [],
   "source": [
    "def bootstrap_estimates(data, n=2000, bounds=[(0.3, 5), (0.005, 0.96)]):\n",
    "  \"\"\"Generate a set of theta_hat estimates using the bootstrap method.\n",
    "  Args:\n",
    "    data (DataFrame)\n",
    "    n (int): The number of estimates to compute\n",
    "  Returns:\n",
    "    ndarray: An array of estimated parameters with size (n,)\n",
    "  \"\"\"\n",
    "\n",
    "  theta_hats = np.zeros((n,2))\n",
    "\n",
    "  # Loop over number of estimates\n",
    "  for i in range(n):\n",
    "    # Resample data\n",
    "    bootstrap_sample = data.sample(n=len(data), replace=True)\n",
    "    \n",
    "    # Compute theta_hat for this sample\n",
    "    theta_hats[i,:] = optimize.minimize(lambda pp: -LogLikelihood_modelB(bootstrap_sample, pp[0], pp[1]), x0=(1, 0.5), bounds=bounds).x\n",
    "\n",
    "  return theta_hats\n",
    "\n",
    "# Get bootstrap estimates (generate only 3 bootstrap samples for a quick check if everything works)\n",
    "theta_hats = bootstrap_estimates(exp_data, n=500)\n",
    "print(theta_hats)"
   ]
  },
  {
   "cell_type": "markdown",
   "id": "0c8ec466",
   "metadata": {},
   "source": [
    "## Plot bootstrap samples and confidence intervals\n",
    "\n",
    "Let us now quantify how uncertain our estimated parameters ($\\sigma_m$ and $\\lambda$) are. We do so by computing confidence intervals from our bootstrapped estimates. The most direct approach is to compute percentiles from the empirical distribution of bootstrapped estimates. Note that this is widely applicable as we are not assuming that this empirical distribution is Gaussian.\n"
   ]
  },
  {
   "cell_type": "code",
   "execution_count": null,
   "id": "cc08157a",
   "metadata": {},
   "outputs": [],
   "source": [
    "\n",
    "means = np.mean(theta_hats,axis=0)\n",
    "stds = np.std(theta_hats,axis=0)\n",
    "medians = ...  # compute medians\n",
    "CIs = ...  # compute 95% confidence intervals\n",
    "\n",
    "fig, ax = plt.subplots(ncols=2, figsize=(12, 5))\n",
    "\n",
    "for i in range(2):\n",
    "    ax[i].hist(theta_hats[:,i], bins=20, facecolor='C1', alpha=0.75);\n",
    "    ax[i].axvline(medians[i], color='r', label='Median')\n",
    "\n",
    "    # show confidence intervals:\n",
    "    # ...\n",
    "    # ...\n",
    "    \n",
    "    ax[i].legend()\n",
    "    ax[i].set(\n",
    "        title='Bootstrapped Confidence Interval for parameter '+str(i),\n",
    "        xlabel=r'$\\hat{{w_' + str(i) +'}}$',\n",
    "        ylabel='count');\n"
   ]
  },
  {
   "cell_type": "markdown",
   "id": "d1f3bdde",
   "metadata": {},
   "source": [
    "## Illustrate bootstrap estimates (show fitted psychometric functions)\n",
    "\n",
    "Now that we have our bootstrap estimates, we can visualize all the potential models (models computed with different resampling) together to see how distributed they are. "
   ]
  },
  {
   "cell_type": "code",
   "execution_count": null,
   "id": "81d21ece",
   "metadata": {},
   "outputs": [],
   "source": [
    "\n",
    "fig, ax = plt.subplots()\n",
    "\n",
    "# plot all model fits obtained from bootstrap samples\n",
    "for i, theta_hat in enumerate(theta_hats):\n",
    "    ...\n",
    "\n",
    "# make the lines transparant to get a feeling for the distribution of model fits\n",
    "for line in plt.gca().lines:\n",
    "    line.set_alpha(0.005)\n",
    "\n",
    "plot_data_psychometric(exp_data)\n"
   ]
  },
  {
   "cell_type": "markdown",
   "id": "4e3c30eb",
   "metadata": {},
   "source": [
    "\n",
    "## Summary of bootstrapping\n",
    "\n",
    "- Bootstrapping is a resampling procedure that allows to build confidence intervals around inferred parameter values\n",
    "- it is a widely applicable and very practical method that relies on computational power and pseudo-random number generators (as opposed to more classical approaches than depend on analytical derivations)\n",
    "- is non-parametric: the confidence intervals provided by statistical libraries are not always accurate because they assume an underlying gaussian distribution for parameters, which is not always the case."
   ]
  },
  {
   "cell_type": "markdown",
   "id": "a5e39304",
   "metadata": {},
   "source": [
    "---\n",
    "# Optional part: Parameter trade-off between $\\lambda$ and $\\sigma$\n"
   ]
  },
  {
   "cell_type": "markdown",
   "id": "0d9ab650",
   "metadata": {},
   "source": [
    "Above we have run a parameter recover analysis for model B that has a fixed $\\sigma_c$ across the two experimental condtions, and only $\\lambda$ is different between the conditions. Here, we will consider a more interesting example, let's call it model C. In model C, we also allow $\\sigma_m$ to change between conditions, that is in the manipulated condition is now described by a $\\lambda$ and a $\\sigma_m$."
   ]
  },
  {
   "cell_type": "markdown",
   "id": "5a1b84c9",
   "metadata": {},
   "source": [
    "To make the above code direclty reusable, we simplify a bit and only consider \"manipulation\" trials."
   ]
  },
  {
   "cell_type": "markdown",
   "id": "ab202360",
   "metadata": {},
   "source": [
    "**What do you observe, when using model B to fit the data obtained by model C?**"
   ]
  },
  {
   "cell_type": "markdown",
   "id": "aa403548",
   "metadata": {
    "editable": true,
    "slideshow": {
     "slide_type": ""
    },
    "tags": []
   },
   "source": [
    "\n",
    "# PART II\n",
    "## Parameter recovery, model validation, bootstrap\n",
    "\n",
    "**In this tutorial, we will see how to:**\n",
    "\n",
    "- Validate the modeling results against experimental data\n",
    "- Test model recovery\n",
    "- Use bootstrapping to estimate the uncertainty of fitted model parameters\n"
   ]
  },
  {
   "cell_type": "code",
   "execution_count": null,
   "id": "0dcbc9e4",
   "metadata": {},
   "outputs": [],
   "source": [
    "# # define the github path and authorization token\n",
    "# RAW_GITHUB_PATH = 'https://raw.githubusercontent.com/bambschool/BAMB2024/main/1-modeling_101/'\n",
    "\n",
    "# # define the list of files to be downloaded\n",
    "# files = ['tutorial_1_lib.py']\n",
    "\n",
    "# for file in files:\n",
    "#   !wget -O {file} \"{RAW_GITHUB_PATH}{file}\""
   ]
  },
  {
   "cell_type": "code",
   "execution_count": null,
   "id": "23ea63cd",
   "metadata": {},
   "outputs": [],
   "source": [
    "# import packages\n",
    "import numpy as np\n",
    "import pandas as pd\n",
    "import matplotlib.pyplot as plt\n",
    "from scipy.stats import norm\n",
    "from scipy.stats import pearsonr\n",
    "import scipy.optimize as optimize\n",
    "\n",
    "from tutorial_1_lib import *"
   ]
  },
  {
   "cell_type": "markdown",
   "id": "9bbfe93a",
   "metadata": {},
   "source": [
    "**We use model B to generate fake data and in the following we assume that this is our actual experimental data.**"
   ]
  },
  {
   "cell_type": "code",
   "execution_count": null,
   "id": "5a19a018",
   "metadata": {},
   "outputs": [],
   "source": [
    "\n",
    "# generate fake data\n",
    "n = 2500 # number of trials\n",
    "stim_values = [-3, -2, -1, -.5, 0,.5, 1, 2, 3] # all possible values of stimulus evidence (i.e. signed stim strength)\n",
    "# parameters of model B\n",
    "sigma = 1 # decision noise\n",
    "Lambda = 0.2 # proportion of lapses\n",
    "#first generate experimental conditions for each trial\n",
    "c = np.random.choice(a=['control', 'manipulation'], size=n) # condition\n",
    "s = np.random.choice(a=stim_values, size=n) #stimulus evidence\n",
    "#simulate model\n",
    "r = simulate_modelB(s, c, sigma_d=sigma, Lambda=Lambda)\n",
    "exp_data = pd.DataFrame({'stimulus': s, 'condition':c, 'response':r})\n"
   ]
  },
  {
   "cell_type": "markdown",
   "id": "3b223e9a",
   "metadata": {},
   "source": [
    "---\n",
    "# II.1 Model validation\n",
    "\n",
    "\n",
    "As a very simple example for model validation, we will fit model A and B to the experimental data and compare how well the best-fitting model fits the psychometric curve.\n",
    "\n",
    "**Fit model B to the experimental data and show the model result and the psychometric curve.**\n"
   ]
  },
  {
   "cell_type": "code",
   "execution_count": null,
   "id": "37e626cf",
   "metadata": {},
   "outputs": [],
   "source": [
    "\n",
    "# fit model B\n",
    "p_opt = optimize.minimize(lambda pp: -LogLikelihood_modelB(exp_data, pp[0], pp[1]), x0=[0.75, 0.1], bounds=[(0.1, 10), (0.01, 1)]).x\n",
    "\n",
    "# Retrieve the optimized parameters\n",
    "(sigma_d_hat, Lambda_hat) = p_opt\n",
    "\n",
    "# plot model predictions\n",
    "plot_model(lambda s,c: p_modelB(s,c,sigma_d=sigma_d_hat, Lambda=Lambda_hat))\n",
    "\n",
    "# plot psychometric curve on top\n",
    "plot_data_psychometric(exp_data)\n"
   ]
  },
  {
   "cell_type": "markdown",
   "id": "a2caf1cc",
   "metadata": {},
   "source": [
    "\n",
    "**Now fit model A to the experimental data and compare to the result obtained above.**\n"
   ]
  },
  {
   "cell_type": "code",
   "execution_count": null,
   "id": "0e03f92c",
   "metadata": {},
   "outputs": [],
   "source": []
  },
  {
   "cell_type": "markdown",
   "id": "01cbacf4",
   "metadata": {},
   "source": [
    "\n",
    "Fitting the experimental data with model A that does not include lapses but a different $\\sigma_m$, we get a worse fit for all the data points and the slope of the fit does not seem right.\n",
    "\n",
    "Of course, this is trivial here because we now that the \"experimental data\" actually includes lapses. It is important to note that not including a lapse rate can lead to real-world problems when fitting psychometric functions. We will talk more about this further below.\n"
   ]
  },
  {
   "cell_type": "markdown",
   "id": "9588296c",
   "metadata": {},
   "source": [
    "In general, it is a good idea to show not only that the best-fitting model validates, but that the alternative models do NOT validate (often many models are validated on simple behavioral metrics, and we need of specific patterns of behavior to arbitrate between different models)."
   ]
  },
  {
   "cell_type": "markdown",
   "id": "79290dab",
   "metadata": {},
   "source": [
    "---\n",
    "# II.2. Parameter recovery\n"
   ]
  },
  {
   "cell_type": "markdown",
   "id": "0555dbb0",
   "metadata": {},
   "source": [
    "## Simulation and fitting"
   ]
  },
  {
   "cell_type": "markdown",
   "id": "6ebe4729",
   "metadata": {},
   "source": [
    "**Simulate Model B to generate synthetic data, then fit these data.**\n",
    "\n",
    "We will do this step by step. We will first simulate model B using `simulate_modelB` with different random parameters $\\sigma_d$ and $\\lambda$. Note that the parameter recovery result will depend on the probability distribution used to sample the parameters.\n",
    "\n",
    "After simulating the model, we will fit the parameters using a maximum likelihood approach to get estimated values $\\hat{\\sigma_d}$ and $\\hat{\\lambda}$. "
   ]
  },
  {
   "cell_type": "code",
   "execution_count": null,
   "id": "3311c944",
   "metadata": {},
   "outputs": [],
   "source": [
    "# loop over at least 100 repetitions\n",
    "n_rep_sqrt = 20\n",
    "n_rep = n_rep_sqrt ** 2\n",
    "\n",
    "# specify parameters of the experiment\n",
    "n = 2500  # number of trials\n",
    "stim_values = [-3, -2, -1, -.5, 0,.5, 1, 2, 3]  # all possible values of stimulus evidence (i.e. signed stim strength)\n",
    "\n",
    "# specify plaubsible range of model parameters\n",
    "Lambda = np.reshape(np.repeat(np.linspace(0.005, 0.96, n_rep_sqrt), n_rep_sqrt, axis = 0), (n_rep, ))\n",
    "sigma = np.reshape(np.tile(np.linspace(0.3, 3.0, n_rep_sqrt), n_rep_sqrt), (n_rep, ))\n",
    "bounds = [(sigma[0], sigma[-1]), (Lambda[0], Lambda[-1])]\n",
    "\n",
    "pars = np.zeros((n_rep,2))\n",
    "for i in range(n_rep):\n",
    "    # first generate experimental conditions for each trial\n",
    "    c = np.random.choice(a=['control', 'manipulation'], size=n) # condition\n",
    "    s = np.random.choice(a=stim_values, size=n) #stimulus evidence\n",
    "\n",
    "    # simulate model B\n",
    "    data = simulate_modelB(s, c, sigma[i], Lambda[i])\n",
    "    df = pd.DataFrame({'stimulus': s, 'condition':c, 'response':data}) \n",
    "    \n",
    "    # fit model B\n",
    "    result = optimize.minimize(lambda pp:  -LogLikelihood_modelB(df, pp[0], pp[1]), x0=[1, 0.5], bounds=bounds)\n",
    "    # store fitted parameters\n",
    "    pars[i,0] = result.x[0]\n",
    "    pars[i,1] = result.x[1]\n"
   ]
  },
  {
   "cell_type": "markdown",
   "id": "f192ce09",
   "metadata": {},
   "source": [
    "## Parameter recovery plots"
   ]
  },
  {
   "cell_type": "markdown",
   "id": "5547da47",
   "metadata": {},
   "source": [
    "We would like to visualise the fitted parameter values as a function of the generating parameter values. We will have one data point for each iteration. Here, you should use the generating values and the fitted values that you have stored in the section above. You should create two subplots, one for each parameter. Do you observe a fairly good agreement between the simulated and fit parameter values?"
   ]
  },
  {
   "cell_type": "code",
   "execution_count": null,
   "id": "54fbf758",
   "metadata": {},
   "outputs": [],
   "source": [
    "fig, ax = plt.subplots(1, 3, figsize=(9,3))\n",
    "ax[0].scatter(sigma, pars[:,0])\n",
    "ax[0].plot([0.5,3],[0.5,3], c='r')\n",
    "ax[1].scatter(Lambda, pars[:,1])\n",
    "ax[1].plot([0,1],[0,1], c='r')\n",
    "ax[2].scatter(pars[:,0], pars[:,1])\n",
    "plt.show()"
   ]
  },
  {
   "cell_type": "markdown",
   "id": "80b85b3e",
   "metadata": {},
   "source": [
    "\n",
    "These plots show strong correlation between true and fitted paramters and also reveal whether the correlation holds in some parameter regimes but not others. It also reveals any existing bias (e.g. a tendency to recover higher or lower values in average) which does not seem to be the case here.\n",
    "\n",
    "Depending on the parameter values that we obtain when fitting human behavior, the worse correspondence in some parameter range may or may not be problematic. It is be a good idea to use the range of parameters obtained from fitting the real data to test the quality of recovery within the range that matters. \n",
    "\n",
    "Reliable parameter recovery is particularly important for look at inter-individual differences in relation to questionnaire scores or brain data.\n"
   ]
  },
  {
   "cell_type": "markdown",
   "id": "67b42c5f",
   "metadata": {},
   "source": [
    " **Optional:** Include a third subplot which shows a scatterplot of the fitted parameters $\\sigma$ and $\\lambda$. Also compute the correlation between the two parameters. How do you interpret the result?"
   ]
  },
  {
   "cell_type": "code",
   "execution_count": null,
   "id": "d3772e57",
   "metadata": {},
   "outputs": [],
   "source": [
    "from scipy.stats import linregress\n",
    "print(linregress(*(pars.T)).pvalue)"
   ]
  },
  {
   "cell_type": "markdown",
   "id": "fe53ca06",
   "metadata": {},
   "source": [
    "This entails that we could find this sample or more extreme ones for an uncorrelated population in 86% of the trials. Therefore, no correlation can be inferred."
   ]
  },
  {
   "cell_type": "markdown",
   "id": "064e8a89",
   "metadata": {},
   "source": [
    "The fitted parameters are not correlated, indicating that our parameters are identifyable (they cannot be trade-off against each other)"
   ]
  },
  {
   "cell_type": "markdown",
   "id": "55436310",
   "metadata": {},
   "source": [
    "---\n",
    "# II.3 Parameter uncertainty estimation (bootstrap)"
   ]
  },
  {
   "cell_type": "markdown",
   "id": "98c30bd7",
   "metadata": {},
   "source": [
    "\n",
    "[Bootstrapping](https://en.wikipedia.org/wiki/Bootstrapping_(statistics)) is a widely applicable method to assess confidence/uncertainty about estimated parameters, it was originally [proposed](https://projecteuclid.org/euclid.aos/1176344552) by [Bradley Efron](https://en.wikipedia.org/wiki/Bradley_Efron). The idea is to generate many new synthetic datasets from the initial true dataset by randomly sampling from it, then finding estimators for each one of these new datasets, and finally looking at the distribution of all these estimators to quantify our confidence.\n",
    "\n",
    "Note that each new resampled datasets will be the same size as our original one, with the new data points sampled with replacement i.e. we can repeat the same data point multiple times. Also note that in practice we need a lot of resampled datasets.\n",
    "\n",
    "To explore this idea, we will work againg wit the \"experimental data\" generated above (the DataFrame `exp_data`).\n",
    "\n",
    "\n",
    "**Generate resampled data and display the psychometric curves for the original and the resampled data.** Repeat this several times to get a feeling for the \"randomness\", that is how different the resampled data is from the original data.\n"
   ]
  },
  {
   "cell_type": "code",
   "execution_count": null,
   "id": "8b9c2bbb",
   "metadata": {},
   "outputs": [],
   "source": [
    "\n",
    "bootstrap_sample = exp_data.sample(n=len(exp_data), replace=True)\n",
    "\n",
    "# plot psychometric curve\n",
    "plot_data_psychometric(exp_data)\n",
    "plot_data_psychometric(bootstrap_sample)\n",
    "#plt.legend(('Original','Resampled'));\n"
   ]
  },
  {
   "cell_type": "markdown",
   "id": "d3d94160",
   "metadata": {},
   "source": [
    "## Generate bootstrap estimates\n",
    "\n",
    "In this exercise you will implement a method to run the bootstrap process of generating a set of fitted parameters from a dataset.\n"
   ]
  },
  {
   "cell_type": "markdown",
   "id": "fb3241fe",
   "metadata": {},
   "source": [
    "We will do this for model B, that is, we will fit the model B and return an array with the fitted parameters $\\sigma_m$ and $\\lambda$.\n"
   ]
  },
  {
   "cell_type": "code",
   "execution_count": null,
   "id": "053d631b",
   "metadata": {},
   "outputs": [],
   "source": [
    "def bootstrap_estimates(data, n=2000, bounds=[(0.3, 5), (0.005, 0.96)]):\n",
    "  \"\"\"Generate a set of theta_hat estimates using the bootstrap method.\n",
    "  Args:\n",
    "    data (DataFrame)\n",
    "    n (int): The number of estimates to compute\n",
    "  Returns:\n",
    "    ndarray: An array of estimated parameters with size (n,)\n",
    "  \"\"\"\n",
    "\n",
    "  theta_hats = np.zeros((n,2))\n",
    "\n",
    "  # Loop over number of estimates\n",
    "  for i in range(n):\n",
    "    # Resample data\n",
    "    bootstrap_sample = data.sample(n=len(data), replace=True)\n",
    "    \n",
    "    # Compute theta_hat for this sample\n",
    "    theta_hats[i,:] = optimize.minimize(lambda pp: -LogLikelihood_modelB(bootstrap_sample, pp[0], pp[1]), x0=(1, 0.5), bounds=bounds).x\n",
    "\n",
    "  return theta_hats\n",
    "\n",
    "# Get bootstrap estimates (generate only 3 bootstrap samples for a quick check if everything works)\n",
    "theta_hats = bootstrap_estimates(exp_data, n=500)\n",
    "print(theta_hats)"
   ]
  },
  {
   "cell_type": "markdown",
   "id": "7238dd15",
   "metadata": {},
   "source": [
    "## Plot bootstrap samples and confidence intervals\n",
    "\n",
    "Let us now quantify how uncertain our estimated parameters ($\\sigma_m$ and $\\lambda$) are. We do so by computing confidence intervals from our bootstrapped estimates. The most direct approach is to compute percentiles from the empirical distribution of bootstrapped estimates. Note that this is widely applicable as we are not assuming that this empirical distribution is Gaussian.\n"
   ]
  },
  {
   "cell_type": "code",
   "execution_count": null,
   "id": "1170ba7e",
   "metadata": {},
   "outputs": [],
   "source": [
    "\n",
    "means = np.mean(theta_hats,axis=0)\n",
    "stds = np.std(theta_hats,axis=0)\n",
    "medians = ...  # compute medians\n",
    "CIs = ...  # compute 95% confidence intervals\n",
    "\n",
    "fig, ax = plt.subplots(ncols=2, figsize=(12, 5))\n",
    "\n",
    "for i in range(2):\n",
    "    ax[i].hist(theta_hats[:,i], bins=20, facecolor='C1', alpha=0.75);\n",
    "    ax[i].axvline(medians[i], color='r', label='Median')\n",
    "\n",
    "    # show confidence intervals:\n",
    "    # ...\n",
    "    # ...\n",
    "    \n",
    "    ax[i].legend()\n",
    "    ax[i].set(\n",
    "        title='Bootstrapped Confidence Interval for parameter '+str(i),\n",
    "        xlabel=r'$\\hat{{w_' + str(i) +'}}$',\n",
    "        ylabel='count');\n"
   ]
  },
  {
   "cell_type": "markdown",
   "id": "831bdad7",
   "metadata": {},
   "source": [
    "## Illustrate bootstrap estimates (show fitted psychometric functions)\n",
    "\n",
    "Now that we have our bootstrap estimates, we can visualize all the potential models (models computed with different resampling) together to see how distributed they are. "
   ]
  },
  {
   "cell_type": "code",
   "execution_count": null,
   "id": "90d912fe",
   "metadata": {},
   "outputs": [],
   "source": [
    "\n",
    "fig, ax = plt.subplots()\n",
    "\n",
    "# plot all model fits obtained from bootstrap samples\n",
    "for i, theta_hat in enumerate(theta_hats):\n",
    "    ...\n",
    "\n",
    "# make the lines transparant to get a feeling for the distribution of model fits\n",
    "for line in plt.gca().lines:\n",
    "    line.set_alpha(0.005)\n",
    "\n",
    "plot_data_psychometric(exp_data)\n"
   ]
  },
  {
   "cell_type": "markdown",
   "id": "c00f93c8",
   "metadata": {},
   "source": [
    "\n",
    "## Summary of bootstrapping\n",
    "\n",
    "- Bootstrapping is a resampling procedure that allows to build confidence intervals around inferred parameter values\n",
    "- it is a widely applicable and very practical method that relies on computational power and pseudo-random number generators (as opposed to more classical approaches than depend on analytical derivations)\n",
    "- is non-parametric: the confidence intervals provided by statistical libraries are not always accurate because they assume an underlying gaussian distribution for parameters, which is not always the case."
   ]
  },
  {
   "cell_type": "markdown",
   "id": "f4c8cc1b",
   "metadata": {},
   "source": [
    "---\n",
    "# Optional part: Parameter trade-off between $\\lambda$ and $\\sigma$\n"
   ]
  },
  {
   "cell_type": "markdown",
   "id": "7d42bee1",
   "metadata": {},
   "source": [
    "Above we have run a parameter recover analysis for model B that has a fixed $\\sigma_c$ across the two experimental condtions, and only $\\lambda$ is different between the conditions. Here, we will consider a more interesting example, let's call it model C. In model C, we also allow $\\sigma_m$ to change between conditions, that is in the manipulated condition is now described by a $\\lambda$ and a $\\sigma_m$."
   ]
  },
  {
   "cell_type": "markdown",
   "id": "0f7f3fdd",
   "metadata": {},
   "source": [
    "To make the above code direclty reusable, we simplify a bit and only consider \"manipulation\" trials."
   ]
  },
  {
   "cell_type": "markdown",
   "id": "e4cbbfa6",
   "metadata": {},
   "source": [
    "**What do you observe, when using model B to fit the data obtained by model C?**"
   ]
  },
  {
   "cell_type": "markdown",
   "id": "49a5e584",
   "metadata": {
    "editable": true,
    "slideshow": {
     "slide_type": ""
    },
    "tags": []
   },
   "source": [
    "\n",
    "# PART II\n",
    "## Parameter recovery, model validation, bootstrap\n",
    "\n",
    "**In this tutorial, we will see how to:**\n",
    "\n",
    "- Validate the modeling results against experimental data\n",
    "- Test model recovery\n",
    "- Use bootstrapping to estimate the uncertainty of fitted model parameters\n"
   ]
  },
  {
   "cell_type": "code",
   "execution_count": null,
   "id": "c83a078c",
   "metadata": {},
   "outputs": [],
   "source": [
    "# # define the github path and authorization token\n",
    "# RAW_GITHUB_PATH = 'https://raw.githubusercontent.com/bambschool/BAMB2024/main/1-modeling_101/'\n",
    "\n",
    "# # define the list of files to be downloaded\n",
    "# files = ['tutorial_1_lib.py']\n",
    "\n",
    "# for file in files:\n",
    "#   !wget -O {file} \"{RAW_GITHUB_PATH}{file}\""
   ]
  },
  {
   "cell_type": "code",
   "execution_count": null,
   "id": "bf8a8629",
   "metadata": {},
   "outputs": [],
   "source": [
    "# import packages\n",
    "import numpy as np\n",
    "import pandas as pd\n",
    "import matplotlib.pyplot as plt\n",
    "from scipy.stats import norm\n",
    "from scipy.stats import pearsonr\n",
    "import scipy.optimize as optimize\n",
    "\n",
    "from tutorial_1_lib import *"
   ]
  },
  {
   "cell_type": "markdown",
   "id": "446c3a56",
   "metadata": {},
   "source": [
    "**We use model B to generate fake data and in the following we assume that this is our actual experimental data.**"
   ]
  },
  {
   "cell_type": "code",
   "execution_count": null,
   "id": "509c3006",
   "metadata": {},
   "outputs": [],
   "source": [
    "\n",
    "# generate fake data\n",
    "n = 2500 # number of trials\n",
    "stim_values = [-3, -2, -1, -.5, 0,.5, 1, 2, 3] # all possible values of stimulus evidence (i.e. signed stim strength)\n",
    "# parameters of model B\n",
    "sigma = 1 # decision noise\n",
    "Lambda = 0.2 # proportion of lapses\n",
    "#first generate experimental conditions for each trial\n",
    "c = np.random.choice(a=['control', 'manipulation'], size=n) # condition\n",
    "s = np.random.choice(a=stim_values, size=n) #stimulus evidence\n",
    "#simulate model\n",
    "r = simulate_modelB(s, c, sigma_d=sigma, Lambda=Lambda)\n",
    "exp_data = pd.DataFrame({'stimulus': s, 'condition':c, 'response':r})\n"
   ]
  },
  {
   "cell_type": "markdown",
   "id": "0d43247b",
   "metadata": {},
   "source": [
    "---\n",
    "# II.1 Model validation\n",
    "\n",
    "\n",
    "As a very simple example for model validation, we will fit model A and B to the experimental data and compare how well the best-fitting model fits the psychometric curve.\n",
    "\n",
    "**Fit model B to the experimental data and show the model result and the psychometric curve.**\n"
   ]
  },
  {
   "cell_type": "code",
   "execution_count": null,
   "id": "de1a47af",
   "metadata": {},
   "outputs": [],
   "source": [
    "\n",
    "# fit model B\n",
    "p_opt = optimize.minimize(lambda pp: -LogLikelihood_modelB(exp_data, pp[0], pp[1]), x0=[0.75, 0.1], bounds=[(0.1, 10), (0.01, 1)]).x\n",
    "\n",
    "# Retrieve the optimized parameters\n",
    "(sigma_d_hat, Lambda_hat) = p_opt\n",
    "\n",
    "# plot model predictions\n",
    "plot_model(lambda s,c: p_modelB(s,c,sigma_d=sigma_d_hat, Lambda=Lambda_hat))\n",
    "\n",
    "# plot psychometric curve on top\n",
    "plot_data_psychometric(exp_data)\n"
   ]
  },
  {
   "cell_type": "markdown",
   "id": "6d13b434",
   "metadata": {},
   "source": [
    "\n",
    "**Now fit model A to the experimental data and compare to the result obtained above.**\n"
   ]
  },
  {
   "cell_type": "code",
   "execution_count": null,
   "id": "1bd1a433",
   "metadata": {},
   "outputs": [],
   "source": []
  },
  {
   "cell_type": "markdown",
   "id": "047d7ad3",
   "metadata": {},
   "source": [
    "\n",
    "Fitting the experimental data with model A that does not include lapses but a different $\\sigma_m$, we get a worse fit for all the data points and the slope of the fit does not seem right.\n",
    "\n",
    "Of course, this is trivial here because we now that the \"experimental data\" actually includes lapses. It is important to note that not including a lapse rate can lead to real-world problems when fitting psychometric functions. We will talk more about this further below.\n"
   ]
  },
  {
   "cell_type": "markdown",
   "id": "56d04fd6",
   "metadata": {},
   "source": [
    "In general, it is a good idea to show not only that the best-fitting model validates, but that the alternative models do NOT validate (often many models are validated on simple behavioral metrics, and we need of specific patterns of behavior to arbitrate between different models)."
   ]
  },
  {
   "cell_type": "markdown",
   "id": "57f0650f",
   "metadata": {},
   "source": [
    "---\n",
    "# II.2. Parameter recovery\n"
   ]
  },
  {
   "cell_type": "markdown",
   "id": "d6b36f03",
   "metadata": {},
   "source": [
    "## Simulation and fitting"
   ]
  },
  {
   "cell_type": "markdown",
   "id": "d6716139",
   "metadata": {},
   "source": [
    "**Simulate Model B to generate synthetic data, then fit these data.**\n",
    "\n",
    "We will do this step by step. We will first simulate model B using `simulate_modelB` with different random parameters $\\sigma_d$ and $\\lambda$. Note that the parameter recovery result will depend on the probability distribution used to sample the parameters.\n",
    "\n",
    "After simulating the model, we will fit the parameters using a maximum likelihood approach to get estimated values $\\hat{\\sigma_d}$ and $\\hat{\\lambda}$. "
   ]
  },
  {
   "cell_type": "code",
   "execution_count": null,
   "id": "779545a3",
   "metadata": {},
   "outputs": [],
   "source": [
    "# loop over at least 100 repetitions\n",
    "n_rep_sqrt = 20\n",
    "n_rep = n_rep_sqrt ** 2\n",
    "\n",
    "# specify parameters of the experiment\n",
    "n = 2500  # number of trials\n",
    "stim_values = [-3, -2, -1, -.5, 0,.5, 1, 2, 3]  # all possible values of stimulus evidence (i.e. signed stim strength)\n",
    "\n",
    "# specify plaubsible range of model parameters\n",
    "Lambda = np.reshape(np.repeat(np.linspace(0.005, 0.96, n_rep_sqrt), n_rep_sqrt, axis = 0), (n_rep, ))\n",
    "sigma = np.reshape(np.tile(np.linspace(0.3, 3.0, n_rep_sqrt), n_rep_sqrt), (n_rep, ))\n",
    "bounds = [(sigma[0], sigma[-1]), (Lambda[0], Lambda[-1])]\n",
    "\n",
    "pars = np.zeros((n_rep,2))\n",
    "for i in range(n_rep):\n",
    "    # first generate experimental conditions for each trial\n",
    "    c = np.random.choice(a=['control', 'manipulation'], size=n) # condition\n",
    "    s = np.random.choice(a=stim_values, size=n) #stimulus evidence\n",
    "\n",
    "    # simulate model B\n",
    "    data = simulate_modelB(s, c, sigma[i], Lambda[i])\n",
    "    df = pd.DataFrame({'stimulus': s, 'condition':c, 'response':data}) \n",
    "    \n",
    "    # fit model B\n",
    "    result = optimize.minimize(lambda pp:  -LogLikelihood_modelB(df, pp[0], pp[1]), x0=[1, 0.5], bounds=bounds)\n",
    "    # store fitted parameters\n",
    "    pars[i,0] = result.x[0]\n",
    "    pars[i,1] = result.x[1]\n"
   ]
  },
  {
   "cell_type": "markdown",
   "id": "35351878",
   "metadata": {},
   "source": [
    "## Parameter recovery plots"
   ]
  },
  {
   "cell_type": "markdown",
   "id": "b8b6d050",
   "metadata": {},
   "source": [
    "We would like to visualise the fitted parameter values as a function of the generating parameter values. We will have one data point for each iteration. Here, you should use the generating values and the fitted values that you have stored in the section above. You should create two subplots, one for each parameter. Do you observe a fairly good agreement between the simulated and fit parameter values?"
   ]
  },
  {
   "cell_type": "code",
   "execution_count": null,
   "id": "e40703e1",
   "metadata": {},
   "outputs": [],
   "source": [
    "fig, ax = plt.subplots(1, 3, figsize=(9,3))\n",
    "ax[0].scatter(sigma, pars[:,0])\n",
    "ax[0].plot([0.5,3],[0.5,3], c='r')\n",
    "ax[1].scatter(Lambda, pars[:,1])\n",
    "ax[1].plot([0,1],[0,1], c='r')\n",
    "ax[2].scatter(pars[:,0], pars[:,1])\n",
    "plt.show()"
   ]
  },
  {
   "cell_type": "markdown",
   "id": "0eb99bb1",
   "metadata": {},
   "source": [
    "\n",
    "These plots show strong correlation between true and fitted paramters and also reveal whether the correlation holds in some parameter regimes but not others. It also reveals any existing bias (e.g. a tendency to recover higher or lower values in average) which does not seem to be the case here.\n",
    "\n",
    "Depending on the parameter values that we obtain when fitting human behavior, the worse correspondence in some parameter range may or may not be problematic. It is be a good idea to use the range of parameters obtained from fitting the real data to test the quality of recovery within the range that matters. \n",
    "\n",
    "Reliable parameter recovery is particularly important for look at inter-individual differences in relation to questionnaire scores or brain data.\n"
   ]
  },
  {
   "cell_type": "markdown",
   "id": "baec76eb",
   "metadata": {},
   "source": [
    " **Optional:** Include a third subplot which shows a scatterplot of the fitted parameters $\\sigma$ and $\\lambda$. Also compute the correlation between the two parameters. How do you interpret the result?"
   ]
  },
  {
   "cell_type": "code",
   "execution_count": null,
   "id": "dd5ebf81",
   "metadata": {},
   "outputs": [],
   "source": [
    "from scipy.stats import linregress\n",
    "print(linregress(*(pars.T)).pvalue)"
   ]
  },
  {
   "cell_type": "markdown",
   "id": "b0257b13",
   "metadata": {},
   "source": [
    "This entails that we could find this sample or more extreme ones for an uncorrelated population in 86% of the trials. Therefore, no correlation can be inferred."
   ]
  },
  {
   "cell_type": "markdown",
   "id": "f84b3269",
   "metadata": {},
   "source": [
    "The fitted parameters are not correlated, indicating that our parameters are identifyable (they cannot be trade-off against each other)"
   ]
  },
  {
   "cell_type": "markdown",
   "id": "97b8012a",
   "metadata": {},
   "source": [
    "---\n",
    "# II.3 Parameter uncertainty estimation (bootstrap)"
   ]
  },
  {
   "cell_type": "markdown",
   "id": "f0271ca9",
   "metadata": {},
   "source": [
    "\n",
    "[Bootstrapping](https://en.wikipedia.org/wiki/Bootstrapping_(statistics)) is a widely applicable method to assess confidence/uncertainty about estimated parameters, it was originally [proposed](https://projecteuclid.org/euclid.aos/1176344552) by [Bradley Efron](https://en.wikipedia.org/wiki/Bradley_Efron). The idea is to generate many new synthetic datasets from the initial true dataset by randomly sampling from it, then finding estimators for each one of these new datasets, and finally looking at the distribution of all these estimators to quantify our confidence.\n",
    "\n",
    "Note that each new resampled datasets will be the same size as our original one, with the new data points sampled with replacement i.e. we can repeat the same data point multiple times. Also note that in practice we need a lot of resampled datasets.\n",
    "\n",
    "To explore this idea, we will work againg wit the \"experimental data\" generated above (the DataFrame `exp_data`).\n",
    "\n",
    "\n",
    "**Generate resampled data and display the psychometric curves for the original and the resampled data.** Repeat this several times to get a feeling for the \"randomness\", that is how different the resampled data is from the original data.\n"
   ]
  },
  {
   "cell_type": "code",
   "execution_count": null,
   "id": "c5d6726e",
   "metadata": {},
   "outputs": [],
   "source": [
    "\n",
    "bootstrap_sample = exp_data.sample(n=len(exp_data), replace=True)\n",
    "\n",
    "# plot psychometric curve\n",
    "plot_data_psychometric(exp_data)\n",
    "plot_data_psychometric(bootstrap_sample)\n",
    "#plt.legend(('Original','Resampled'));\n"
   ]
  },
  {
   "cell_type": "markdown",
   "id": "ec486ac1",
   "metadata": {},
   "source": [
    "## Generate bootstrap estimates\n",
    "\n",
    "In this exercise you will implement a method to run the bootstrap process of generating a set of fitted parameters from a dataset.\n"
   ]
  },
  {
   "cell_type": "markdown",
   "id": "9d1a9393",
   "metadata": {},
   "source": [
    "We will do this for model B, that is, we will fit the model B and return an array with the fitted parameters $\\sigma_m$ and $\\lambda$.\n"
   ]
  },
  {
   "cell_type": "code",
   "execution_count": null,
   "id": "983c95d2",
   "metadata": {},
   "outputs": [],
   "source": [
    "def bootstrap_estimates(data, n=2000, bounds=[(0.3, 5), (0.005, 0.96)]):\n",
    "  \"\"\"Generate a set of theta_hat estimates using the bootstrap method.\n",
    "  Args:\n",
    "    data (DataFrame)\n",
    "    n (int): The number of estimates to compute\n",
    "  Returns:\n",
    "    ndarray: An array of estimated parameters with size (n,)\n",
    "  \"\"\"\n",
    "\n",
    "  theta_hats = np.zeros((n,2))\n",
    "\n",
    "  # Loop over number of estimates\n",
    "  for i in range(n):\n",
    "    # Resample data\n",
    "    bootstrap_sample = data.sample(n=len(data), replace=True)\n",
    "    \n",
    "    # Compute theta_hat for this sample\n",
    "    theta_hats[i,:] = optimize.minimize(lambda pp: -LogLikelihood_modelB(bootstrap_sample, pp[0], pp[1]), x0=(1, 0.5), bounds=bounds).x\n",
    "\n",
    "  return theta_hats\n",
    "\n",
    "# Get bootstrap estimates (generate only 3 bootstrap samples for a quick check if everything works)\n",
    "theta_hats = bootstrap_estimates(exp_data, n=500)\n",
    "print(theta_hats)"
   ]
  },
  {
   "cell_type": "markdown",
   "id": "a7ac902b",
   "metadata": {},
   "source": [
    "## Plot bootstrap samples and confidence intervals\n",
    "\n",
    "Let us now quantify how uncertain our estimated parameters ($\\sigma_m$ and $\\lambda$) are. We do so by computing confidence intervals from our bootstrapped estimates. The most direct approach is to compute percentiles from the empirical distribution of bootstrapped estimates. Note that this is widely applicable as we are not assuming that this empirical distribution is Gaussian.\n"
   ]
  },
  {
   "cell_type": "code",
   "execution_count": null,
   "id": "0bf3864d",
   "metadata": {},
   "outputs": [],
   "source": [
    "\n",
    "means = np.mean(theta_hats,axis=0)\n",
    "stds = np.std(theta_hats,axis=0)\n",
    "medians = ...  # compute medians\n",
    "CIs = ...  # compute 95% confidence intervals\n",
    "\n",
    "fig, ax = plt.subplots(ncols=2, figsize=(12, 5))\n",
    "\n",
    "for i in range(2):\n",
    "    ax[i].hist(theta_hats[:,i], bins=20, facecolor='C1', alpha=0.75);\n",
    "    ax[i].axvline(medians[i], color='r', label='Median')\n",
    "\n",
    "    # show confidence intervals:\n",
    "    # ...\n",
    "    # ...\n",
    "    \n",
    "    ax[i].legend()\n",
    "    ax[i].set(\n",
    "        title='Bootstrapped Confidence Interval for parameter '+str(i),\n",
    "        xlabel=r'$\\hat{{w_' + str(i) +'}}$',\n",
    "        ylabel='count');\n"
   ]
  },
  {
   "cell_type": "markdown",
   "id": "f0695bd0",
   "metadata": {},
   "source": [
    "## Illustrate bootstrap estimates (show fitted psychometric functions)\n",
    "\n",
    "Now that we have our bootstrap estimates, we can visualize all the potential models (models computed with different resampling) together to see how distributed they are. "
   ]
  },
  {
   "cell_type": "code",
   "execution_count": null,
   "id": "a1b724be",
   "metadata": {},
   "outputs": [],
   "source": [
    "\n",
    "fig, ax = plt.subplots()\n",
    "\n",
    "# plot all model fits obtained from bootstrap samples\n",
    "for i, theta_hat in enumerate(theta_hats):\n",
    "    ...\n",
    "\n",
    "# make the lines transparant to get a feeling for the distribution of model fits\n",
    "for line in plt.gca().lines:\n",
    "    line.set_alpha(0.005)\n",
    "\n",
    "plot_data_psychometric(exp_data)\n"
   ]
  },
  {
   "cell_type": "markdown",
   "id": "231801f5",
   "metadata": {},
   "source": [
    "\n",
    "## Summary of bootstrapping\n",
    "\n",
    "- Bootstrapping is a resampling procedure that allows to build confidence intervals around inferred parameter values\n",
    "- it is a widely applicable and very practical method that relies on computational power and pseudo-random number generators (as opposed to more classical approaches than depend on analytical derivations)\n",
    "- is non-parametric: the confidence intervals provided by statistical libraries are not always accurate because they assume an underlying gaussian distribution for parameters, which is not always the case."
   ]
  },
  {
   "cell_type": "markdown",
   "id": "1add82c1",
   "metadata": {},
   "source": [
    "---\n",
    "# Optional part: Parameter trade-off between $\\lambda$ and $\\sigma$\n"
   ]
  },
  {
   "cell_type": "markdown",
   "id": "1d4c64db",
   "metadata": {},
   "source": [
    "Above we have run a parameter recover analysis for model B that has a fixed $\\sigma_c$ across the two experimental condtions, and only $\\lambda$ is different between the conditions. Here, we will consider a more interesting example, let's call it model C. In model C, we also allow $\\sigma_m$ to change between conditions, that is in the manipulated condition is now described by a $\\lambda$ and a $\\sigma_m$."
   ]
  },
  {
   "cell_type": "markdown",
   "id": "5b34cbfc",
   "metadata": {},
   "source": [
    "To make the above code direclty reusable, we simplify a bit and only consider \"manipulation\" trials."
   ]
  },
  {
   "cell_type": "markdown",
   "id": "9a1939cd",
   "metadata": {},
   "source": [
    "**What do you observe, when using model B to fit the data obtained by model C?**"
   ]
  },
  {
   "cell_type": "markdown",
   "id": "5e26e600",
   "metadata": {
    "editable": true,
    "slideshow": {
     "slide_type": ""
    },
    "tags": []
   },
   "source": [
    "\n",
    "# PART II\n",
    "## Parameter recovery, model validation, bootstrap\n",
    "\n",
    "**In this tutorial, we will see how to:**\n",
    "\n",
    "- Validate the modeling results against experimental data\n",
    "- Test model recovery\n",
    "- Use bootstrapping to estimate the uncertainty of fitted model parameters\n"
   ]
  },
  {
   "cell_type": "code",
   "execution_count": null,
   "id": "fcec887c",
   "metadata": {},
   "outputs": [],
   "source": [
    "# # define the github path and authorization token\n",
    "# RAW_GITHUB_PATH = 'https://raw.githubusercontent.com/bambschool/BAMB2024/main/1-modeling_101/'\n",
    "\n",
    "# # define the list of files to be downloaded\n",
    "# files = ['tutorial_1_lib.py']\n",
    "\n",
    "# for file in files:\n",
    "#   !wget -O {file} \"{RAW_GITHUB_PATH}{file}\""
   ]
  },
  {
   "cell_type": "code",
   "execution_count": null,
   "id": "d2ac44e7",
   "metadata": {},
   "outputs": [],
   "source": [
    "# import packages\n",
    "import numpy as np\n",
    "import pandas as pd\n",
    "import matplotlib.pyplot as plt\n",
    "from scipy.stats import norm\n",
    "from scipy.stats import pearsonr\n",
    "import scipy.optimize as optimize\n",
    "\n",
    "from tutorial_1_lib import *"
   ]
  },
  {
   "cell_type": "markdown",
   "id": "44727e1f",
   "metadata": {},
   "source": [
    "**We use model B to generate fake data and in the following we assume that this is our actual experimental data.**"
   ]
  },
  {
   "cell_type": "code",
   "execution_count": null,
   "id": "4375e845",
   "metadata": {},
   "outputs": [],
   "source": [
    "\n",
    "# generate fake data\n",
    "n = 2500 # number of trials\n",
    "stim_values = [-3, -2, -1, -.5, 0,.5, 1, 2, 3] # all possible values of stimulus evidence (i.e. signed stim strength)\n",
    "# parameters of model B\n",
    "sigma = 1 # decision noise\n",
    "Lambda = 0.2 # proportion of lapses\n",
    "#first generate experimental conditions for each trial\n",
    "c = np.random.choice(a=['control', 'manipulation'], size=n) # condition\n",
    "s = np.random.choice(a=stim_values, size=n) #stimulus evidence\n",
    "#simulate model\n",
    "r = simulate_modelB(s, c, sigma_d=sigma, Lambda=Lambda)\n",
    "exp_data = pd.DataFrame({'stimulus': s, 'condition':c, 'response':r})\n"
   ]
  },
  {
   "cell_type": "markdown",
   "id": "9b246cab",
   "metadata": {},
   "source": [
    "---\n",
    "# II.1 Model validation\n",
    "\n",
    "\n",
    "As a very simple example for model validation, we will fit model A and B to the experimental data and compare how well the best-fitting model fits the psychometric curve.\n",
    "\n",
    "**Fit model B to the experimental data and show the model result and the psychometric curve.**\n"
   ]
  },
  {
   "cell_type": "code",
   "execution_count": null,
   "id": "1e09d2b6",
   "metadata": {},
   "outputs": [],
   "source": [
    "\n",
    "# fit model B\n",
    "p_opt = optimize.minimize(lambda pp: -LogLikelihood_modelB(exp_data, pp[0], pp[1]), x0=[0.75, 0.1], bounds=[(0.1, 10), (0.01, 1)]).x\n",
    "\n",
    "# Retrieve the optimized parameters\n",
    "(sigma_d_hat, Lambda_hat) = p_opt\n",
    "\n",
    "# plot model predictions\n",
    "plot_model(lambda s,c: p_modelB(s,c,sigma_d=sigma_d_hat, Lambda=Lambda_hat))\n",
    "\n",
    "# plot psychometric curve on top\n",
    "plot_data_psychometric(exp_data)\n"
   ]
  },
  {
   "cell_type": "markdown",
   "id": "c06b76a6",
   "metadata": {},
   "source": [
    "\n",
    "**Now fit model A to the experimental data and compare to the result obtained above.**\n"
   ]
  },
  {
   "cell_type": "code",
   "execution_count": null,
   "id": "4b5fd3c6",
   "metadata": {},
   "outputs": [],
   "source": []
  },
  {
   "cell_type": "markdown",
   "id": "d9f85550",
   "metadata": {},
   "source": [
    "\n",
    "Fitting the experimental data with model A that does not include lapses but a different $\\sigma_m$, we get a worse fit for all the data points and the slope of the fit does not seem right.\n",
    "\n",
    "Of course, this is trivial here because we now that the \"experimental data\" actually includes lapses. It is important to note that not including a lapse rate can lead to real-world problems when fitting psychometric functions. We will talk more about this further below.\n"
   ]
  },
  {
   "cell_type": "markdown",
   "id": "986052d4",
   "metadata": {},
   "source": [
    "In general, it is a good idea to show not only that the best-fitting model validates, but that the alternative models do NOT validate (often many models are validated on simple behavioral metrics, and we need of specific patterns of behavior to arbitrate between different models)."
   ]
  },
  {
   "cell_type": "markdown",
   "id": "10c0a87e",
   "metadata": {},
   "source": [
    "---\n",
    "# II.2. Parameter recovery\n"
   ]
  },
  {
   "cell_type": "markdown",
   "id": "01cea7d4",
   "metadata": {},
   "source": [
    "## Simulation and fitting"
   ]
  },
  {
   "cell_type": "markdown",
   "id": "1f55b01e",
   "metadata": {},
   "source": [
    "**Simulate Model B to generate synthetic data, then fit these data.**\n",
    "\n",
    "We will do this step by step. We will first simulate model B using `simulate_modelB` with different random parameters $\\sigma_d$ and $\\lambda$. Note that the parameter recovery result will depend on the probability distribution used to sample the parameters.\n",
    "\n",
    "After simulating the model, we will fit the parameters using a maximum likelihood approach to get estimated values $\\hat{\\sigma_d}$ and $\\hat{\\lambda}$. "
   ]
  },
  {
   "cell_type": "code",
   "execution_count": null,
   "id": "5191e9c8",
   "metadata": {},
   "outputs": [],
   "source": [
    "# loop over at least 100 repetitions\n",
    "n_rep_sqrt = 20\n",
    "n_rep = n_rep_sqrt ** 2\n",
    "\n",
    "# specify parameters of the experiment\n",
    "n = 2500  # number of trials\n",
    "stim_values = [-3, -2, -1, -.5, 0,.5, 1, 2, 3]  # all possible values of stimulus evidence (i.e. signed stim strength)\n",
    "\n",
    "# specify plaubsible range of model parameters\n",
    "Lambda = np.reshape(np.repeat(np.linspace(0.005, 0.96, n_rep_sqrt), n_rep_sqrt, axis = 0), (n_rep, ))\n",
    "sigma = np.reshape(np.tile(np.linspace(0.3, 3.0, n_rep_sqrt), n_rep_sqrt), (n_rep, ))\n",
    "bounds = [(sigma[0], sigma[-1]), (Lambda[0], Lambda[-1])]\n",
    "\n",
    "pars = np.zeros((n_rep,2))\n",
    "for i in range(n_rep):\n",
    "    # first generate experimental conditions for each trial\n",
    "    c = np.random.choice(a=['control', 'manipulation'], size=n) # condition\n",
    "    s = np.random.choice(a=stim_values, size=n) #stimulus evidence\n",
    "\n",
    "    # simulate model B\n",
    "    data = simulate_modelB(s, c, sigma[i], Lambda[i])\n",
    "    df = pd.DataFrame({'stimulus': s, 'condition':c, 'response':data}) \n",
    "    \n",
    "    # fit model B\n",
    "    result = optimize.minimize(lambda pp:  -LogLikelihood_modelB(df, pp[0], pp[1]), x0=[1, 0.5], bounds=bounds)\n",
    "    # store fitted parameters\n",
    "    pars[i,0] = result.x[0]\n",
    "    pars[i,1] = result.x[1]\n"
   ]
  },
  {
   "cell_type": "markdown",
   "id": "3021f142",
   "metadata": {},
   "source": [
    "## Parameter recovery plots"
   ]
  },
  {
   "cell_type": "markdown",
   "id": "04e57feb",
   "metadata": {},
   "source": [
    "We would like to visualise the fitted parameter values as a function of the generating parameter values. We will have one data point for each iteration. Here, you should use the generating values and the fitted values that you have stored in the section above. You should create two subplots, one for each parameter. Do you observe a fairly good agreement between the simulated and fit parameter values?"
   ]
  },
  {
   "cell_type": "code",
   "execution_count": null,
   "id": "4c5649f9",
   "metadata": {},
   "outputs": [],
   "source": [
    "fig, ax = plt.subplots(1, 3, figsize=(9,3))\n",
    "ax[0].scatter(sigma, pars[:,0])\n",
    "ax[0].plot([0.5,3],[0.5,3], c='r')\n",
    "ax[1].scatter(Lambda, pars[:,1])\n",
    "ax[1].plot([0,1],[0,1], c='r')\n",
    "ax[2].scatter(pars[:,0], pars[:,1])\n",
    "plt.show()"
   ]
  },
  {
   "cell_type": "markdown",
   "id": "50d55b0b",
   "metadata": {},
   "source": [
    "\n",
    "These plots show strong correlation between true and fitted paramters and also reveal whether the correlation holds in some parameter regimes but not others. It also reveals any existing bias (e.g. a tendency to recover higher or lower values in average) which does not seem to be the case here.\n",
    "\n",
    "Depending on the parameter values that we obtain when fitting human behavior, the worse correspondence in some parameter range may or may not be problematic. It is be a good idea to use the range of parameters obtained from fitting the real data to test the quality of recovery within the range that matters. \n",
    "\n",
    "Reliable parameter recovery is particularly important for look at inter-individual differences in relation to questionnaire scores or brain data.\n"
   ]
  },
  {
   "cell_type": "markdown",
   "id": "dcc248f2",
   "metadata": {},
   "source": [
    " **Optional:** Include a third subplot which shows a scatterplot of the fitted parameters $\\sigma$ and $\\lambda$. Also compute the correlation between the two parameters. How do you interpret the result?"
   ]
  },
  {
   "cell_type": "code",
   "execution_count": null,
   "id": "24cb8e33",
   "metadata": {},
   "outputs": [],
   "source": [
    "from scipy.stats import linregress\n",
    "print(linregress(*(pars.T)).pvalue)"
   ]
  },
  {
   "cell_type": "markdown",
   "id": "c7d77510",
   "metadata": {},
   "source": [
    "This entails that we could find this sample or more extreme ones for an uncorrelated population in 86% of the trials. Therefore, no correlation can be inferred."
   ]
  },
  {
   "cell_type": "markdown",
   "id": "f54f0d8b",
   "metadata": {},
   "source": [
    "The fitted parameters are not correlated, indicating that our parameters are identifyable (they cannot be trade-off against each other)"
   ]
  },
  {
   "cell_type": "markdown",
   "id": "18e51b02",
   "metadata": {},
   "source": [
    "---\n",
    "# II.3 Parameter uncertainty estimation (bootstrap)"
   ]
  },
  {
   "cell_type": "markdown",
   "id": "b56f0c5b",
   "metadata": {},
   "source": [
    "\n",
    "[Bootstrapping](https://en.wikipedia.org/wiki/Bootstrapping_(statistics)) is a widely applicable method to assess confidence/uncertainty about estimated parameters, it was originally [proposed](https://projecteuclid.org/euclid.aos/1176344552) by [Bradley Efron](https://en.wikipedia.org/wiki/Bradley_Efron). The idea is to generate many new synthetic datasets from the initial true dataset by randomly sampling from it, then finding estimators for each one of these new datasets, and finally looking at the distribution of all these estimators to quantify our confidence.\n",
    "\n",
    "Note that each new resampled datasets will be the same size as our original one, with the new data points sampled with replacement i.e. we can repeat the same data point multiple times. Also note that in practice we need a lot of resampled datasets.\n",
    "\n",
    "To explore this idea, we will work againg wit the \"experimental data\" generated above (the DataFrame `exp_data`).\n",
    "\n",
    "\n",
    "**Generate resampled data and display the psychometric curves for the original and the resampled data.** Repeat this several times to get a feeling for the \"randomness\", that is how different the resampled data is from the original data.\n"
   ]
  },
  {
   "cell_type": "code",
   "execution_count": null,
   "id": "703952d7",
   "metadata": {},
   "outputs": [],
   "source": [
    "\n",
    "bootstrap_sample = exp_data.sample(n=len(exp_data), replace=True)\n",
    "\n",
    "# plot psychometric curve\n",
    "plot_data_psychometric(exp_data)\n",
    "plot_data_psychometric(bootstrap_sample)\n",
    "#plt.legend(('Original','Resampled'));\n"
   ]
  },
  {
   "cell_type": "markdown",
   "id": "dd51ef52",
   "metadata": {},
   "source": [
    "## Generate bootstrap estimates\n",
    "\n",
    "In this exercise you will implement a method to run the bootstrap process of generating a set of fitted parameters from a dataset.\n"
   ]
  },
  {
   "cell_type": "markdown",
   "id": "af70fb5e",
   "metadata": {},
   "source": [
    "We will do this for model B, that is, we will fit the model B and return an array with the fitted parameters $\\sigma_m$ and $\\lambda$.\n"
   ]
  },
  {
   "cell_type": "code",
   "execution_count": null,
   "id": "cca613ca",
   "metadata": {},
   "outputs": [],
   "source": [
    "def bootstrap_estimates(data, n=2000, bounds=[(0.3, 5), (0.005, 0.96)]):\n",
    "  \"\"\"Generate a set of theta_hat estimates using the bootstrap method.\n",
    "  Args:\n",
    "    data (DataFrame)\n",
    "    n (int): The number of estimates to compute\n",
    "  Returns:\n",
    "    ndarray: An array of estimated parameters with size (n,)\n",
    "  \"\"\"\n",
    "\n",
    "  theta_hats = np.zeros((n,2))\n",
    "\n",
    "  # Loop over number of estimates\n",
    "  for i in range(n):\n",
    "    # Resample data\n",
    "    bootstrap_sample = data.sample(n=len(data), replace=True)\n",
    "    \n",
    "    # Compute theta_hat for this sample\n",
    "    theta_hats[i,:] = optimize.minimize(lambda pp: -LogLikelihood_modelB(bootstrap_sample, pp[0], pp[1]), x0=(1, 0.5), bounds=bounds).x\n",
    "\n",
    "  return theta_hats\n",
    "\n",
    "# Get bootstrap estimates (generate only 3 bootstrap samples for a quick check if everything works)\n",
    "theta_hats = bootstrap_estimates(exp_data, n=500)\n",
    "print(theta_hats)"
   ]
  },
  {
   "cell_type": "markdown",
   "id": "f55270c3",
   "metadata": {},
   "source": [
    "## Plot bootstrap samples and confidence intervals\n",
    "\n",
    "Let us now quantify how uncertain our estimated parameters ($\\sigma_m$ and $\\lambda$) are. We do so by computing confidence intervals from our bootstrapped estimates. The most direct approach is to compute percentiles from the empirical distribution of bootstrapped estimates. Note that this is widely applicable as we are not assuming that this empirical distribution is Gaussian.\n"
   ]
  },
  {
   "cell_type": "code",
   "execution_count": null,
   "id": "fd2130a7",
   "metadata": {},
   "outputs": [],
   "source": [
    "\n",
    "means = np.mean(theta_hats,axis=0)\n",
    "stds = np.std(theta_hats,axis=0)\n",
    "medians = ...  # compute medians\n",
    "CIs = ...  # compute 95% confidence intervals\n",
    "\n",
    "fig, ax = plt.subplots(ncols=2, figsize=(12, 5))\n",
    "\n",
    "for i in range(2):\n",
    "    ax[i].hist(theta_hats[:,i], bins=20, facecolor='C1', alpha=0.75);\n",
    "    ax[i].axvline(medians[i], color='r', label='Median')\n",
    "\n",
    "    # show confidence intervals:\n",
    "    # ...\n",
    "    # ...\n",
    "    \n",
    "    ax[i].legend()\n",
    "    ax[i].set(\n",
    "        title='Bootstrapped Confidence Interval for parameter '+str(i),\n",
    "        xlabel=r'$\\hat{{w_' + str(i) +'}}$',\n",
    "        ylabel='count');\n"
   ]
  },
  {
   "cell_type": "markdown",
   "id": "0549e8cd",
   "metadata": {},
   "source": [
    "## Illustrate bootstrap estimates (show fitted psychometric functions)\n",
    "\n",
    "Now that we have our bootstrap estimates, we can visualize all the potential models (models computed with different resampling) together to see how distributed they are. "
   ]
  },
  {
   "cell_type": "code",
   "execution_count": null,
   "id": "1069a91c",
   "metadata": {},
   "outputs": [],
   "source": [
    "\n",
    "fig, ax = plt.subplots()\n",
    "\n",
    "# plot all model fits obtained from bootstrap samples\n",
    "for i, theta_hat in enumerate(theta_hats):\n",
    "    ...\n",
    "\n",
    "# make the lines transparant to get a feeling for the distribution of model fits\n",
    "for line in plt.gca().lines:\n",
    "    line.set_alpha(0.005)\n",
    "\n",
    "plot_data_psychometric(exp_data)\n"
   ]
  },
  {
   "cell_type": "markdown",
   "id": "977b1537",
   "metadata": {},
   "source": [
    "\n",
    "## Summary of bootstrapping\n",
    "\n",
    "- Bootstrapping is a resampling procedure that allows to build confidence intervals around inferred parameter values\n",
    "- it is a widely applicable and very practical method that relies on computational power and pseudo-random number generators (as opposed to more classical approaches than depend on analytical derivations)\n",
    "- is non-parametric: the confidence intervals provided by statistical libraries are not always accurate because they assume an underlying gaussian distribution for parameters, which is not always the case."
   ]
  },
  {
   "cell_type": "markdown",
   "id": "31e04a1e",
   "metadata": {},
   "source": [
    "---\n",
    "# Optional part: Parameter trade-off between $\\lambda$ and $\\sigma$\n"
   ]
  },
  {
   "cell_type": "markdown",
   "id": "13054dfc",
   "metadata": {},
   "source": [
    "Above we have run a parameter recover analysis for model B that has a fixed $\\sigma_c$ across the two experimental condtions, and only $\\lambda$ is different between the conditions. Here, we will consider a more interesting example, let's call it model C. In model C, we also allow $\\sigma_m$ to change between conditions, that is in the manipulated condition is now described by a $\\lambda$ and a $\\sigma_m$."
   ]
  },
  {
   "cell_type": "markdown",
   "id": "67b55569",
   "metadata": {},
   "source": [
    "To make the above code direclty reusable, we simplify a bit and only consider \"manipulation\" trials."
   ]
  },
  {
   "cell_type": "markdown",
   "id": "b8852bd3",
   "metadata": {},
   "source": [
    "**What do you observe, when using model B to fit the data obtained by model C?**"
   ]
  },
  {
   "cell_type": "markdown",
   "id": "293f52ee",
   "metadata": {
    "editable": true,
    "slideshow": {
     "slide_type": ""
    },
    "tags": []
   },
   "source": [
    "\n",
    "# PART II\n",
    "## Parameter recovery, model validation, bootstrap\n",
    "\n",
    "**In this tutorial, we will see how to:**\n",
    "\n",
    "- Validate the modeling results against experimental data\n",
    "- Test model recovery\n",
    "- Use bootstrapping to estimate the uncertainty of fitted model parameters\n"
   ]
  },
  {
   "cell_type": "code",
   "execution_count": null,
   "id": "0f90bae4",
   "metadata": {},
   "outputs": [],
   "source": [
    "# # define the github path and authorization token\n",
    "# RAW_GITHUB_PATH = 'https://raw.githubusercontent.com/bambschool/BAMB2024/main/1-modeling_101/'\n",
    "\n",
    "# # define the list of files to be downloaded\n",
    "# files = ['tutorial_1_lib.py']\n",
    "\n",
    "# for file in files:\n",
    "#   !wget -O {file} \"{RAW_GITHUB_PATH}{file}\""
   ]
  },
  {
   "cell_type": "code",
   "execution_count": null,
   "id": "b6591594",
   "metadata": {},
   "outputs": [],
   "source": [
    "# import packages\n",
    "import numpy as np\n",
    "import pandas as pd\n",
    "import matplotlib.pyplot as plt\n",
    "from scipy.stats import norm\n",
    "from scipy.stats import pearsonr\n",
    "import scipy.optimize as optimize\n",
    "\n",
    "from tutorial_1_lib import *"
   ]
  },
  {
   "cell_type": "markdown",
   "id": "9fc75244",
   "metadata": {},
   "source": [
    "**We use model B to generate fake data and in the following we assume that this is our actual experimental data.**"
   ]
  },
  {
   "cell_type": "code",
   "execution_count": null,
   "id": "a8bb83c7",
   "metadata": {},
   "outputs": [],
   "source": [
    "\n",
    "# generate fake data\n",
    "n = 2500 # number of trials\n",
    "stim_values = [-3, -2, -1, -.5, 0,.5, 1, 2, 3] # all possible values of stimulus evidence (i.e. signed stim strength)\n",
    "# parameters of model B\n",
    "sigma = 1 # decision noise\n",
    "Lambda = 0.2 # proportion of lapses\n",
    "#first generate experimental conditions for each trial\n",
    "c = np.random.choice(a=['control', 'manipulation'], size=n) # condition\n",
    "s = np.random.choice(a=stim_values, size=n) #stimulus evidence\n",
    "#simulate model\n",
    "r = simulate_modelB(s, c, sigma_d=sigma, Lambda=Lambda)\n",
    "exp_data = pd.DataFrame({'stimulus': s, 'condition':c, 'response':r})\n"
   ]
  },
  {
   "cell_type": "markdown",
   "id": "bc78ab5b",
   "metadata": {},
   "source": [
    "---\n",
    "# II.1 Model validation\n",
    "\n",
    "\n",
    "As a very simple example for model validation, we will fit model A and B to the experimental data and compare how well the best-fitting model fits the psychometric curve.\n",
    "\n",
    "**Fit model B to the experimental data and show the model result and the psychometric curve.**\n"
   ]
  },
  {
   "cell_type": "code",
   "execution_count": null,
   "id": "a620297e",
   "metadata": {},
   "outputs": [],
   "source": [
    "\n",
    "# fit model B\n",
    "p_opt = optimize.minimize(lambda pp: -LogLikelihood_modelB(exp_data, pp[0], pp[1]), x0=[0.75, 0.1], bounds=[(0.1, 10), (0.01, 1)]).x\n",
    "\n",
    "# Retrieve the optimized parameters\n",
    "(sigma_d_hat, Lambda_hat) = p_opt\n",
    "\n",
    "# plot model predictions\n",
    "plot_model(lambda s,c: p_modelB(s,c,sigma_d=sigma_d_hat, Lambda=Lambda_hat))\n",
    "\n",
    "# plot psychometric curve on top\n",
    "plot_data_psychometric(exp_data)\n"
   ]
  },
  {
   "cell_type": "markdown",
   "id": "3d310efd",
   "metadata": {},
   "source": [
    "\n",
    "**Now fit model A to the experimental data and compare to the result obtained above.**\n"
   ]
  },
  {
   "cell_type": "code",
   "execution_count": null,
   "id": "1298cd64",
   "metadata": {},
   "outputs": [],
   "source": []
  },
  {
   "cell_type": "markdown",
   "id": "9b8bfe36",
   "metadata": {},
   "source": [
    "\n",
    "Fitting the experimental data with model A that does not include lapses but a different $\\sigma_m$, we get a worse fit for all the data points and the slope of the fit does not seem right.\n",
    "\n",
    "Of course, this is trivial here because we now that the \"experimental data\" actually includes lapses. It is important to note that not including a lapse rate can lead to real-world problems when fitting psychometric functions. We will talk more about this further below.\n"
   ]
  },
  {
   "cell_type": "markdown",
   "id": "06c1e450",
   "metadata": {},
   "source": [
    "In general, it is a good idea to show not only that the best-fitting model validates, but that the alternative models do NOT validate (often many models are validated on simple behavioral metrics, and we need of specific patterns of behavior to arbitrate between different models)."
   ]
  },
  {
   "cell_type": "markdown",
   "id": "149ff4e1",
   "metadata": {},
   "source": [
    "---\n",
    "# II.2. Parameter recovery\n"
   ]
  },
  {
   "cell_type": "markdown",
   "id": "e8bd2a34",
   "metadata": {},
   "source": [
    "## Simulation and fitting"
   ]
  },
  {
   "cell_type": "markdown",
   "id": "ffa4db66",
   "metadata": {},
   "source": [
    "**Simulate Model B to generate synthetic data, then fit these data.**\n",
    "\n",
    "We will do this step by step. We will first simulate model B using `simulate_modelB` with different random parameters $\\sigma_d$ and $\\lambda$. Note that the parameter recovery result will depend on the probability distribution used to sample the parameters.\n",
    "\n",
    "After simulating the model, we will fit the parameters using a maximum likelihood approach to get estimated values $\\hat{\\sigma_d}$ and $\\hat{\\lambda}$. "
   ]
  },
  {
   "cell_type": "code",
   "execution_count": null,
   "id": "51ba420c",
   "metadata": {},
   "outputs": [],
   "source": [
    "# loop over at least 100 repetitions\n",
    "n_rep_sqrt = 20\n",
    "n_rep = n_rep_sqrt ** 2\n",
    "\n",
    "# specify parameters of the experiment\n",
    "n = 2500  # number of trials\n",
    "stim_values = [-3, -2, -1, -.5, 0,.5, 1, 2, 3]  # all possible values of stimulus evidence (i.e. signed stim strength)\n",
    "\n",
    "# specify plaubsible range of model parameters\n",
    "Lambda = np.reshape(np.repeat(np.linspace(0.005, 0.96, n_rep_sqrt), n_rep_sqrt, axis = 0), (n_rep, ))\n",
    "sigma = np.reshape(np.tile(np.linspace(0.3, 3.0, n_rep_sqrt), n_rep_sqrt), (n_rep, ))\n",
    "bounds = [(sigma[0], sigma[-1]), (Lambda[0], Lambda[-1])]\n",
    "\n",
    "pars = np.zeros((n_rep,2))\n",
    "for i in range(n_rep):\n",
    "    # first generate experimental conditions for each trial\n",
    "    c = np.random.choice(a=['control', 'manipulation'], size=n) # condition\n",
    "    s = np.random.choice(a=stim_values, size=n) #stimulus evidence\n",
    "\n",
    "    # simulate model B\n",
    "    data = simulate_modelB(s, c, sigma[i], Lambda[i])\n",
    "    df = pd.DataFrame({'stimulus': s, 'condition':c, 'response':data}) \n",
    "    \n",
    "    # fit model B\n",
    "    result = optimize.minimize(lambda pp:  -LogLikelihood_modelB(df, pp[0], pp[1]), x0=[1, 0.5], bounds=bounds)\n",
    "    # store fitted parameters\n",
    "    pars[i,0] = result.x[0]\n",
    "    pars[i,1] = result.x[1]\n"
   ]
  },
  {
   "cell_type": "markdown",
   "id": "bb7c0ea0",
   "metadata": {},
   "source": [
    "## Parameter recovery plots"
   ]
  },
  {
   "cell_type": "markdown",
   "id": "93dea811",
   "metadata": {},
   "source": [
    "We would like to visualise the fitted parameter values as a function of the generating parameter values. We will have one data point for each iteration. Here, you should use the generating values and the fitted values that you have stored in the section above. You should create two subplots, one for each parameter. Do you observe a fairly good agreement between the simulated and fit parameter values?"
   ]
  },
  {
   "cell_type": "code",
   "execution_count": null,
   "id": "e3e66a68",
   "metadata": {},
   "outputs": [],
   "source": [
    "fig, ax = plt.subplots(1, 3, figsize=(9,3))\n",
    "ax[0].scatter(sigma, pars[:,0])\n",
    "ax[0].plot([0.5,3],[0.5,3], c='r')\n",
    "ax[1].scatter(Lambda, pars[:,1])\n",
    "ax[1].plot([0,1],[0,1], c='r')\n",
    "ax[2].scatter(pars[:,0], pars[:,1])\n",
    "plt.show()"
   ]
  },
  {
   "cell_type": "markdown",
   "id": "642e4855",
   "metadata": {},
   "source": [
    "\n",
    "These plots show strong correlation between true and fitted paramters and also reveal whether the correlation holds in some parameter regimes but not others. It also reveals any existing bias (e.g. a tendency to recover higher or lower values in average) which does not seem to be the case here.\n",
    "\n",
    "Depending on the parameter values that we obtain when fitting human behavior, the worse correspondence in some parameter range may or may not be problematic. It is be a good idea to use the range of parameters obtained from fitting the real data to test the quality of recovery within the range that matters. \n",
    "\n",
    "Reliable parameter recovery is particularly important for look at inter-individual differences in relation to questionnaire scores or brain data.\n"
   ]
  },
  {
   "cell_type": "markdown",
   "id": "810fd57e",
   "metadata": {},
   "source": [
    " **Optional:** Include a third subplot which shows a scatterplot of the fitted parameters $\\sigma$ and $\\lambda$. Also compute the correlation between the two parameters. How do you interpret the result?"
   ]
  },
  {
   "cell_type": "code",
   "execution_count": null,
   "id": "e87515e4",
   "metadata": {},
   "outputs": [],
   "source": [
    "from scipy.stats import linregress\n",
    "print(linregress(*(pars.T)).pvalue)"
   ]
  },
  {
   "cell_type": "markdown",
   "id": "b04c024e",
   "metadata": {},
   "source": [
    "This entails that we could find this sample or more extreme ones for an uncorrelated population in 86% of the trials. Therefore, no correlation can be inferred."
   ]
  },
  {
   "cell_type": "markdown",
   "id": "bf35abd0",
   "metadata": {},
   "source": [
    "The fitted parameters are not correlated, indicating that our parameters are identifyable (they cannot be trade-off against each other)"
   ]
  },
  {
   "cell_type": "markdown",
   "id": "1be8f814",
   "metadata": {},
   "source": [
    "---\n",
    "# II.3 Parameter uncertainty estimation (bootstrap)"
   ]
  },
  {
   "cell_type": "markdown",
   "id": "892b93cb",
   "metadata": {},
   "source": [
    "\n",
    "[Bootstrapping](https://en.wikipedia.org/wiki/Bootstrapping_(statistics)) is a widely applicable method to assess confidence/uncertainty about estimated parameters, it was originally [proposed](https://projecteuclid.org/euclid.aos/1176344552) by [Bradley Efron](https://en.wikipedia.org/wiki/Bradley_Efron). The idea is to generate many new synthetic datasets from the initial true dataset by randomly sampling from it, then finding estimators for each one of these new datasets, and finally looking at the distribution of all these estimators to quantify our confidence.\n",
    "\n",
    "Note that each new resampled datasets will be the same size as our original one, with the new data points sampled with replacement i.e. we can repeat the same data point multiple times. Also note that in practice we need a lot of resampled datasets.\n",
    "\n",
    "To explore this idea, we will work againg wit the \"experimental data\" generated above (the DataFrame `exp_data`).\n",
    "\n",
    "\n",
    "**Generate resampled data and display the psychometric curves for the original and the resampled data.** Repeat this several times to get a feeling for the \"randomness\", that is how different the resampled data is from the original data.\n"
   ]
  },
  {
   "cell_type": "code",
   "execution_count": null,
   "id": "7cf8d212",
   "metadata": {},
   "outputs": [],
   "source": [
    "\n",
    "bootstrap_sample = exp_data.sample(n=len(exp_data), replace=True)\n",
    "\n",
    "# plot psychometric curve\n",
    "plot_data_psychometric(exp_data)\n",
    "plot_data_psychometric(bootstrap_sample)\n",
    "#plt.legend(('Original','Resampled'));\n"
   ]
  },
  {
   "cell_type": "markdown",
   "id": "c738adf9",
   "metadata": {},
   "source": [
    "## Generate bootstrap estimates\n",
    "\n",
    "In this exercise you will implement a method to run the bootstrap process of generating a set of fitted parameters from a dataset.\n"
   ]
  },
  {
   "cell_type": "markdown",
   "id": "2965dd84",
   "metadata": {},
   "source": [
    "We will do this for model B, that is, we will fit the model B and return an array with the fitted parameters $\\sigma_m$ and $\\lambda$.\n"
   ]
  },
  {
   "cell_type": "code",
   "execution_count": null,
   "id": "7c128d78",
   "metadata": {},
   "outputs": [],
   "source": [
    "def bootstrap_estimates(data, n=2000, bounds=[(0.3, 5), (0.005, 0.96)]):\n",
    "  \"\"\"Generate a set of theta_hat estimates using the bootstrap method.\n",
    "  Args:\n",
    "    data (DataFrame)\n",
    "    n (int): The number of estimates to compute\n",
    "  Returns:\n",
    "    ndarray: An array of estimated parameters with size (n,)\n",
    "  \"\"\"\n",
    "\n",
    "  theta_hats = np.zeros((n,2))\n",
    "\n",
    "  # Loop over number of estimates\n",
    "  for i in range(n):\n",
    "    # Resample data\n",
    "    bootstrap_sample = data.sample(n=len(data), replace=True)\n",
    "    \n",
    "    # Compute theta_hat for this sample\n",
    "    theta_hats[i,:] = optimize.minimize(lambda pp: -LogLikelihood_modelB(bootstrap_sample, pp[0], pp[1]), x0=(1, 0.5), bounds=bounds).x\n",
    "\n",
    "  return theta_hats\n",
    "\n",
    "# Get bootstrap estimates (generate only 3 bootstrap samples for a quick check if everything works)\n",
    "theta_hats = bootstrap_estimates(exp_data, n=500)\n",
    "print(theta_hats)"
   ]
  },
  {
   "cell_type": "markdown",
   "id": "b6ee05cc",
   "metadata": {},
   "source": [
    "## Plot bootstrap samples and confidence intervals\n",
    "\n",
    "Let us now quantify how uncertain our estimated parameters ($\\sigma_m$ and $\\lambda$) are. We do so by computing confidence intervals from our bootstrapped estimates. The most direct approach is to compute percentiles from the empirical distribution of bootstrapped estimates. Note that this is widely applicable as we are not assuming that this empirical distribution is Gaussian.\n"
   ]
  },
  {
   "cell_type": "code",
   "execution_count": null,
   "id": "f1c056a9",
   "metadata": {},
   "outputs": [],
   "source": [
    "\n",
    "means = np.mean(theta_hats,axis=0)\n",
    "stds = np.std(theta_hats,axis=0)\n",
    "medians = ...  # compute medians\n",
    "CIs = ...  # compute 95% confidence intervals\n",
    "\n",
    "fig, ax = plt.subplots(ncols=2, figsize=(12, 5))\n",
    "\n",
    "for i in range(2):\n",
    "    ax[i].hist(theta_hats[:,i], bins=20, facecolor='C1', alpha=0.75);\n",
    "    ax[i].axvline(medians[i], color='r', label='Median')\n",
    "\n",
    "    # show confidence intervals:\n",
    "    # ...\n",
    "    # ...\n",
    "    \n",
    "    ax[i].legend()\n",
    "    ax[i].set(\n",
    "        title='Bootstrapped Confidence Interval for parameter '+str(i),\n",
    "        xlabel=r'$\\hat{{w_' + str(i) +'}}$',\n",
    "        ylabel='count');\n"
   ]
  },
  {
   "cell_type": "markdown",
   "id": "544a689c",
   "metadata": {},
   "source": [
    "## Illustrate bootstrap estimates (show fitted psychometric functions)\n",
    "\n",
    "Now that we have our bootstrap estimates, we can visualize all the potential models (models computed with different resampling) together to see how distributed they are. "
   ]
  },
  {
   "cell_type": "code",
   "execution_count": null,
   "id": "e3f94a44",
   "metadata": {},
   "outputs": [],
   "source": [
    "\n",
    "fig, ax = plt.subplots()\n",
    "\n",
    "# plot all model fits obtained from bootstrap samples\n",
    "for i, theta_hat in enumerate(theta_hats):\n",
    "    ...\n",
    "\n",
    "# make the lines transparant to get a feeling for the distribution of model fits\n",
    "for line in plt.gca().lines:\n",
    "    line.set_alpha(0.005)\n",
    "\n",
    "plot_data_psychometric(exp_data)\n"
   ]
  },
  {
   "cell_type": "markdown",
   "id": "4fd59942",
   "metadata": {},
   "source": [
    "\n",
    "## Summary of bootstrapping\n",
    "\n",
    "- Bootstrapping is a resampling procedure that allows to build confidence intervals around inferred parameter values\n",
    "- it is a widely applicable and very practical method that relies on computational power and pseudo-random number generators (as opposed to more classical approaches than depend on analytical derivations)\n",
    "- is non-parametric: the confidence intervals provided by statistical libraries are not always accurate because they assume an underlying gaussian distribution for parameters, which is not always the case."
   ]
  },
  {
   "cell_type": "markdown",
   "id": "c134217d",
   "metadata": {},
   "source": [
    "---\n",
    "# Optional part: Parameter trade-off between $\\lambda$ and $\\sigma$\n"
   ]
  },
  {
   "cell_type": "markdown",
   "id": "fdb474b9",
   "metadata": {},
   "source": [
    "Above we have run a parameter recover analysis for model B that has a fixed $\\sigma_c$ across the two experimental condtions, and only $\\lambda$ is different between the conditions. Here, we will consider a more interesting example, let's call it model C. In model C, we also allow $\\sigma_m$ to change between conditions, that is in the manipulated condition is now described by a $\\lambda$ and a $\\sigma_m$."
   ]
  },
  {
   "cell_type": "markdown",
   "id": "e4001341",
   "metadata": {},
   "source": [
    "To make the above code direclty reusable, we simplify a bit and only consider \"manipulation\" trials."
   ]
  },
  {
   "cell_type": "markdown",
   "id": "c8dbbcb6",
   "metadata": {},
   "source": [
    "**What do you observe, when using model B to fit the data obtained by model C?**"
   ]
  }
 ],
 "metadata": {
  "kernelspec": {
   "display_name": "Python 3 (ipykernel)",
   "language": "python",
   "name": "python3"
  },
  "language_info": {
   "codemirror_mode": {
    "name": "ipython",
    "version": 3
   },
   "file_extension": ".py",
   "mimetype": "text/x-python",
   "name": "python",
   "nbconvert_exporter": "python",
   "pygments_lexer": "ipython3",
   "version": "3.12.3"
  }
 },
 "nbformat": 4,
 "nbformat_minor": 5
}
