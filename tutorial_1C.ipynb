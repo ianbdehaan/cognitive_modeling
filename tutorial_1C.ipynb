{
  "cells": [
    {
      "cell_type": "markdown",
      "id": "51cb4d9f-d4ba-4831-a575-c4547a3a0d2d",
      "metadata": {
        "id": "51cb4d9f-d4ba-4831-a575-c4547a3a0d2d"
      },
      "source": [
        "\n",
        "# PART III - Model selection and model recovery\n",
        "\n",
        "**In this tutorial, we will see how to:**\n",
        "\n",
        "- perform model selection using parametric and non-parametric methods (cross-validation)\n",
        "- run model recovery analysis\n"
      ]
    },
    {
      "cell_type": "code",
      "execution_count": 1,
      "id": "a3c79fe0-815d-4cef-a775-2588fdc7a0c3",
      "metadata": {
        "colab": {
          "base_uri": "https://localhost:8080/"
        },
        "id": "a3c79fe0-815d-4cef-a775-2588fdc7a0c3",
        "outputId": "78934ba8-e440-46d8-c4dc-198f2e8b5ebb"
      },
      "outputs": [
        {
          "output_type": "stream",
          "name": "stdout",
          "text": [
            "--2024-09-19 09:13:24--  https://raw.githubusercontent.com/bambschool/BAMB2024/main/1-modeling_101/tutorial_1_lib.py\n",
            "Resolving raw.githubusercontent.com (raw.githubusercontent.com)... 185.199.110.133, 185.199.108.133, 185.199.109.133, ...\n",
            "Connecting to raw.githubusercontent.com (raw.githubusercontent.com)|185.199.110.133|:443... connected.\n",
            "HTTP request sent, awaiting response... 200 OK\n",
            "Length: 4696 (4.6K) [text/plain]\n",
            "Saving to: ‘tutorial_1_lib.py’\n",
            "\n",
            "\rtutorial_1_lib.py     0%[                    ]       0  --.-KB/s               \rtutorial_1_lib.py   100%[===================>]   4.59K  --.-KB/s    in 0s      \n",
            "\n",
            "2024-09-19 09:13:24 (45.1 MB/s) - ‘tutorial_1_lib.py’ saved [4696/4696]\n",
            "\n"
          ]
        }
      ],
      "source": [
        "# define the github path and authorization token\n",
        "RAW_GITHUB_PATH = 'https://raw.githubusercontent.com/bambschool/BAMB2024/main/1-modeling_101/'\n",
        "\n",
        "# define the list of files to be downloaded\n",
        "files = ['tutorial_1_lib.py']\n",
        "\n",
        "for file in files:\n",
        "  !wget -O {file} \"{RAW_GITHUB_PATH}{file}\""
      ]
    },
    {
      "cell_type": "code",
      "execution_count": 2,
      "id": "4a5a5d38-8f15-47e5-a0ca-d89091f23550",
      "metadata": {
        "id": "4a5a5d38-8f15-47e5-a0ca-d89091f23550"
      },
      "outputs": [],
      "source": [
        "# import packages\n",
        "import numpy as np\n",
        "import pandas as pd\n",
        "import matplotlib.pyplot as plt\n",
        "from scipy.stats import norm\n",
        "from scipy.stats import pearsonr\n",
        "import scipy.optimize as optimize\n",
        "\n",
        "from tutorial_1_lib import *"
      ]
    },
    {
      "cell_type": "markdown",
      "id": "771ab653-5c4f-41d2-b03d-24029578df86",
      "metadata": {
        "id": "771ab653-5c4f-41d2-b03d-24029578df86"
      },
      "source": [
        "**We use model B to generate fake data and in the following we assume that this is our actual experimental data.**"
      ]
    },
    {
      "cell_type": "code",
      "execution_count": 3,
      "id": "e7ad21a3-9f92-4d54-9fac-6cde29fb5d46",
      "metadata": {
        "id": "e7ad21a3-9f92-4d54-9fac-6cde29fb5d46"
      },
      "outputs": [],
      "source": [
        "\n",
        "# generate fake data\n",
        "n = 2500 # number of trials\n",
        "stim_values = [-3, -2, -1, -.5, 0,.5, 1, 2, 3] # all possible values of stimulus evidence (i.e. signed stim strength)\n",
        "# parameters of model B\n",
        "sigma = 1 # decision noise\n",
        "Lambda = 0.2 # proportion of lapses\n",
        "#first generate experimental conditions for each trial\n",
        "c = np.random.choice(a=['control', 'manipulation'], size=n) # condition\n",
        "s = np.random.choice(a=stim_values, size=n) #stimulus evidence\n",
        "#simulate model\n",
        "r = simulate_modelB(s, c, sigma_d=sigma, Lambda = Lambda)\n",
        "data = pd.DataFrame({'stimulus': s, 'condition':c, 'response':r})\n"
      ]
    },
    {
      "cell_type": "markdown",
      "id": "3d299360",
      "metadata": {
        "id": "3d299360"
      },
      "source": [
        "# III.1. Model selection\n",
        "\n",
        "## Penalized log-likelihood (AIC, BIC)\n",
        "\n",
        "To make the comparison more fair between models of different complexities, one approach is simply to apply a certain penalty term on top of the likelihood that penalizes the models with more parameters. The two most popular metrics for doing so just differ in the strength of the penalty term:\n",
        "- the **Akaike Information Criterion (AIC)** is computed as $AIC = 2k - 2 \\hat{LLH}$, where $k$ is the number of parameters of the model (i.e. a simple linear regression model will have two, the intercept and the slope) and $\\hat{LLH}$ is the log-likelihood of the model estimated at the maximum-likelihood parameters (the value that is provided in the summary of the model after fitting).\n",
        "- the **Bayesian Information Criterion (BIC)** is computed as $BIC = k \\log n - 2 \\hat{LLH}$ where $n$ is the number of observations (i.e. trials).\n",
        "The smaller the AIC (or BIC), the better is the model, because of the negative sign before the log-likelihood. The first part of the equation is positive and correspond to the penalty term. That term is larger in the case of the BIC, i.e. the BIC penalizes more severely models with many parameters than the AIC. In other words, it will be more conservative in rejecting the null hypothesis. It's important to note that these are **relative measures**: their raw values tell us very little, it's only by comparing values between different models that we can interpret which model better captures the data. So we cannot conclude from the BIC/AIC that one model is a good model of the data; only that it is a better model of the data than others.\n",
        "\n",
        "Akaike's rule of thumb: **two models are essentially indistinguishable if the difference of their AICs is less than 2** (same for BIC). The larger the difference, the more evidence towards the better model against the other.\n"
      ]
    },
    {
      "cell_type": "markdown",
      "id": "ecadac49-08e0-4d4e-925f-3501ba9a521c",
      "metadata": {
        "id": "ecadac49-08e0-4d4e-925f-3501ba9a521c"
      },
      "source": [
        "**Follow the example of `fit_model0` to define functions that fit model A and B and return the fitted parameters, the log-likelihood, AIC and BIC.**"
      ]
    },
    {
      "cell_type": "code",
      "execution_count": 4,
      "id": "55d95919-c2fc-41f4-a5d8-3f670e89e5cc",
      "metadata": {
        "id": "55d95919-c2fc-41f4-a5d8-3f670e89e5cc"
      },
      "outputs": [],
      "source": [
        "\n",
        "def fit_model0(data):\n",
        "    # fit the null model; model B with lambda = 0 (i.e. no change between the two conditions)\n",
        "    result = optimize.minimize(lambda pp: -LogLikelihood_modelB(data, pp[0], 0), x0=[1], bounds=[(0.1, 10)])\n",
        "    LLH = -result.fun\n",
        "    AIC = 2 * len(result.x) - 2 * LLH\n",
        "    BIC = len(result.x) * np.log(data.shape[0]) - 2 * LLH\n",
        "    return result.x, LLH, AIC, BIC # fitted parameters, log-likelihood, AIC, BIC\n",
        "\n",
        "def fit_modelA(data):\n",
        "    # INSERT CODE HERE\n",
        "    result = optimize.minimize(lambda pp: -LogLikelihood_modelA(data, pp[0], pp[1]), x0=[1,1], bounds=[(0.1, 10),(0.1,10)])\n",
        "    LLH = -result.fun\n",
        "    AIC = 2 * len(result.x) - 2 * LLH\n",
        "    BIC = len(result.x) * np.log(data.shape[0]) - 2 * LLH\n",
        "    return result.x, LLH, AIC, BIC # fitted parameters, log-likelihood, AIC, BIC\n",
        "\n",
        "\n",
        "def fit_modelB(data):\n",
        "    # INSERT CODE HERE\n",
        "    result = optimize.minimize(lambda pp: -LogLikelihood_modelB(data, pp[0], pp[1]), x0=[1,1], bounds=[(0.1, 10),(0.1,10)])\n",
        "    LLH = -result.fun\n",
        "    AIC = 2 * len(result.x) - 2 * LLH\n",
        "    BIC = len(result.x) * np.log(data.shape[0]) - 2 * LLH\n",
        "    return result.x, LLH, AIC, BIC # fitted parameters, log-likelihood, AIC, BIC\n",
        "\n",
        "\n",
        "\n",
        "\n",
        "model0_x, model0_LLH, model0_AIC, model0_BIC = fit_model0(data)\n",
        "modelA_x, modelA_LLH, modelA_AIC, modelA_BIC = fit_modelA(data)\n",
        "modelB_x, modelB_LLH, modelB_AIC, modelB_BIC = fit_modelB(data)\n"
      ]
    },
    {
      "cell_type": "markdown",
      "id": "6c5191d0-52a5-4827-bab9-69547072ce4a",
      "metadata": {
        "id": "6c5191d0-52a5-4827-bab9-69547072ce4a"
      },
      "source": [
        "**Visualize the AIC and BIC of model A and B vs. the null model (e.g. in a bar plot). What do you conclude?**"
      ]
    },
    {
      "cell_type": "code",
      "execution_count": 5,
      "id": "fade816d-2b61-49f4-a619-8287bb5bd476",
      "metadata": {
        "colab": {
          "base_uri": "https://localhost:8080/",
          "height": 507
        },
        "id": "fade816d-2b61-49f4-a619-8287bb5bd476",
        "outputId": "493dbcb7-3a6b-49f2-8aee-dd01190955c7"
      },
      "outputs": [
        {
          "output_type": "display_data",
          "data": {
            "text/plain": [
              "<Figure size 800x500 with 2 Axes>"
            ],
            "image/png": "[encoded data removed]"
          },
          "metadata": {}
        }
      ],
      "source": [
        "fig, axes = plt.subplots(1, 2, figsize=(8, 5))\n",
        "\n",
        "axes[0].bar(['model A', 'model B'], [modelA_AIC-model0_AIC, modelB_AIC-model0_AIC])\n",
        "axes[0].set_xlabel('Model')\n",
        "axes[0].set_ylabel('AIC')\n",
        "axes[0].set_title('Performance relative to null model')\n",
        "\n",
        "axes[1].bar(['model A', 'model B'], [modelA_BIC-model0_BIC, modelB_BIC-model0_BIC])\n",
        "axes[1].set_xlabel('Model')\n",
        "axes[1].set_ylabel('BIC')\n",
        "axes[1].set_title('Performance relative to null model')\n",
        "\n",
        "# Set y-axis limits to the same interval\n",
        "min_val = min(axes[0].get_ylim()[0], axes[1].get_ylim()[0])\n",
        "max_val = max(axes[0].get_ylim()[1], axes[1].get_ylim()[1])\n",
        "axes[0].set_ylim(min_val, max_val)\n",
        "axes[1].set_ylim(min_val, max_val)\n",
        "\n",
        "plt.tight_layout()\n",
        "plt.show()"
      ]
    },
    {
      "cell_type": "markdown",
      "id": "db6a63bd-678d-4f8e-b575-7ccc12d4b66e",
      "metadata": {
        "id": "db6a63bd-678d-4f8e-b575-7ccc12d4b66e"
      },
      "source": [
        "Both model A and model B have smaller AIC and BIC than the null model. Model B has the smallest AIC and BIC and thus, based on both measures, we conclude that the data favors model B."
      ]
    },
    {
      "cell_type": "markdown",
      "id": "6435e40b",
      "metadata": {
        "id": "6435e40b"
      },
      "source": [
        "## Cross-validation\n",
        "\n",
        "The AIC and BIC are convenient because they are easy to compute, but they are just \"approximately good\". For large sample size, they work well, but for smaller sample size they may not accurately describe which model is better.\n",
        "\n",
        "Another approach for comparing models on experimental data while adjusting for model complexity is to test the model performance on datapoints that have not been used to train/fit the model (i.e. estimated the maximum-likelihood parameters). If a model with many parameters is overfitting, i.e. its parameters are adjusted to predict very well the datapoints it was trained on (it is fitting 'noise'), then its performance may decrease severely when testing the model with the same parameters but on a new dataset.\n",
        "\n",
        "How this is done in practice is using **cross-validation**, where the dataset is chunked in pieces (or folds), where each piece alternatively takes the role of the training and test dataset. The most standard form of cross-validation is K-fold cross-validation, where K describes the number of folds in which the data is split. The log-likelihood of cross-validated data is described as \"Cross-Validated Log-Likelihood\" (**CVLL**).\n",
        "\n",
        "In general, the larger is K, the more robust your measure is. The extreme case is **leave-one-out cross-validation** (LOOCV) where basically you split the datasets in sets of just one observation (trials); then on each fold you fit all your dataset on all the dataset but one observation and test it on this single heldout observation. So LOOCV is like K-fold CV where K equals the number of observations. However, by increasing K, you also increase the computational complexity as you need to fit the model over and over, so things can get slow.\n",
        "\n",
        "Cross-validation is a robust method for choosing the best statistical model for a certain dataset. It does not suffer the same limitations as AIC/BIC, and can be used for other metrics than the log-likelihood such as the mean squared error or the classification accuracy. This it can be used also for complex methods when the likelihood cannot be evaluated.\n",
        "This is why **cross-validation is the standard method in machine learning** to compare the performance of any type of models (deep networks, auto-encoders, SVMs, etc.).\n",
        "\n"
      ]
    },
    {
      "cell_type": "markdown",
      "id": "5a6798af-89b5-4c52-95ab-2f851bbd0b59",
      "metadata": {
        "id": "5a6798af-89b5-4c52-95ab-2f851bbd0b59"
      },
      "source": [
        "In this code, we split the data into 10 subsets using `Kfold` (from `sklearn.model_selection`). `KFold` handles cross-validation subset splitting and train/test assignment.  In particular, the `Kfold.split` method returns an iterator which we can loop through. On each loop, this iterator assigns a different subset as validation and returns new training and validation indices with which to split the data.\n",
        "\n",
        "**We will loop through the 10 train/validation splits and on each split compute the log-likelihood of both models on the test set. Then we will average the CVLL over splits.**"
      ]
    },
    {
      "cell_type": "code",
      "execution_count": 6,
      "id": "63ab255c-ad58-43db-a1c9-0f44b5aed70a",
      "metadata": {
        "id": "63ab255c-ad58-43db-a1c9-0f44b5aed70a"
      },
      "outputs": [],
      "source": [
        "\n",
        "#import KFold\n",
        "from sklearn.model_selection import KFold\n",
        "\n",
        "# number of folds\n",
        "K = 10\n",
        "\n",
        "#create Kfold object\n",
        "kf = KFold(n_splits = K)\n"
      ]
    },
    {
      "cell_type": "markdown",
      "id": "43603bb4-ffd2-4b8c-89ab-6c18a8ed0934",
      "metadata": {
        "id": "43603bb4-ffd2-4b8c-89ab-6c18a8ed0934"
      },
      "source": [
        "**Apply K-fold validation on the dataset to compute the CVLL for the null model and model A and B.**"
      ]
    },
    {
      "cell_type": "code",
      "execution_count": 7,
      "id": "67dfdaf6-f327-4869-8c61-e3ab8ab7da49",
      "metadata": {
        "id": "67dfdaf6-f327-4869-8c61-e3ab8ab7da49",
        "colab": {
          "base_uri": "https://localhost:8080/"
        },
        "outputId": "1ea0cb73-c3e1-4624-be82-69333be7bf07"
      },
      "outputs": [
        {
          "output_type": "stream",
          "name": "stderr",
          "text": [
            "/content/tutorial_1_lib.py:97: RuntimeWarning: invalid value encountered in log\n",
            "  LLH = np.sum(np.log(lh))\n"
          ]
        }
      ],
      "source": [
        "model0_CVLL = np.empty((0))\n",
        "modelA_CVLL = np.empty((0))\n",
        "modelB_CVLL = np.empty((0))\n",
        "\n",
        "# loop through all folds (the complex syntax provides the loop counter i, as well as the indices of trials in train and test sets for the corresponding fold)\n",
        "for i, (train_index, test_index) in enumerate(kf.split(data)):\n",
        "\n",
        "    # dataframe with training data\n",
        "    df_train = data.iloc[train_index]\n",
        "\n",
        "    # dataframe with test data\n",
        "    df_test = data.iloc[test_index]\n",
        "\n",
        "    # compute the CVLL for the null model\n",
        "    pp,_,_,_ = fit_model0(df_train)\n",
        "    model0_CVLL = np.append(model0_CVLL, LogLikelihood_modelB(df_test, pp[0], 0))\n",
        "\n",
        "    # compute the CVLL for model A\n",
        "    pp,_,_,_ = fit_modelA(df_train)\n",
        "    modelA_CVLL = np.append(modelA_CVLL, LogLikelihood_modelA(df_test, pp[0], pp[1]))\n",
        "\n",
        "    # compute the CVLL for model B\n",
        "    pp,_,_,_ = fit_modelB(df_train)\n",
        "    modelB_CVLL = np.append(modelB_CVLL, LogLikelihood_modelB(df_test, pp[0], pp[1]))\n"
      ]
    },
    {
      "cell_type": "markdown",
      "id": "77411a7f-047b-45c3-bcc6-ed2b9eda0bd5",
      "metadata": {
        "id": "77411a7f-047b-45c3-bcc6-ed2b9eda0bd5"
      },
      "source": [
        "**Show the results obtained for the CVLL.** What do you conclude?"
      ]
    },
    {
      "cell_type": "code",
      "execution_count": 8,
      "id": "8ff02761-c702-4aab-b901-73ed1a4c0e77",
      "metadata": {
        "colab": {
          "base_uri": "https://localhost:8080/",
          "height": 430
        },
        "id": "8ff02761-c702-4aab-b901-73ed1a4c0e77",
        "outputId": "5bc723c5-4790-45e5-822d-cd762daf632b"
      },
      "outputs": [
        {
          "output_type": "display_data",
          "data": {
            "text/plain": [
              "<Figure size 640x480 with 1 Axes>"
            ],
            "image/png": "[encoded data removed]"
          },
          "metadata": {}
        }
      ],
      "source": [
        "\n",
        "CVLL0 = np.mean(model0_CVLL)\n",
        "CVLLA = np.mean(modelA_CVLL)\n",
        "CVLLB = np.mean(modelB_CVLL)\n",
        "\n",
        "plt.bar(['model A', 'model B'], [CVLLA-CVLL0, CVLLB-CVLL0])\n",
        "plt.show()\n"
      ]
    },
    {
      "cell_type": "markdown",
      "id": "a1512d60-ffd2-4ac2-adaa-99938e4b7c34",
      "metadata": {
        "id": "a1512d60-ffd2-4ac2-adaa-99938e4b7c34"
      },
      "source": [
        "Model B has the highest cross-validated likelihood, though the difference between model A and B is rather small."
      ]
    },
    {
      "cell_type": "markdown",
      "id": "89c72199",
      "metadata": {
        "id": "89c72199"
      },
      "source": [
        "# III.2. Model recovery"
      ]
    },
    {
      "cell_type": "markdown",
      "id": "14129e7e-b3b7-4302-bd63-0a41c7bdf20e",
      "metadata": {
        "id": "14129e7e-b3b7-4302-bd63-0a41c7bdf20e"
      },
      "source": [
        "To illustrate model recovery, here we will simulate behavior of three models: the null model, model A and model B.\n",
        "\n",
        "For each simulation, model parameters should be sampled randomly for each model.\n",
        "\n",
        "Each simulated data set will then be fit to each of the given models, to determine which model fit best (according to BIC). This process will be repeated 100 times (number of \"repetitions\" or \"counts\") to compute the confusion matrix."
      ]
    },
    {
      "cell_type": "markdown",
      "id": "76493104-47b5-4063-9b74-f7fd5815d7be",
      "metadata": {
        "id": "76493104-47b5-4063-9b74-f7fd5815d7be"
      },
      "source": [
        "## Confusion matrix"
      ]
    },
    {
      "cell_type": "markdown",
      "id": "cfba2bf7-f86a-469b-a0c1-e4f7cffd97d2",
      "metadata": {
        "id": "cfba2bf7-f86a-469b-a0c1-e4f7cffd97d2"
      },
      "source": [
        "Let's build a confusion matrix. It quantifies the probability that each model is the best fit to data generated from the other models. In a perfect world the confusion matrix will be the identity matrix, but in practice this is not always the case.\n",
        "\n",
        "How to read the confusion matrix? Given a winning model (a particular column), it tells you the likelihood of each ground-truth model (each row) to have generated the data (basically, the columns are more important than the rows).\n",
        "\n",
        "As pointed out in the lecture, it is crucial to choose the simulation parameters in the range of the fitted parameters. This is easy in this exercise because we know the true parameters. In practise we need to rely on our prior knowledge.\n",
        "\n",
        "**Complete the following code.**"
      ]
    },
    {
      "cell_type": "code",
      "execution_count": 19,
      "id": "b7fc68c1-bc73-4d33-a2d3-cd10393d9de9",
      "metadata": {
        "id": "b7fc68c1-bc73-4d33-a2d3-cd10393d9de9",
        "colab": {
          "base_uri": "https://localhost:8080/"
        },
        "outputId": "012745bb-ce26-49bd-f85b-97007516368d"
      },
      "outputs": [
        {
          "output_type": "stream",
          "name": "stderr",
          "text": [
            "/content/tutorial_1_lib.py:97: RuntimeWarning: invalid value encountered in log\n",
            "  LLH = np.sum(np.log(lh))\n"
          ]
        }
      ],
      "source": [
        "# make list of fitting functions to loop through\n",
        "funs = [fit_model0, fit_modelA, fit_modelB]\n",
        "\n",
        "# initialise your confusion matrix: 3 by 3 (for our 3 models).\n",
        "CM = np.zeros([len(funs),len(funs)])\n",
        "\n",
        "# Let's loop over number of repetitions\n",
        "Ncounts = 100    # start with 10, increase to 100 if everything works\n",
        "\n",
        "for i in range(Ncounts):\n",
        "\n",
        "    c = np.random.choice(a=['control', 'manipulation'], size=n) # condition\n",
        "    s = np.random.choice(a=stim_values, size=n) #stimulus evidence\n",
        "\n",
        "    #  simulate Model 0 with random sigma parameter (sampled from uniform [0.5,2.5])\n",
        "    sigma = 0.01 + 2 * np.random.uniform()\n",
        "    r = simulate_modelB(s, c, sigma_d=sigma, Lambda = 0)\n",
        "    df = pd.DataFrame({'stimulus': s, 'condition':c, 'response':r})\n",
        "    # fit models and get BIC\n",
        "    res = [f(df)[-1] for f in funs]\n",
        "    # select best model\n",
        "    CM[0,np.argmin(res)] += 1\n",
        "\n",
        "    #  simulate Model A with random sigma_d and sigma_m parameter\n",
        "    sigma_d = 0.01 + 1 * np.random.uniform()\n",
        "    sigma_m = sigma_d + (2-sigma_d) * np.random.uniform()\n",
        "    r = simulate_modelA(s, c, sigma_d=sigma_d, sigma_m = sigma_m)\n",
        "    df = pd.DataFrame({'stimulus': s, 'condition':c, 'response':r})\n",
        "    # fit models and get BIC\n",
        "    res = [f(df)[-1] for f in funs]\n",
        "    # select best model\n",
        "    CM[1,np.argmin(res)] += 1\n",
        "\n",
        "    #  simulate Model B with random sigma_d and lambda parameter\n",
        "    sigma_d = 0.1 + 2 * np.random.uniform()\n",
        "    Lambda = 0.01+0.95*np.random.uniform()\n",
        "    r = simulate_modelB(s, c, sigma_d=sigma_d, Lambda = Lambda)\n",
        "    df = pd.DataFrame({'stimulus': s, 'condition':c, 'response':r})\n",
        "    # fit models and get BIC\n",
        "    res = [f(df)[-1] for f in funs]\n",
        "    # select best model\n",
        "    CM[2,np.argmin(res)] += 1\n",
        "\n",
        "\n",
        "\n"
      ]
    },
    {
      "cell_type": "markdown",
      "id": "6eb0879e-b736-4f52-9a54-2b2e9effce16",
      "metadata": {
        "id": "6eb0879e-b736-4f52-9a54-2b2e9effce16"
      },
      "source": [
        "**Now, we normalize the confusion matrix and visualize it.**"
      ]
    },
    {
      "cell_type": "code",
      "execution_count": 20,
      "id": "13667153-8699-4cee-8dec-e8acdc7c6cec",
      "metadata": {
        "colab": {
          "base_uri": "https://localhost:8080/",
          "height": 394
        },
        "id": "13667153-8699-4cee-8dec-e8acdc7c6cec",
        "outputId": "7b9535c4-864e-454f-be2c-a8deee727c92"
      },
      "outputs": [
        {
          "output_type": "stream",
          "name": "stdout",
          "text": [
            "[[1.   0.   0.  ]\n",
            " [0.12 0.87 0.01]\n",
            " [0.05 0.09 0.86]]\n"
          ]
        },
        {
          "output_type": "display_data",
          "data": {
            "text/plain": [
              "<Figure size 400x400 with 2 Axes>"
            ],
            "image/png": "[encoded data removed]"
          },
          "metadata": {}
        }
      ],
      "source": [
        "\n",
        "# normalize confusion matrix\n",
        "CM_norm = np.array([c/Ncounts for c in CM])\n",
        "\n",
        "# plot and print values\n",
        "print(CM_norm)\n",
        "\n",
        "plt.figure(figsize=(4,4))\n",
        "plt.imshow(CM_norm, vmin=0, vmax=1, cmap='magma')\n",
        "plt.colorbar(shrink=0.8);\n",
        "\n",
        "# Add text annotations for each square\n",
        "for i in range(CM_norm.shape[0]):\n",
        "    for j in range(CM_norm.shape[1]):\n",
        "        plt.text(j, i, f\"{CM_norm[i, j]:.2f}\", ha=\"center\", va=\"center\", color=\"white\")\n",
        "\n",
        "plt.xlabel('fit model', fontsize=14)\n",
        "plt.ylabel('simulated model', fontsize=14)\n",
        "plt.xticks([0, 1, 2], [\"0\", \"A\", \"B\"], fontsize=14)\n",
        "plt.yticks([0, 1, 2], [\"0\", \"A\", \"B\"], fontsize=14)\n",
        "# plt.title(\"Confusion matrix\");\n",
        "\n",
        "plt.savefig(\"confusion_matrix\", dpi=300)"
      ]
    },
    {
      "cell_type": "markdown",
      "id": "212227e9-56ad-4643-ac0a-98911a30b8bc",
      "metadata": {
        "id": "212227e9-56ad-4643-ac0a-98911a30b8bc"
      },
      "source": [
        "- Does your confusion matrix have large off-diagonal components? If so, this indicates that you have a problem with model recovery.\n",
        "\n",
        "- How do changes in the generating parameters affect the confusion matrix?\n",
        "\n",
        "You can observe that the confusion matrix can be so dependent on the simulating parameter values means that it is crucial to match the simulation parameters to the actual fit parameters of your actual behavioral data (when you have some) as best as possible. Models that are identifiable in one parameter regime may be impossible to distinguish in another regime.\n",
        "\n",
        "A final note to remember: As with all model comparisons, it only tells you which model fits best of the models you considered. In and of itself, this is rather limited information as there are infinitely many other models that you did not consider. This makes it imperative to start with a good set of models initially, that rigorously capture the competing hypotheses."
      ]
    },
    {
      "cell_type": "markdown",
      "id": "03257c62-d627-4b0c-8a1e-515d058a2de2",
      "metadata": {
        "id": "03257c62-d627-4b0c-8a1e-515d058a2de2"
      },
      "source": [
        "## Inversion matrix"
      ]
    },
    {
      "cell_type": "markdown",
      "id": "e368f4d3-2230-4925-b72f-40e3de9573dd",
      "metadata": {
        "id": "e368f4d3-2230-4925-b72f-40e3de9573dd"
      },
      "source": [
        "Can you arbitrate between different models? The inversion matrix is usful for this purpose. It is defined as\n",
        "$p(simulated model | fit model)$, the probability that data best fit by one model were actually\n",
        "generated from another model. This can be readily computed from the\n",
        "confusion matrix, $p(fit model | simulated model)$, by Bayes rule.\n",
        "\n",
        "For a uniform prior on models, computing the inversion matrix amounts to renormalizing\n",
        "the confusion matrix over the simulated models.\n"
      ]
    },
    {
      "cell_type": "code",
      "execution_count": 21,
      "id": "4d822115-9c52-489d-9576-429bdec60776",
      "metadata": {
        "colab": {
          "base_uri": "https://localhost:8080/",
          "height": 394
        },
        "id": "4d822115-9c52-489d-9576-429bdec60776",
        "outputId": "41c787a2-4542-43f0-b488-43d50252f5df"
      },
      "outputs": [
        {
          "output_type": "stream",
          "name": "stdout",
          "text": [
            "[[0.85470085 0.         0.        ]\n",
            " [0.1025641  0.90625    0.01149425]\n",
            " [0.04273504 0.09375    0.98850575]]\n"
          ]
        },
        {
          "output_type": "display_data",
          "data": {
            "text/plain": [
              "<Figure size 400x400 with 2 Axes>"
            ],
            "image/png": "[encoded data removed]"
          },
          "metadata": {}
        }
      ],
      "source": [
        "\n",
        "# compute inversion matrix\n",
        "INV = CM_norm/(np.array([1,1,1])@CM_norm)\n",
        "\n",
        "\n",
        "# plot and print values\n",
        "print(INV)\n",
        "\n",
        "plt.figure(figsize=(4,4))\n",
        "plt.imshow(INV, vmin=0, vmax=1, cmap='magma')\n",
        "plt.colorbar(shrink=0.8);\n",
        "\n",
        "# Add text annotations for each square\n",
        "for i in range(INV.shape[0]):\n",
        "    for j in range(INV.shape[1]):\n",
        "        plt.text(j, i, f\"{INV[i, j]:.2f}\", ha=\"center\", va=\"center\", color=\"white\")\n",
        "\n",
        "plt.xlabel('fit model', fontsize=14)\n",
        "plt.ylabel('simulated model', fontsize=14)\n",
        "plt.xticks([0, 1, 2], [\"0\", \"A\", \"B\"], fontsize=14)\n",
        "plt.yticks([0, 1, 2], [\"0\", \"A\", \"B\"], fontsize=14)\n",
        "# plt.title(\"Inversion matrix\");\n",
        "\n",
        "plt.savefig(\"inverse_confusion_matrix\", dpi=300)"
      ]
    },
    {
      "cell_type": "code",
      "execution_count": 11,
      "id": "bb1fd9cb-d01b-4557-89e3-dc6d263c4662",
      "metadata": {
        "id": "bb1fd9cb-d01b-4557-89e3-dc6d263c4662"
      },
      "outputs": [],
      "source": []
    }
  ],
  "metadata": {
    "kernelspec": {
      "display_name": "Python 3 (ipykernel)",
      "language": "python",
      "name": "python3"
    },
    "language_info": {
      "codemirror_mode": {
        "name": "ipython",
        "version": 3
      },
      "file_extension": ".py",
      "mimetype": "text/x-python",
      "name": "python",
      "nbconvert_exporter": "python",
      "pygments_lexer": "ipython3",
      "version": "3.9.13"
    },
    "colab": {
      "provenance": []
    }
  },
  "nbformat": 4,
  "nbformat_minor": 5
}